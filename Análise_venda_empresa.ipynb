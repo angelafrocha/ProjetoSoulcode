{
  "nbformat": 4,
  "nbformat_minor": 0,
  "metadata": {
    "colab": {
      "provenance": [],
      "authorship_tag": "ABX9TyMCy1YkpcfSLmPTRPrMQinm",
      "include_colab_link": true
    },
    "kernelspec": {
      "name": "python3",
      "display_name": "Python 3"
    },
    "language_info": {
      "name": "python"
    }
  },
  "cells": [
    {
      "cell_type": "markdown",
      "metadata": {
        "id": "view-in-github",
        "colab_type": "text"
      },
      "source": [
        "<a href=\"https://colab.research.google.com/github/angelafrocha/ProjetoSoulcode/blob/main/An%C3%A1lise_venda_empresa.ipynb\" target=\"_parent\"><img src=\"https://colab.research.google.com/assets/colab-badge.svg\" alt=\"Open In Colab\"/></a>"
      ]
    },
    {
      "cell_type": "markdown",
      "source": [
        "#Análise de vendas das empresas"
      ],
      "metadata": {
        "id": "kJba8uPlfDvd"
      }
    },
    {
      "cell_type": "code",
      "execution_count": null,
      "metadata": {
        "colab": {
          "base_uri": "https://localhost:8080/"
        },
        "id": "9RM6w_qOe5rI",
        "outputId": "b57cd855-3fd8-4341-c74b-d40698ceb0b0"
      },
      "outputs": [
        {
          "output_type": "stream",
          "name": "stdout",
          "text": [
            "Looking in indexes: https://pypi.org/simple, https://us-python.pkg.dev/colab-wheels/public/simple/\n",
            "Collecting pyspark\n",
            "  Downloading pyspark-3.4.0.tar.gz (310.8 MB)\n",
            "\u001b[2K     \u001b[90m━━━━━━━━━━━━━━━━━━━━━━━━━━━━━━━━━━━━━━━\u001b[0m \u001b[32m310.8/310.8 MB\u001b[0m \u001b[31m4.5 MB/s\u001b[0m eta \u001b[36m0:00:00\u001b[0m\n",
            "\u001b[?25h  Preparing metadata (setup.py) ... \u001b[?25l\u001b[?25hdone\n",
            "Requirement already satisfied: py4j==0.10.9.7 in /usr/local/lib/python3.10/dist-packages (from pyspark) (0.10.9.7)\n",
            "Building wheels for collected packages: pyspark\n",
            "  Building wheel for pyspark (setup.py) ... \u001b[?25l\u001b[?25hdone\n",
            "  Created wheel for pyspark: filename=pyspark-3.4.0-py2.py3-none-any.whl size=311317145 sha256=630599a5cdefaf14a46e9470393eb749748a475d476c82be8caa6d1526779ad6\n",
            "  Stored in directory: /root/.cache/pip/wheels/7b/1b/4b/3363a1d04368e7ff0d408e57ff57966fcdf00583774e761327\n",
            "Successfully built pyspark\n",
            "Installing collected packages: pyspark\n",
            "Successfully installed pyspark-3.4.0\n"
          ]
        }
      ],
      "source": [
        "!pip install pyspark"
      ]
    },
    {
      "cell_type": "code",
      "source": [
        "!pip install gcsfs"
      ],
      "metadata": {
        "colab": {
          "base_uri": "https://localhost:8080/"
        },
        "id": "rfs7MKQ_fSFe",
        "outputId": "1202cbf8-49ad-4542-cb53-112a220d65dd"
      },
      "execution_count": null,
      "outputs": [
        {
          "output_type": "stream",
          "name": "stdout",
          "text": [
            "Looking in indexes: https://pypi.org/simple, https://us-python.pkg.dev/colab-wheels/public/simple/\n",
            "Collecting gcsfs\n",
            "  Downloading gcsfs-2023.4.0-py2.py3-none-any.whl (26 kB)\n",
            "Requirement already satisfied: google-auth-oauthlib in /usr/local/lib/python3.10/dist-packages (from gcsfs) (1.0.0)\n",
            "Collecting aiohttp!=4.0.0a0,!=4.0.0a1\n",
            "  Downloading aiohttp-3.8.4-cp310-cp310-manylinux_2_17_x86_64.manylinux2014_x86_64.whl (1.0 MB)\n",
            "\u001b[2K     \u001b[90m━━━━━━━━━━━━━━━━━━━━━━━━━━━━━━━━━━━━━━━━\u001b[0m \u001b[32m1.0/1.0 MB\u001b[0m \u001b[31m59.0 MB/s\u001b[0m eta \u001b[36m0:00:00\u001b[0m\n",
            "\u001b[?25hRequirement already satisfied: google-auth>=1.2 in /usr/local/lib/python3.10/dist-packages (from gcsfs) (2.17.3)\n",
            "Requirement already satisfied: google-cloud-storage in /usr/local/lib/python3.10/dist-packages (from gcsfs) (2.8.0)\n",
            "Requirement already satisfied: requests in /usr/local/lib/python3.10/dist-packages (from gcsfs) (2.27.1)\n",
            "Requirement already satisfied: fsspec==2023.4.0 in /usr/local/lib/python3.10/dist-packages (from gcsfs) (2023.4.0)\n",
            "Requirement already satisfied: decorator>4.1.2 in /usr/local/lib/python3.10/dist-packages (from gcsfs) (4.4.2)\n",
            "Collecting multidict<7.0,>=4.5\n",
            "  Downloading multidict-6.0.4-cp310-cp310-manylinux_2_17_x86_64.manylinux2014_x86_64.whl (114 kB)\n",
            "\u001b[2K     \u001b[90m━━━━━━━━━━━━━━━━━━━━━━━━━━━━━━━━━━━━━━\u001b[0m \u001b[32m114.5/114.5 kB\u001b[0m \u001b[31m13.2 MB/s\u001b[0m eta \u001b[36m0:00:00\u001b[0m\n",
            "\u001b[?25hRequirement already satisfied: attrs>=17.3.0 in /usr/local/lib/python3.10/dist-packages (from aiohttp!=4.0.0a0,!=4.0.0a1->gcsfs) (23.1.0)\n",
            "Collecting async-timeout<5.0,>=4.0.0a3\n",
            "  Downloading async_timeout-4.0.2-py3-none-any.whl (5.8 kB)\n",
            "Collecting frozenlist>=1.1.1\n",
            "  Downloading frozenlist-1.3.3-cp310-cp310-manylinux_2_5_x86_64.manylinux1_x86_64.manylinux_2_17_x86_64.manylinux2014_x86_64.whl (149 kB)\n",
            "\u001b[2K     \u001b[90m━━━━━━━━━━━━━━━━━━━━━━━━━━━━━━━━━━━━━━\u001b[0m \u001b[32m149.6/149.6 kB\u001b[0m \u001b[31m17.7 MB/s\u001b[0m eta \u001b[36m0:00:00\u001b[0m\n",
            "\u001b[?25hCollecting aiosignal>=1.1.2\n",
            "  Downloading aiosignal-1.3.1-py3-none-any.whl (7.6 kB)\n",
            "Requirement already satisfied: charset-normalizer<4.0,>=2.0 in /usr/local/lib/python3.10/dist-packages (from aiohttp!=4.0.0a0,!=4.0.0a1->gcsfs) (2.0.12)\n",
            "Collecting yarl<2.0,>=1.0\n",
            "  Downloading yarl-1.9.2-cp310-cp310-manylinux_2_17_x86_64.manylinux2014_x86_64.whl (268 kB)\n",
            "\u001b[2K     \u001b[90m━━━━━━━━━━━━━━━━━━━━━━━━━━━━━━━━━━━━━\u001b[0m \u001b[32m268.8/268.8 kB\u001b[0m \u001b[31m901.4 kB/s\u001b[0m eta \u001b[36m0:00:00\u001b[0m\n",
            "\u001b[?25hRequirement already satisfied: rsa<5,>=3.1.4 in /usr/local/lib/python3.10/dist-packages (from google-auth>=1.2->gcsfs) (4.9)\n",
            "Requirement already satisfied: pyasn1-modules>=0.2.1 in /usr/local/lib/python3.10/dist-packages (from google-auth>=1.2->gcsfs) (0.3.0)\n",
            "Requirement already satisfied: cachetools<6.0,>=2.0.0 in /usr/local/lib/python3.10/dist-packages (from google-auth>=1.2->gcsfs) (5.3.0)\n",
            "Requirement already satisfied: six>=1.9.0 in /usr/local/lib/python3.10/dist-packages (from google-auth>=1.2->gcsfs) (1.16.0)\n",
            "Requirement already satisfied: requests-oauthlib>=0.7.0 in /usr/local/lib/python3.10/dist-packages (from google-auth-oauthlib->gcsfs) (1.3.1)\n",
            "Requirement already satisfied: google-resumable-media>=2.3.2 in /usr/local/lib/python3.10/dist-packages (from google-cloud-storage->gcsfs) (2.5.0)\n",
            "Requirement already satisfied: google-cloud-core<3.0dev,>=2.3.0 in /usr/local/lib/python3.10/dist-packages (from google-cloud-storage->gcsfs) (2.3.2)\n",
            "Requirement already satisfied: google-api-core!=2.0.*,!=2.1.*,!=2.2.*,!=2.3.0,<3.0.0dev,>=1.31.5 in /usr/local/lib/python3.10/dist-packages (from google-cloud-storage->gcsfs) (2.11.0)\n",
            "Requirement already satisfied: urllib3<1.27,>=1.21.1 in /usr/local/lib/python3.10/dist-packages (from requests->gcsfs) (1.26.15)\n",
            "Requirement already satisfied: certifi>=2017.4.17 in /usr/local/lib/python3.10/dist-packages (from requests->gcsfs) (2022.12.7)\n",
            "Requirement already satisfied: idna<4,>=2.5 in /usr/local/lib/python3.10/dist-packages (from requests->gcsfs) (3.4)\n",
            "Requirement already satisfied: protobuf!=3.20.0,!=3.20.1,!=4.21.0,!=4.21.1,!=4.21.2,!=4.21.3,!=4.21.4,!=4.21.5,<5.0.0dev,>=3.19.5 in /usr/local/lib/python3.10/dist-packages (from google-api-core!=2.0.*,!=2.1.*,!=2.2.*,!=2.3.0,<3.0.0dev,>=1.31.5->google-cloud-storage->gcsfs) (3.20.3)\n",
            "Requirement already satisfied: googleapis-common-protos<2.0dev,>=1.56.2 in /usr/local/lib/python3.10/dist-packages (from google-api-core!=2.0.*,!=2.1.*,!=2.2.*,!=2.3.0,<3.0.0dev,>=1.31.5->google-cloud-storage->gcsfs) (1.59.0)\n",
            "Requirement already satisfied: google-crc32c<2.0dev,>=1.0 in /usr/local/lib/python3.10/dist-packages (from google-resumable-media>=2.3.2->google-cloud-storage->gcsfs) (1.5.0)\n",
            "Requirement already satisfied: pyasn1<0.6.0,>=0.4.6 in /usr/local/lib/python3.10/dist-packages (from pyasn1-modules>=0.2.1->google-auth>=1.2->gcsfs) (0.5.0)\n",
            "Requirement already satisfied: oauthlib>=3.0.0 in /usr/local/lib/python3.10/dist-packages (from requests-oauthlib>=0.7.0->google-auth-oauthlib->gcsfs) (3.2.2)\n",
            "Installing collected packages: multidict, frozenlist, async-timeout, yarl, aiosignal, aiohttp, gcsfs\n",
            "Successfully installed aiohttp-3.8.4 aiosignal-1.3.1 async-timeout-4.0.2 frozenlist-1.3.3 gcsfs-2023.4.0 multidict-6.0.4 yarl-1.9.2\n"
          ]
        }
      ]
    },
    {
      "cell_type": "code",
      "source": [
        "!pip install matplotlib"
      ],
      "metadata": {
        "colab": {
          "base_uri": "https://localhost:8080/"
        },
        "id": "lurd-xQn0JQt",
        "outputId": "7c2d4f1e-5428-47a9-e710-00dd00181f8b"
      },
      "execution_count": null,
      "outputs": [
        {
          "output_type": "stream",
          "name": "stdout",
          "text": [
            "Looking in indexes: https://pypi.org/simple, https://us-python.pkg.dev/colab-wheels/public/simple/\n",
            "Requirement already satisfied: matplotlib in /usr/local/lib/python3.10/dist-packages (3.7.1)\n",
            "Requirement already satisfied: cycler>=0.10 in /usr/local/lib/python3.10/dist-packages (from matplotlib) (0.11.0)\n",
            "Requirement already satisfied: pyparsing>=2.3.1 in /usr/local/lib/python3.10/dist-packages (from matplotlib) (3.0.9)\n",
            "Requirement already satisfied: numpy>=1.20 in /usr/local/lib/python3.10/dist-packages (from matplotlib) (1.22.4)\n",
            "Requirement already satisfied: kiwisolver>=1.0.1 in /usr/local/lib/python3.10/dist-packages (from matplotlib) (1.4.4)\n",
            "Requirement already satisfied: contourpy>=1.0.1 in /usr/local/lib/python3.10/dist-packages (from matplotlib) (1.0.7)\n",
            "Requirement already satisfied: python-dateutil>=2.7 in /usr/local/lib/python3.10/dist-packages (from matplotlib) (2.8.2)\n",
            "Requirement already satisfied: fonttools>=4.22.0 in /usr/local/lib/python3.10/dist-packages (from matplotlib) (4.39.3)\n",
            "Requirement already satisfied: packaging>=20.0 in /usr/local/lib/python3.10/dist-packages (from matplotlib) (23.1)\n",
            "Requirement already satisfied: pillow>=6.2.0 in /usr/local/lib/python3.10/dist-packages (from matplotlib) (8.4.0)\n",
            "Requirement already satisfied: six>=1.5 in /usr/local/lib/python3.10/dist-packages (from python-dateutil>=2.7->matplotlib) (1.16.0)\n"
          ]
        }
      ]
    },
    {
      "cell_type": "code",
      "source": [
        "from pyspark.sql import SparkSession\n",
        "from pyspark.sql.types import FloatType, DateType\n",
        "from pyspark.sql.functions import to_date, date_format\n",
        "import pyspark.sql.functions as F\n",
        "import pandas as pd\n",
        "import numpy as np\n",
        "import matplotlib.pyplot as plt\n",
        "import seaborn as sns\n",
        "import warnings\n",
        "from google.cloud import storage\n",
        "import os\n",
        "warnings.filterwarnings(\"ignore\")\n",
        "from pyspark.sql.window import Window\n",
        "from pyspark.sql.functions import desc, row_number"
      ],
      "metadata": {
        "id": "1iGF19MjfWGt"
      },
      "execution_count": null,
      "outputs": []
    },
    {
      "cell_type": "code",
      "source": [
        "# Congigurando chave GCP\n",
        "\n",
        "#CONFIGURAR A CHAVE do google cloud\n",
        "serviceAccount = '/content/spry-ether-382812-774986df1787.json'\n",
        "os.environ['GOOGLE_APPLICATION_CREDENTIALS'] = serviceAccount"
      ],
      "metadata": {
        "id": "Hq9JYQjFfZMF"
      },
      "execution_count": null,
      "outputs": []
    },
    {
      "cell_type": "code",
      "source": [
        "#Acessando a bucket criada\n",
        "client = storage.Client()\n",
        "\n",
        "bucket = client.get_bucket('projetofinal1')\n",
        "\n",
        "bucket.blob('venda_empresa.csv')\n",
        "\n",
        "path = 'gs://projetofinal1/tratados/venda_empresa.csv'\n"
      ],
      "metadata": {
        "id": "Z5QdAuNNfaJR"
      },
      "execution_count": null,
      "outputs": []
    },
    {
      "cell_type": "code",
      "source": [
        "#Criando uma sessão spark\n",
        "spark = (SparkSession.builder\n",
        "                     .master('local')\n",
        "                     .appName('veiculos')\n",
        "                     .config('spark.ui.port', '4050')\n",
        "                     .config(\"spark.jars\", 'https://storage.googleapis.com/hadoop-lib/gcs/gcs-connector-hadoop2-latest.jar')\n",
        "                     .getOrCreate())"
      ],
      "metadata": {
        "id": "OzipICIygXn7"
      },
      "execution_count": null,
      "outputs": []
    },
    {
      "cell_type": "code",
      "source": [
        "spark"
      ],
      "metadata": {
        "colab": {
          "base_uri": "https://localhost:8080/",
          "height": 219
        },
        "id": "zXv3toiXh7g7",
        "outputId": "a52302c2-6d11-4b0a-cd8d-a0767ed91034"
      },
      "execution_count": null,
      "outputs": [
        {
          "output_type": "execute_result",
          "data": {
            "text/plain": [
              "<pyspark.sql.session.SparkSession at 0x7fee2ceb4100>"
            ],
            "text/html": [
              "\n",
              "            <div>\n",
              "                <p><b>SparkSession - in-memory</b></p>\n",
              "                \n",
              "        <div>\n",
              "            <p><b>SparkContext</b></p>\n",
              "\n",
              "            <p><a href=\"http://d9066c8a3986:4050\">Spark UI</a></p>\n",
              "\n",
              "            <dl>\n",
              "              <dt>Version</dt>\n",
              "                <dd><code>v3.4.0</code></dd>\n",
              "              <dt>Master</dt>\n",
              "                <dd><code>local</code></dd>\n",
              "              <dt>AppName</dt>\n",
              "                <dd><code>veiculos</code></dd>\n",
              "            </dl>\n",
              "        </div>\n",
              "        \n",
              "            </div>\n",
              "        "
            ]
          },
          "metadata": {},
          "execution_count": 10
        }
      ]
    },
    {
      "cell_type": "code",
      "source": [
        "df = (\n",
        "    spark.read\n",
        "         .format('csv')\n",
        "         .option('delimiter', ',')\n",
        "         .option('header', 'true')\n",
        "         .option('inferschema', 'true')\n",
        "         .option('encoding','utf-8')\n",
        "         .option('escape','\"')\n",
        "         .load('gs://projetofinal1/tratados/venda_empresa.csv')\n",
        ")"
      ],
      "metadata": {
        "id": "mAlvoONDgl2e"
      },
      "execution_count": null,
      "outputs": []
    },
    {
      "cell_type": "code",
      "source": [
        "pd.set_option('display.max_columns',100)"
      ],
      "metadata": {
        "id": "LEgtJ4jzh_-K"
      },
      "execution_count": null,
      "outputs": []
    },
    {
      "cell_type": "markdown",
      "source": [
        "Análise:"
      ],
      "metadata": {
        "id": "Dz26Z01fh9hz"
      }
    },
    {
      "cell_type": "code",
      "source": [
        "df.show()"
      ],
      "metadata": {
        "colab": {
          "base_uri": "https://localhost:8080/"
        },
        "id": "mUAC5APyhYZh",
        "outputId": "141b30df-8607-4d29-be0b-4bfb0679645f"
      },
      "execution_count": null,
      "outputs": [
        {
          "output_type": "stream",
          "name": "stdout",
          "text": [
            "+----------------+------------+----------+----+\n",
            "|      nome_marca|qtd_veiculos|   mes_ano| ano|\n",
            "+----------------+------------+----------+----+\n",
            "|            Audi|       677.0|2018-01-01|2018|\n",
            "|             BMW|       757.0|2018-01-01|2018|\n",
            "|            Mini|       143.0|2018-01-01|2018|\n",
            "|      Caoa Chery|       397.0|2018-01-01|2018|\n",
            "|         Hyundai|      1381.0|2018-01-01|2018|\n",
            "|          Subaru|        63.0|2018-01-01|2018|\n",
            "|        Chrysler|         0.0|2018-01-01|2018|\n",
            "|           Dodge|        29.0|2018-01-01|2018|\n",
            "|            Fiat|     13361.0|2018-01-01|2018|\n",
            "|            Jeep|      7065.0|2018-01-01|2018|\n",
            "|            Ford|     14972.0|2018-01-01|2018|\n",
            "|  General Motors|     30246.0|2018-01-01|2018|\n",
            "|Honda Automóveis|     10072.0|2018-01-01|2018|\n",
            "|      Mitsubishi|       864.0|2018-01-01|2018|\n",
            "|          Suzuki|       401.0|2018-01-01|2018|\n",
            "|   Hyundai Motor|     12962.0|2018-01-01|2018|\n",
            "|          Jaguar|       102.0|2018-01-01|2018|\n",
            "|      Land Rover|       508.0|2018-01-01|2018|\n",
            "|        Mahindra|         0.0|2018-01-01|2018|\n",
            "|   Mercedes-Benz|       827.0|2018-01-01|2018|\n",
            "+----------------+------------+----------+----+\n",
            "only showing top 20 rows\n",
            "\n"
          ]
        }
      ]
    },
    {
      "cell_type": "code",
      "source": [
        "df.printSchema()"
      ],
      "metadata": {
        "colab": {
          "base_uri": "https://localhost:8080/"
        },
        "id": "zh0NTqh9rjiM",
        "outputId": "22ccba69-a649-4c0a-f2f9-c7fa91aaadff"
      },
      "execution_count": null,
      "outputs": [
        {
          "output_type": "stream",
          "name": "stdout",
          "text": [
            "root\n",
            " |-- nome_marca: string (nullable = true)\n",
            " |-- qtd_veiculos: double (nullable = true)\n",
            " |-- mes_ano: date (nullable = true)\n",
            " |-- ano: integer (nullable = true)\n",
            "\n"
          ]
        }
      ]
    },
    {
      "cell_type": "code",
      "source": [
        "#SHAPE\n",
        "print(f'({df.count()}, {len(df.columns)})')"
      ],
      "metadata": {
        "colab": {
          "base_uri": "https://localhost:8080/"
        },
        "id": "GTDDYDR3rotF",
        "outputId": "fbf54b57-3227-420a-f9a1-86749443cbb9"
      },
      "execution_count": null,
      "outputs": [
        {
          "output_type": "stream",
          "name": "stdout",
          "text": [
            "(1749, 4)\n"
          ]
        }
      ]
    },
    {
      "cell_type": "code",
      "source": [
        "# Passando a coluna de quantidade de veículos para inteiro\n",
        "df = df.withColumn(\"qtd_veiculos\", F.col(\"qtd_veiculos\").cast(\"integer\"))"
      ],
      "metadata": {
        "id": "zoyFAuojsUnK"
      },
      "execution_count": null,
      "outputs": []
    },
    {
      "cell_type": "code",
      "source": [
        "df.printSchema()"
      ],
      "metadata": {
        "colab": {
          "base_uri": "https://localhost:8080/"
        },
        "id": "CoeNCxXQs1mO",
        "outputId": "87262f45-1f30-45ae-a5c6-9dc8847d14e7"
      },
      "execution_count": null,
      "outputs": [
        {
          "output_type": "stream",
          "name": "stdout",
          "text": [
            "root\n",
            " |-- nome_marca: string (nullable = true)\n",
            " |-- qtd_veiculos: integer (nullable = true)\n",
            " |-- mes_ano: date (nullable = true)\n",
            " |-- ano: integer (nullable = true)\n",
            "\n"
          ]
        }
      ]
    },
    {
      "cell_type": "code",
      "source": [
        "# VERIFICAÇÃO DAS VARIÁVEIS (média, mediana, valor mínimo, valor máximo)\n",
        "lista_colunas = ['qtd_veiculos','ano']\n",
        "df.select(lista_colunas).summary().show()"
      ],
      "metadata": {
        "colab": {
          "base_uri": "https://localhost:8080/"
        },
        "id": "2wspsKugrsWB",
        "outputId": "7f038e16-b883-4834-e5c9-32e864ee4e0e"
      },
      "execution_count": null,
      "outputs": [
        {
          "output_type": "stream",
          "name": "stdout",
          "text": [
            "+-------+-----------------+------------------+\n",
            "|summary|     qtd_veiculos|               ano|\n",
            "+-------+-----------------+------------------+\n",
            "|  count|             1749|              1749|\n",
            "|   mean|5409.531732418525|2020.0977701543738|\n",
            "| stddev|8067.503132056963|  1.52632905352494|\n",
            "|    min|                0|              2018|\n",
            "|    25%|              148|              2019|\n",
            "|    50%|             1063|              2020|\n",
            "|    75%|             9357|              2021|\n",
            "|    max|            41349|              2023|\n",
            "+-------+-----------------+------------------+\n",
            "\n"
          ]
        }
      ]
    },
    {
      "cell_type": "code",
      "source": [
        "# Quais as marcas mais vendidas?\n",
        "df.groupBy('nome_marca').agg(F.sum('qtd_veiculos').alias('total_vendido')).orderBy(F.desc('total_vendido')).show()\n"
      ],
      "metadata": {
        "colab": {
          "base_uri": "https://localhost:8080/"
        },
        "id": "r_pNwdTEueWf",
        "outputId": "2efa2a79-6dfa-48a1-92ab-871841175564"
      },
      "execution_count": null,
      "outputs": [
        {
          "output_type": "stream",
          "name": "stdout",
          "text": [
            "+----------------+-------------+\n",
            "|      nome_marca|total_vendido|\n",
            "+----------------+-------------+\n",
            "|  General Motors|      1655643|\n",
            "|      Volkswagen|      1496127|\n",
            "|            Fiat|      1076346|\n",
            "|   Hyundai Motor|       936542|\n",
            "|         Renault|       762535|\n",
            "|          Toyota|       742748|\n",
            "|            Jeep|       664564|\n",
            "|            Ford|       542691|\n",
            "|Honda Automóveis|       497199|\n",
            "|          Nissan|       343544|\n",
            "|      Caoa Chery|       128005|\n",
            "|         Peugeot|       114822|\n",
            "|         Citroën|       109329|\n",
            "| Outras empresas|        98934|\n",
            "|             BMW|        68188|\n",
            "|      Mitsubishi|        46253|\n",
            "|         Hyundai|        37478|\n",
            "|            Audi|        37460|\n",
            "|      Land Rover|        26995|\n",
            "|   Mercedes-Benz|        22231|\n",
            "+----------------+-------------+\n",
            "only showing top 20 rows\n",
            "\n"
          ]
        }
      ]
    },
    {
      "cell_type": "code",
      "source": [
        "# marcas mais vendidas\n",
        "df_top_vendas = df.groupBy('nome_marca').agg(F.sum('qtd_veiculos').alias('total_vendido')).orderBy(F.desc('total_vendido')).limit(10)\n",
        "\n",
        "df_plot = df_top_vendas.toPandas()\n",
        "\n",
        "df_plot.plot(kind='bar', x='nome_marca', y='total_vendido')\n",
        "\n",
        "plt.show()"
      ],
      "metadata": {
        "colab": {
          "base_uri": "https://localhost:8080/",
          "height": 582
        },
        "id": "pILc0FNBDff6",
        "outputId": "5adb2ff9-51f3-4674-e518-f42fc754a297"
      },
      "execution_count": null,
      "outputs": [
        {
          "output_type": "display_data",
          "data": {
            "text/plain": [
              "<Figure size 640x480 with 1 Axes>"
            ],
            "image/png": "[encoded data removed]"
          },
          "metadata": {}
        }
      ]
    },
    {
      "cell_type": "code",
      "source": [
        "# Qual ano com mais vendas?\n",
        "df.groupBy('ano').agg(F.sum('qtd_veiculos').alias('total_vendido')).orderBy(F.desc('total_vendido')).show()"
      ],
      "metadata": {
        "colab": {
          "base_uri": "https://localhost:8080/"
        },
        "id": "qg2YY_BNvW3Q",
        "outputId": "9697a04e-8aa1-4a64-d7cf-f21951818be7"
      },
      "execution_count": null,
      "outputs": [
        {
          "output_type": "stream",
          "name": "stdout",
          "text": [
            "+----+-------------+\n",
            "| ano|total_vendido|\n",
            "+----+-------------+\n",
            "|2019|      2262073|\n",
            "|2018|      2102114|\n",
            "|2020|      1615942|\n",
            "|2022|      1576666|\n",
            "|2021|      1558467|\n",
            "|2023|       346009|\n",
            "+----+-------------+\n",
            "\n"
          ]
        }
      ]
    },
    {
      "cell_type": "code",
      "source": [
        "#Ordenado pelo ano\n",
        "df.groupBy('ano').agg(F.sum('qtd_veiculos').alias('total_vendido')).orderBy(F.desc('ano')).show()"
      ],
      "metadata": {
        "colab": {
          "base_uri": "https://localhost:8080/"
        },
        "id": "jtu4JX-iyiit",
        "outputId": "cdc6672a-4421-4b59-ef6b-55b53a0511dd"
      },
      "execution_count": null,
      "outputs": [
        {
          "output_type": "stream",
          "name": "stdout",
          "text": [
            "+----+-------------+\n",
            "| ano|total_vendido|\n",
            "+----+-------------+\n",
            "|2023|       346009|\n",
            "|2022|      1576666|\n",
            "|2021|      1558467|\n",
            "|2020|      1615942|\n",
            "|2019|      2262073|\n",
            "|2018|      2102114|\n",
            "+----+-------------+\n",
            "\n"
          ]
        }
      ]
    },
    {
      "cell_type": "code",
      "source": [
        "# Vendas/ano\n",
        "df_plot1 = df.groupBy('ano').agg(F.sum('qtd_veiculos').alias('total_vendido')).orderBy(F.desc('ano')).toPandas()\n",
        "\n",
        "# gerando o gráfico de barras\n",
        "plt.bar(df_plot1['ano'], df_plot1['total_vendido'])\n",
        "plt.xlabel('Ano')\n",
        "plt.ylabel('Total vendido')\n",
        "plt.title('Vendas de veículos por ano')\n",
        "plt.show()"
      ],
      "metadata": {
        "colab": {
          "base_uri": "https://localhost:8080/",
          "height": 472
        },
        "id": "_7_rCESzzNTX",
        "outputId": "a5f50d6c-cd6d-49eb-c2cc-a976a2bac564"
      },
      "execution_count": null,
      "outputs": [
        {
          "output_type": "display_data",
          "data": {
            "text/plain": [
              "<Figure size 640x480 with 1 Axes>"
            ],
            "image/png": "[encoded data removed]"
          },
          "metadata": {}
        }
      ]
    },
    {
      "cell_type": "code",
      "source": [
        "# 10 marcas mais vendidas em 2020\n",
        "df.filter(df.ano == 2020).groupBy('nome_marca').agg(F.sum('qtd_veiculos').alias('total_vendido')).orderBy(F.desc('total_vendido')).show(10)"
      ],
      "metadata": {
        "colab": {
          "base_uri": "https://localhost:8080/"
        },
        "id": "k_9Hvzhu0sx9",
        "outputId": "2533c5ad-4378-4921-a1a9-560147c7acbd"
      },
      "execution_count": null,
      "outputs": [
        {
          "output_type": "stream",
          "name": "stdout",
          "text": [
            "+----------------+-------------+\n",
            "|      nome_marca|total_vendido|\n",
            "+----------------+-------------+\n",
            "|  General Motors|       305285|\n",
            "|      Volkswagen|       286114|\n",
            "|            Fiat|       165873|\n",
            "|   Hyundai Motor|       158294|\n",
            "|         Renault|       120016|\n",
            "|            Ford|       119454|\n",
            "|            Jeep|       110163|\n",
            "|          Toyota|       105485|\n",
            "|Honda Automóveis|        84129|\n",
            "|          Nissan|        52940|\n",
            "+----------------+-------------+\n",
            "only showing top 10 rows\n",
            "\n"
          ]
        }
      ]
    },
    {
      "cell_type": "code",
      "source": [
        "# Gráfico 10 mais vendidos de 2020\n",
        "df_vendas_2018 = df.filter(df.ano == 2020).groupBy('nome_marca').agg(F.sum('qtd_veiculos').alias('total_vendido')).orderBy(F.desc('total_vendido')).limit(10)\n",
        "\n",
        "df_plot2 = df_vendas_2018.toPandas()\n",
        "\n",
        "df_plot2.plot(kind='bar', x='nome_marca', y='total_vendido')\n",
        "\n",
        "plt.show()"
      ],
      "metadata": {
        "colab": {
          "base_uri": "https://localhost:8080/",
          "height": 567
        },
        "id": "F3VRC-3D9Qjq",
        "outputId": "72e4613b-a382-4b99-e715-2f625f418396"
      },
      "execution_count": null,
      "outputs": [
        {
          "output_type": "display_data",
          "data": {
            "text/plain": [
              "<Figure size 640x480 with 1 Axes>"
            ],
            "image/png": "[encoded data removed]"
          },
          "metadata": {}
        }
      ]
    },
    {
      "cell_type": "code",
      "source": [
        "# 10 marcas mais vendidas em 2021\n",
        "df.filter(df.ano == 2021).groupBy('nome_marca').agg(F.sum('qtd_veiculos').alias('total_vendido')).orderBy(F.desc('total_vendido')).show(10)"
      ],
      "metadata": {
        "colab": {
          "base_uri": "https://localhost:8080/"
        },
        "id": "zyCho6YO-jf2",
        "outputId": "d7f3bdf1-3a04-4f77-b2a1-4abf46b5274f"
      },
      "execution_count": null,
      "outputs": [
        {
          "output_type": "stream",
          "name": "stdout",
          "text": [
            "+----------------+-------------+\n",
            "|      nome_marca|total_vendido|\n",
            "+----------------+-------------+\n",
            "|      Volkswagen|       267647|\n",
            "|            Fiat|       226567|\n",
            "|  General Motors|       204919|\n",
            "|   Hyundai Motor|       176793|\n",
            "|            Jeep|       148786|\n",
            "|          Toyota|       127059|\n",
            "|         Renault|       105774|\n",
            "|Honda Automóveis|        81454|\n",
            "|          Nissan|        53120|\n",
            "|      Caoa Chery|        39747|\n",
            "+----------------+-------------+\n",
            "only showing top 10 rows\n",
            "\n"
          ]
        }
      ]
    },
    {
      "cell_type": "code",
      "source": [
        "# Gráfico 10 mais vendidos de 2021\n",
        "df_vendas_2019 = df.filter(df.ano == 2021).groupBy('nome_marca').agg(F.sum('qtd_veiculos').alias('total_vendido')).orderBy(F.desc('total_vendido')).limit(10)\n",
        "\n",
        "df_plot2 = df_vendas_2018.toPandas()\n",
        "\n",
        "df_plot2.plot(kind='bar', x='nome_marca', y='total_vendido')\n",
        "\n",
        "plt.show()"
      ],
      "metadata": {
        "colab": {
          "base_uri": "https://localhost:8080/",
          "height": 567
        },
        "id": "M6zRztMv_sHz",
        "outputId": "b989fb71-eed6-4a18-d1af-23609243eac0"
      },
      "execution_count": null,
      "outputs": [
        {
          "output_type": "display_data",
          "data": {
            "text/plain": [
              "<Figure size 640x480 with 1 Axes>"
            ],
            "image/png": "[encoded data removed]"
          },
          "metadata": {}
        }
      ]
    }
  ]
}