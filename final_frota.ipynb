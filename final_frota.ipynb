{
  "cells": [
    {
      "cell_type": "markdown",
      "metadata": {
        "id": "view-in-github",
        "colab_type": "text"
      },
      "source": [
        "<a href=\"https://colab.research.google.com/github/angelafrocha/ProjetoSoulcode/blob/main/final_frota.ipynb\" target=\"_parent\"><img src=\"https://colab.research.google.com/assets/colab-badge.svg\" alt=\"Open In Colab\"/></a>"
      ]
    },
    {
      "cell_type": "markdown",
      "metadata": {
        "id": "d2nnfPLS9ZFq"
      },
      "source": [
        "#Análise das Frotas de veículos"
      ]
    },
    {
      "cell_type": "markdown",
      "metadata": {
        "id": "lpIe0-f39nFa"
      },
      "source": [
        "##Instalações de bibliotecas"
      ]
    },
    {
      "cell_type": "code",
      "execution_count": null,
      "metadata": {
        "colab": {
          "base_uri": "https://localhost:8080/"
        },
        "id": "JLRZZbm69C4Y",
        "outputId": "f9e04c95-d738-4cdd-a74a-ea46cea5b60e"
      },
      "outputs": [
        {
          "output_type": "stream",
          "name": "stdout",
          "text": [
            "Looking in indexes: https://pypi.org/simple, https://us-python.pkg.dev/colab-wheels/public/simple/\n",
            "Collecting pymongo\n",
            "  Downloading pymongo-4.3.3-cp310-cp310-manylinux_2_17_x86_64.manylinux2014_x86_64.whl (492 kB)\n",
            "\u001b[2K     \u001b[90m━━━━━━━━━━━━━━━━━━━━━━━━━━━━━━━━━━━━━━━\u001b[0m \u001b[32m492.9/492.9 kB\u001b[0m \u001b[31m9.5 MB/s\u001b[0m eta \u001b[36m0:00:00\u001b[0m\n",
            "\u001b[?25hCollecting dnspython<3.0.0,>=1.16.0 (from pymongo)\n",
            "  Downloading dnspython-2.3.0-py3-none-any.whl (283 kB)\n",
            "\u001b[2K     \u001b[90m━━━━━━━━━━━━━━━━━━━━━━━━━━━━━━━━━━━━━━\u001b[0m \u001b[32m283.7/283.7 kB\u001b[0m \u001b[31m21.2 MB/s\u001b[0m eta \u001b[36m0:00:00\u001b[0m\n",
            "\u001b[?25hInstalling collected packages: dnspython, pymongo\n",
            "Successfully installed dnspython-2.3.0 pymongo-4.3.3\n"
          ]
        }
      ],
      "source": [
        "pip install pymongo"
      ]
    },
    {
      "cell_type": "code",
      "execution_count": null,
      "metadata": {
        "colab": {
          "base_uri": "https://localhost:8080/"
        },
        "id": "84_IYoSf9N3z",
        "outputId": "d0c250ec-049d-42f8-ff8f-5f9752fe1847"
      },
      "outputs": [
        {
          "output_type": "stream",
          "name": "stdout",
          "text": [
            "Looking in indexes: https://pypi.org/simple, https://us-python.pkg.dev/colab-wheels/public/simple/\n",
            "Collecting gcsfs\n",
            "  Downloading gcsfs-2023.4.0-py2.py3-none-any.whl (26 kB)\n",
            "Collecting aiohttp!=4.0.0a0,!=4.0.0a1 (from gcsfs)\n",
            "  Downloading aiohttp-3.8.4-cp310-cp310-manylinux_2_17_x86_64.manylinux2014_x86_64.whl (1.0 MB)\n",
            "\u001b[2K     \u001b[90m━━━━━━━━━━━━━━━━━━━━━━━━━━━━━━━━━━━━━━━━\u001b[0m \u001b[32m1.0/1.0 MB\u001b[0m \u001b[31m16.9 MB/s\u001b[0m eta \u001b[36m0:00:00\u001b[0m\n",
            "\u001b[?25hRequirement already satisfied: decorator>4.1.2 in /usr/local/lib/python3.10/dist-packages (from gcsfs) (4.4.2)\n",
            "Requirement already satisfied: fsspec==2023.4.0 in /usr/local/lib/python3.10/dist-packages (from gcsfs) (2023.4.0)\n",
            "Requirement already satisfied: google-auth>=1.2 in /usr/local/lib/python3.10/dist-packages (from gcsfs) (2.17.3)\n",
            "Requirement already satisfied: google-auth-oauthlib in /usr/local/lib/python3.10/dist-packages (from gcsfs) (1.0.0)\n",
            "Requirement already satisfied: google-cloud-storage in /usr/local/lib/python3.10/dist-packages (from gcsfs) (2.8.0)\n",
            "Requirement already satisfied: requests in /usr/local/lib/python3.10/dist-packages (from gcsfs) (2.27.1)\n",
            "Requirement already satisfied: attrs>=17.3.0 in /usr/local/lib/python3.10/dist-packages (from aiohttp!=4.0.0a0,!=4.0.0a1->gcsfs) (23.1.0)\n",
            "Requirement already satisfied: charset-normalizer<4.0,>=2.0 in /usr/local/lib/python3.10/dist-packages (from aiohttp!=4.0.0a0,!=4.0.0a1->gcsfs) (2.0.12)\n",
            "Collecting multidict<7.0,>=4.5 (from aiohttp!=4.0.0a0,!=4.0.0a1->gcsfs)\n",
            "  Downloading multidict-6.0.4-cp310-cp310-manylinux_2_17_x86_64.manylinux2014_x86_64.whl (114 kB)\n",
            "\u001b[2K     \u001b[90m━━━━━━━━━━━━━━━━━━━━━━━━━━━━━━━━━━━━━━\u001b[0m \u001b[32m114.5/114.5 kB\u001b[0m \u001b[31m12.6 MB/s\u001b[0m eta \u001b[36m0:00:00\u001b[0m\n",
            "\u001b[?25hCollecting async-timeout<5.0,>=4.0.0a3 (from aiohttp!=4.0.0a0,!=4.0.0a1->gcsfs)\n",
            "  Downloading async_timeout-4.0.2-py3-none-any.whl (5.8 kB)\n",
            "Collecting yarl<2.0,>=1.0 (from aiohttp!=4.0.0a0,!=4.0.0a1->gcsfs)\n",
            "  Downloading yarl-1.9.2-cp310-cp310-manylinux_2_17_x86_64.manylinux2014_x86_64.whl (268 kB)\n",
            "\u001b[2K     \u001b[90m━━━━━━━━━━━━━━━━━━━━━━━━━━━━━━━━━━━━━━\u001b[0m \u001b[32m268.8/268.8 kB\u001b[0m \u001b[31m30.3 MB/s\u001b[0m eta \u001b[36m0:00:00\u001b[0m\n",
            "\u001b[?25hCollecting frozenlist>=1.1.1 (from aiohttp!=4.0.0a0,!=4.0.0a1->gcsfs)\n",
            "  Downloading frozenlist-1.3.3-cp310-cp310-manylinux_2_5_x86_64.manylinux1_x86_64.manylinux_2_17_x86_64.manylinux2014_x86_64.whl (149 kB)\n",
            "\u001b[2K     \u001b[90m━━━━━━━━━━━━━━━━━━━━━━━━━━━━━━━━━━━━━━\u001b[0m \u001b[32m149.6/149.6 kB\u001b[0m \u001b[31m18.9 MB/s\u001b[0m eta \u001b[36m0:00:00\u001b[0m\n",
            "\u001b[?25hCollecting aiosignal>=1.1.2 (from aiohttp!=4.0.0a0,!=4.0.0a1->gcsfs)\n",
            "  Downloading aiosignal-1.3.1-py3-none-any.whl (7.6 kB)\n",
            "Requirement already satisfied: cachetools<6.0,>=2.0.0 in /usr/local/lib/python3.10/dist-packages (from google-auth>=1.2->gcsfs) (5.3.0)\n",
            "Requirement already satisfied: pyasn1-modules>=0.2.1 in /usr/local/lib/python3.10/dist-packages (from google-auth>=1.2->gcsfs) (0.3.0)\n",
            "Requirement already satisfied: six>=1.9.0 in /usr/local/lib/python3.10/dist-packages (from google-auth>=1.2->gcsfs) (1.16.0)\n",
            "Requirement already satisfied: rsa<5,>=3.1.4 in /usr/local/lib/python3.10/dist-packages (from google-auth>=1.2->gcsfs) (4.9)\n",
            "Requirement already satisfied: requests-oauthlib>=0.7.0 in /usr/local/lib/python3.10/dist-packages (from google-auth-oauthlib->gcsfs) (1.3.1)\n",
            "Requirement already satisfied: google-api-core!=2.0.*,!=2.1.*,!=2.2.*,!=2.3.0,<3.0.0dev,>=1.31.5 in /usr/local/lib/python3.10/dist-packages (from google-cloud-storage->gcsfs) (2.11.0)\n",
            "Requirement already satisfied: google-cloud-core<3.0dev,>=2.3.0 in /usr/local/lib/python3.10/dist-packages (from google-cloud-storage->gcsfs) (2.3.2)\n",
            "Requirement already satisfied: google-resumable-media>=2.3.2 in /usr/local/lib/python3.10/dist-packages (from google-cloud-storage->gcsfs) (2.5.0)\n",
            "Requirement already satisfied: urllib3<1.27,>=1.21.1 in /usr/local/lib/python3.10/dist-packages (from requests->gcsfs) (1.26.15)\n",
            "Requirement already satisfied: certifi>=2017.4.17 in /usr/local/lib/python3.10/dist-packages (from requests->gcsfs) (2022.12.7)\n",
            "Requirement already satisfied: idna<4,>=2.5 in /usr/local/lib/python3.10/dist-packages (from requests->gcsfs) (3.4)\n",
            "Requirement already satisfied: googleapis-common-protos<2.0dev,>=1.56.2 in /usr/local/lib/python3.10/dist-packages (from google-api-core!=2.0.*,!=2.1.*,!=2.2.*,!=2.3.0,<3.0.0dev,>=1.31.5->google-cloud-storage->gcsfs) (1.59.0)\n",
            "Requirement already satisfied: protobuf!=3.20.0,!=3.20.1,!=4.21.0,!=4.21.1,!=4.21.2,!=4.21.3,!=4.21.4,!=4.21.5,<5.0.0dev,>=3.19.5 in /usr/local/lib/python3.10/dist-packages (from google-api-core!=2.0.*,!=2.1.*,!=2.2.*,!=2.3.0,<3.0.0dev,>=1.31.5->google-cloud-storage->gcsfs) (3.20.3)\n",
            "Requirement already satisfied: google-crc32c<2.0dev,>=1.0 in /usr/local/lib/python3.10/dist-packages (from google-resumable-media>=2.3.2->google-cloud-storage->gcsfs) (1.5.0)\n",
            "Requirement already satisfied: pyasn1<0.6.0,>=0.4.6 in /usr/local/lib/python3.10/dist-packages (from pyasn1-modules>=0.2.1->google-auth>=1.2->gcsfs) (0.5.0)\n",
            "Requirement already satisfied: oauthlib>=3.0.0 in /usr/local/lib/python3.10/dist-packages (from requests-oauthlib>=0.7.0->google-auth-oauthlib->gcsfs) (3.2.2)\n",
            "Installing collected packages: multidict, frozenlist, async-timeout, yarl, aiosignal, aiohttp, gcsfs\n",
            "Successfully installed aiohttp-3.8.4 aiosignal-1.3.1 async-timeout-4.0.2 frozenlist-1.3.3 gcsfs-2023.4.0 multidict-6.0.4 yarl-1.9.2\n"
          ]
        }
      ],
      "source": [
        "pip install gcsfs"
      ]
    },
    {
      "cell_type": "markdown",
      "metadata": {
        "id": "kZ-VK9QlKhgA"
      },
      "source": []
    },
    {
      "cell_type": "code",
      "execution_count": null,
      "metadata": {
        "colab": {
          "base_uri": "https://localhost:8080/"
        },
        "id": "WANM2-yu-SH9",
        "outputId": "e1073d87-c975-4e23-931e-e7a73cd56230"
      },
      "outputs": [
        {
          "output_type": "stream",
          "name": "stdout",
          "text": [
            "Looking in indexes: https://pypi.org/simple, https://us-python.pkg.dev/colab-wheels/public/simple/\n",
            "Collecting pandera\n",
            "  Downloading pandera-0.14.5-py3-none-any.whl (149 kB)\n",
            "\u001b[2K     \u001b[90m━━━━━━━━━━━━━━━━━━━━━━━━━━━━━━━━━━━━━━━\u001b[0m \u001b[32m149.3/149.3 kB\u001b[0m \u001b[31m3.7 MB/s\u001b[0m eta \u001b[36m0:00:00\u001b[0m\n",
            "\u001b[?25hCollecting multimethod (from pandera)\n",
            "  Downloading multimethod-1.9.1-py3-none-any.whl (10 kB)\n",
            "Requirement already satisfied: numpy>=1.19.0 in /usr/local/lib/python3.10/dist-packages (from pandera) (1.22.4)\n",
            "Requirement already satisfied: packaging>=20.0 in /usr/local/lib/python3.10/dist-packages (from pandera) (23.1)\n",
            "Requirement already satisfied: pandas>=1.2.0 in /usr/local/lib/python3.10/dist-packages (from pandera) (1.5.3)\n",
            "Requirement already satisfied: pydantic in /usr/local/lib/python3.10/dist-packages (from pandera) (1.10.7)\n",
            "Collecting typing-inspect>=0.6.0 (from pandera)\n",
            "  Downloading typing_inspect-0.8.0-py3-none-any.whl (8.7 kB)\n",
            "Requirement already satisfied: wrapt in /usr/local/lib/python3.10/dist-packages (from pandera) (1.14.1)\n",
            "Requirement already satisfied: python-dateutil>=2.8.1 in /usr/local/lib/python3.10/dist-packages (from pandas>=1.2.0->pandera) (2.8.2)\n",
            "Requirement already satisfied: pytz>=2020.1 in /usr/local/lib/python3.10/dist-packages (from pandas>=1.2.0->pandera) (2022.7.1)\n",
            "Collecting mypy-extensions>=0.3.0 (from typing-inspect>=0.6.0->pandera)\n",
            "  Downloading mypy_extensions-1.0.0-py3-none-any.whl (4.7 kB)\n",
            "Requirement already satisfied: typing-extensions>=3.7.4 in /usr/local/lib/python3.10/dist-packages (from typing-inspect>=0.6.0->pandera) (4.5.0)\n",
            "Requirement already satisfied: six>=1.5 in /usr/local/lib/python3.10/dist-packages (from python-dateutil>=2.8.1->pandas>=1.2.0->pandera) (1.16.0)\n",
            "Installing collected packages: mypy-extensions, multimethod, typing-inspect, pandera\n",
            "Successfully installed multimethod-1.9.1 mypy-extensions-1.0.0 pandera-0.14.5 typing-inspect-0.8.0\n"
          ]
        }
      ],
      "source": [
        "pip install pandera"
      ]
    },
    {
      "cell_type": "markdown",
      "metadata": {
        "id": "buXy00oT-bVM"
      },
      "source": [
        "##Importações das Libs"
      ]
    },
    {
      "cell_type": "code",
      "execution_count": null,
      "metadata": {
        "id": "D3ZjuP6E-fOA"
      },
      "outputs": [],
      "source": [
        "import pymongo\n",
        "import pandas as pd\n",
        "import os\n",
        "import numpy as np\n",
        "import pandera as pa\n",
        "import matplotlib.pyplot as plt\n",
        "import pymongo\n",
        "from pymongo import MongoClient\n",
        "from google.cloud import storage"
      ]
    },
    {
      "cell_type": "markdown",
      "metadata": {
        "id": "E5xDHzie-xsm"
      },
      "source": [
        "##Conexão GCP e MongoDB"
      ]
    },
    {
      "cell_type": "code",
      "execution_count": null,
      "metadata": {
        "colab": {
          "base_uri": "https://localhost:8080/",
          "height": 328
        },
        "id": "9zdB_BbfJA9I",
        "outputId": "a843de58-afb2-48e5-9b5a-4a689da83c8c"
      },
      "outputs": [
        {
          "output_type": "error",
          "ename": "KeyboardInterrupt",
          "evalue": "ignored",
          "traceback": [
            "\u001b[0;31m---------------------------------------------------------------------------\u001b[0m",
            "\u001b[0;31mKeyboardInterrupt\u001b[0m                         Traceback (most recent call last)",
            "\u001b[0;32m<ipython-input-5-d5df0069828e>\u001b[0m in \u001b[0;36m<cell line: 2>\u001b[0;34m()\u001b[0m\n\u001b[1;32m      1\u001b[0m \u001b[0;32mfrom\u001b[0m \u001b[0mgoogle\u001b[0m\u001b[0;34m.\u001b[0m\u001b[0mcolab\u001b[0m \u001b[0;32mimport\u001b[0m \u001b[0mdrive\u001b[0m\u001b[0;34m\u001b[0m\u001b[0;34m\u001b[0m\u001b[0m\n\u001b[0;32m----> 2\u001b[0;31m \u001b[0mdrive\u001b[0m\u001b[0;34m.\u001b[0m\u001b[0mmount\u001b[0m\u001b[0;34m(\u001b[0m\u001b[0;34m'/content/drive'\u001b[0m\u001b[0;34m)\u001b[0m\u001b[0;34m\u001b[0m\u001b[0;34m\u001b[0m\u001b[0m\n\u001b[0m",
            "\u001b[0;32m/usr/local/lib/python3.10/dist-packages/google/colab/drive.py\u001b[0m in \u001b[0;36mmount\u001b[0;34m(mountpoint, force_remount, timeout_ms, readonly)\u001b[0m\n\u001b[1;32m    101\u001b[0m \u001b[0;32mdef\u001b[0m \u001b[0mmount\u001b[0m\u001b[0;34m(\u001b[0m\u001b[0mmountpoint\u001b[0m\u001b[0;34m,\u001b[0m \u001b[0mforce_remount\u001b[0m\u001b[0;34m=\u001b[0m\u001b[0;32mFalse\u001b[0m\u001b[0;34m,\u001b[0m \u001b[0mtimeout_ms\u001b[0m\u001b[0;34m=\u001b[0m\u001b[0;36m120000\u001b[0m\u001b[0;34m,\u001b[0m \u001b[0mreadonly\u001b[0m\u001b[0;34m=\u001b[0m\u001b[0;32mFalse\u001b[0m\u001b[0;34m)\u001b[0m\u001b[0;34m:\u001b[0m\u001b[0;34m\u001b[0m\u001b[0;34m\u001b[0m\u001b[0m\n\u001b[1;32m    102\u001b[0m   \u001b[0;34m\"\"\"Mount your Google Drive at the specified mountpoint path.\"\"\"\u001b[0m\u001b[0;34m\u001b[0m\u001b[0;34m\u001b[0m\u001b[0m\n\u001b[0;32m--> 103\u001b[0;31m   return _mount(\n\u001b[0m\u001b[1;32m    104\u001b[0m       \u001b[0mmountpoint\u001b[0m\u001b[0;34m,\u001b[0m\u001b[0;34m\u001b[0m\u001b[0;34m\u001b[0m\u001b[0m\n\u001b[1;32m    105\u001b[0m       \u001b[0mforce_remount\u001b[0m\u001b[0;34m=\u001b[0m\u001b[0mforce_remount\u001b[0m\u001b[0;34m,\u001b[0m\u001b[0;34m\u001b[0m\u001b[0;34m\u001b[0m\u001b[0m\n",
            "\u001b[0;32m/usr/local/lib/python3.10/dist-packages/google/colab/drive.py\u001b[0m in \u001b[0;36m_mount\u001b[0;34m(mountpoint, force_remount, timeout_ms, ephemeral, readonly)\u001b[0m\n\u001b[1;32m    130\u001b[0m   )\n\u001b[1;32m    131\u001b[0m   \u001b[0;32mif\u001b[0m \u001b[0mephemeral\u001b[0m\u001b[0;34m:\u001b[0m\u001b[0;34m\u001b[0m\u001b[0;34m\u001b[0m\u001b[0m\n\u001b[0;32m--> 132\u001b[0;31m     _message.blocking_request(\n\u001b[0m\u001b[1;32m    133\u001b[0m         \u001b[0;34m'request_auth'\u001b[0m\u001b[0;34m,\u001b[0m \u001b[0mrequest\u001b[0m\u001b[0;34m=\u001b[0m\u001b[0;34m{\u001b[0m\u001b[0;34m'authType'\u001b[0m\u001b[0;34m:\u001b[0m \u001b[0;34m'dfs_ephemeral'\u001b[0m\u001b[0;34m}\u001b[0m\u001b[0;34m,\u001b[0m \u001b[0mtimeout_sec\u001b[0m\u001b[0;34m=\u001b[0m\u001b[0;32mNone\u001b[0m\u001b[0;34m\u001b[0m\u001b[0;34m\u001b[0m\u001b[0m\n\u001b[1;32m    134\u001b[0m     )\n",
            "\u001b[0;32m/usr/local/lib/python3.10/dist-packages/google/colab/_message.py\u001b[0m in \u001b[0;36mblocking_request\u001b[0;34m(request_type, request, timeout_sec, parent)\u001b[0m\n\u001b[1;32m    174\u001b[0m       \u001b[0mrequest_type\u001b[0m\u001b[0;34m,\u001b[0m \u001b[0mrequest\u001b[0m\u001b[0;34m,\u001b[0m \u001b[0mparent\u001b[0m\u001b[0;34m=\u001b[0m\u001b[0mparent\u001b[0m\u001b[0;34m,\u001b[0m \u001b[0mexpect_reply\u001b[0m\u001b[0;34m=\u001b[0m\u001b[0;32mTrue\u001b[0m\u001b[0;34m\u001b[0m\u001b[0;34m\u001b[0m\u001b[0m\n\u001b[1;32m    175\u001b[0m   )\n\u001b[0;32m--> 176\u001b[0;31m   \u001b[0;32mreturn\u001b[0m \u001b[0mread_reply_from_input\u001b[0m\u001b[0;34m(\u001b[0m\u001b[0mrequest_id\u001b[0m\u001b[0;34m,\u001b[0m \u001b[0mtimeout_sec\u001b[0m\u001b[0;34m)\u001b[0m\u001b[0;34m\u001b[0m\u001b[0;34m\u001b[0m\u001b[0m\n\u001b[0m",
            "\u001b[0;32m/usr/local/lib/python3.10/dist-packages/google/colab/_message.py\u001b[0m in \u001b[0;36mread_reply_from_input\u001b[0;34m(message_id, timeout_sec)\u001b[0m\n\u001b[1;32m     94\u001b[0m     \u001b[0mreply\u001b[0m \u001b[0;34m=\u001b[0m \u001b[0m_read_next_input_message\u001b[0m\u001b[0;34m(\u001b[0m\u001b[0;34m)\u001b[0m\u001b[0;34m\u001b[0m\u001b[0;34m\u001b[0m\u001b[0m\n\u001b[1;32m     95\u001b[0m     \u001b[0;32mif\u001b[0m \u001b[0mreply\u001b[0m \u001b[0;34m==\u001b[0m \u001b[0m_NOT_READY\u001b[0m \u001b[0;32mor\u001b[0m \u001b[0;32mnot\u001b[0m \u001b[0misinstance\u001b[0m\u001b[0;34m(\u001b[0m\u001b[0mreply\u001b[0m\u001b[0;34m,\u001b[0m \u001b[0mdict\u001b[0m\u001b[0;34m)\u001b[0m\u001b[0;34m:\u001b[0m\u001b[0;34m\u001b[0m\u001b[0;34m\u001b[0m\u001b[0m\n\u001b[0;32m---> 96\u001b[0;31m       \u001b[0mtime\u001b[0m\u001b[0;34m.\u001b[0m\u001b[0msleep\u001b[0m\u001b[0;34m(\u001b[0m\u001b[0;36m0.025\u001b[0m\u001b[0;34m)\u001b[0m\u001b[0;34m\u001b[0m\u001b[0;34m\u001b[0m\u001b[0m\n\u001b[0m\u001b[1;32m     97\u001b[0m       \u001b[0;32mcontinue\u001b[0m\u001b[0;34m\u001b[0m\u001b[0;34m\u001b[0m\u001b[0m\n\u001b[1;32m     98\u001b[0m     if (\n",
            "\u001b[0;31mKeyboardInterrupt\u001b[0m: "
          ]
        }
      ],
      "source": [
        "from google.colab import drive\n",
        "drive.mount('/content/drive')"
      ]
    },
    {
      "cell_type": "code",
      "execution_count": null,
      "metadata": {
        "id": "T5DTmvDI-xBr"
      },
      "outputs": [],
      "source": [
        "#CONFIGURANDO DA CHAVE DE SEGURANCA (Enviada com o projeto)\n",
        "serviceAccount = '/content/spry-ether-382812-774986df1787.json'\n",
        "os.environ['GOOGLE_APPLICATION_CREDENTIALS'] = serviceAccount"
      ]
    },
    {
      "cell_type": "code",
      "execution_count": null,
      "metadata": {
        "id": "T0E9Ehss-nA5"
      },
      "outputs": [],
      "source": [
        "#Configurações Google Cloud Storage\n",
        "client = storage.Client()\n",
        "bucket = client.get_bucket('projetofinal1')\n",
        "bucket.blob('f_frota_por_uf_municipio_ano_fab_mod_marco_2023.xlsx')\n",
        "path = 'gs://projetofinal1/brutos/f_frota_por_uf_municipio_ano_fab_mod_marco_2023.xlsx'"
      ]
    },
    {
      "cell_type": "code",
      "execution_count": null,
      "metadata": {
        "id": "_tsgQHQQAIMV"
      },
      "outputs": [],
      "source": [
        "# Espaço para o Mongo DB"
      ]
    },
    {
      "cell_type": "code",
      "execution_count": null,
      "metadata": {
        "id": "d7JC6CtDFxTw"
      },
      "outputs": [],
      "source": [
        "uri = \"mongodb+srv://clustere5.wjshwzt.mongodb.net/?authSource=%24external&authMechanism=MONGODB-X509&retryWrites=true&w=majority\"\n",
        "client = MongoClient(uri,\n",
        "                     tls=True,\n",
        "                     tlsCertificateKeyFile='/content/drive/MyDrive/key_pf/acessoPatricia.pem',\n",
        "                     )\n",
        "db = client['frota']\n",
        "colecao_tratado = db['tratado']"
      ]
    },
    {
      "cell_type": "code",
      "execution_count": null,
      "metadata": {
        "id": "8NHm6hm0e1-0"
      },
      "outputs": [],
      "source": [
        "colecao_tratado.count_documents({})"
      ]
    },
    {
      "cell_type": "markdown",
      "metadata": {
        "id": "FyfSon3JAcCW"
      },
      "source": [
        "##Extração dos dados brutos"
      ]
    },
    {
      "cell_type": "code",
      "execution_count": null,
      "metadata": {
        "id": "Pc82d0f1Agnu"
      },
      "outputs": [],
      "source": [
        "df = pd.read_excel(path)"
      ]
    },
    {
      "cell_type": "markdown",
      "metadata": {
        "id": "Lds2rX3TNRyu"
      },
      "source": [
        "##Pré-Análise"
      ]
    },
    {
      "cell_type": "code",
      "execution_count": null,
      "metadata": {
        "id": "CER4Lqs1Ce8D",
        "colab": {
          "base_uri": "https://localhost:8080/"
        },
        "outputId": "f10c23ab-b592-42aa-db33-99ce8f1f2e3c"
      },
      "outputs": [
        {
          "output_type": "execute_result",
          "data": {
            "text/plain": [
              "     UF   Município Ano Modelo Ano Fabricação CRV  Qtd. Veículos\n",
              "0  ACRE  ACRELANDIA       1959               1959              1\n",
              "1  ACRE  ACRELANDIA       1967               1967              1\n",
              "2  ACRE  ACRELANDIA       1970               1970              2\n",
              "3  ACRE  ACRELANDIA       1971               1971              1\n",
              "4  ACRE  ACRELANDIA       1972               1972              4"
            ],
            "text/html": [
              "\n",
              "  <div id=\"df-17eed3b4-1def-441a-bea7-c85f679b4f00\">\n",
              "    <div class=\"colab-df-container\">\n",
              "      <div>\n",
              "<style scoped>\n",
              "    .dataframe tbody tr th:only-of-type {\n",
              "        vertical-align: middle;\n",
              "    }\n",
              "\n",
              "    .dataframe tbody tr th {\n",
              "        vertical-align: top;\n",
              "    }\n",
              "\n",
              "    .dataframe thead th {\n",
              "        text-align: right;\n",
              "    }\n",
              "</style>\n",
              "<table border=\"1\" class=\"dataframe\">\n",
              "  <thead>\n",
              "    <tr style=\"text-align: right;\">\n",
              "      <th></th>\n",
              "      <th>UF</th>\n",
              "      <th>Município</th>\n",
              "      <th>Ano Modelo</th>\n",
              "      <th>Ano Fabricação CRV</th>\n",
              "      <th>Qtd. Veículos</th>\n",
              "    </tr>\n",
              "  </thead>\n",
              "  <tbody>\n",
              "    <tr>\n",
              "      <th>0</th>\n",
              "      <td>ACRE</td>\n",
              "      <td>ACRELANDIA</td>\n",
              "      <td>1959</td>\n",
              "      <td>1959</td>\n",
              "      <td>1</td>\n",
              "    </tr>\n",
              "    <tr>\n",
              "      <th>1</th>\n",
              "      <td>ACRE</td>\n",
              "      <td>ACRELANDIA</td>\n",
              "      <td>1967</td>\n",
              "      <td>1967</td>\n",
              "      <td>1</td>\n",
              "    </tr>\n",
              "    <tr>\n",
              "      <th>2</th>\n",
              "      <td>ACRE</td>\n",
              "      <td>ACRELANDIA</td>\n",
              "      <td>1970</td>\n",
              "      <td>1970</td>\n",
              "      <td>2</td>\n",
              "    </tr>\n",
              "    <tr>\n",
              "      <th>3</th>\n",
              "      <td>ACRE</td>\n",
              "      <td>ACRELANDIA</td>\n",
              "      <td>1971</td>\n",
              "      <td>1971</td>\n",
              "      <td>1</td>\n",
              "    </tr>\n",
              "    <tr>\n",
              "      <th>4</th>\n",
              "      <td>ACRE</td>\n",
              "      <td>ACRELANDIA</td>\n",
              "      <td>1972</td>\n",
              "      <td>1972</td>\n",
              "      <td>4</td>\n",
              "    </tr>\n",
              "  </tbody>\n",
              "</table>\n",
              "</div>\n",
              "      <button class=\"colab-df-convert\" onclick=\"convertToInteractive('df-17eed3b4-1def-441a-bea7-c85f679b4f00')\"\n",
              "              title=\"Convert this dataframe to an interactive table.\"\n",
              "              style=\"display:none;\">\n",
              "        \n",
              "  <svg xmlns=\"http://www.w3.org/2000/svg\" height=\"24px\"viewBox=\"0 0 24 24\"\n",
              "       width=\"24px\">\n",
              "    <path d=\"M0 0h24v24H0V0z\" fill=\"none\"/>\n",
              "    <path d=\"M18.56 5.44l.94 2.06.94-2.06 2.06-.94-2.06-.94-.94-2.06-.94 2.06-2.06.94zm-11 1L8.5 8.5l.94-2.06 2.06-.94-2.06-.94L8.5 2.5l-.94 2.06-2.06.94zm10 10l.94 2.06.94-2.06 2.06-.94-2.06-.94-.94-2.06-.94 2.06-2.06.94z\"/><path d=\"M17.41 7.96l-1.37-1.37c-.4-.4-.92-.59-1.43-.59-.52 0-1.04.2-1.43.59L10.3 9.45l-7.72 7.72c-.78.78-.78 2.05 0 2.83L4 21.41c.39.39.9.59 1.41.59.51 0 1.02-.2 1.41-.59l7.78-7.78 2.81-2.81c.8-.78.8-2.07 0-2.86zM5.41 20L4 18.59l7.72-7.72 1.47 1.35L5.41 20z\"/>\n",
              "  </svg>\n",
              "      </button>\n",
              "      \n",
              "  <style>\n",
              "    .colab-df-container {\n",
              "      display:flex;\n",
              "      flex-wrap:wrap;\n",
              "      gap: 12px;\n",
              "    }\n",
              "\n",
              "    .colab-df-convert {\n",
              "      background-color: #E8F0FE;\n",
              "      border: none;\n",
              "      border-radius: 50%;\n",
              "      cursor: pointer;\n",
              "      display: none;\n",
              "      fill: #1967D2;\n",
              "      height: 32px;\n",
              "      padding: 0 0 0 0;\n",
              "      width: 32px;\n",
              "    }\n",
              "\n",
              "    .colab-df-convert:hover {\n",
              "      background-color: #E2EBFA;\n",
              "      box-shadow: 0px 1px 2px rgba(60, 64, 67, 0.3), 0px 1px 3px 1px rgba(60, 64, 67, 0.15);\n",
              "      fill: #174EA6;\n",
              "    }\n",
              "\n",
              "    [theme=dark] .colab-df-convert {\n",
              "      background-color: #3B4455;\n",
              "      fill: #D2E3FC;\n",
              "    }\n",
              "\n",
              "    [theme=dark] .colab-df-convert:hover {\n",
              "      background-color: #434B5C;\n",
              "      box-shadow: 0px 1px 3px 1px rgba(0, 0, 0, 0.15);\n",
              "      filter: drop-shadow(0px 1px 2px rgba(0, 0, 0, 0.3));\n",
              "      fill: #FFFFFF;\n",
              "    }\n",
              "  </style>\n",
              "\n",
              "      <script>\n",
              "        const buttonEl =\n",
              "          document.querySelector('#df-17eed3b4-1def-441a-bea7-c85f679b4f00 button.colab-df-convert');\n",
              "        buttonEl.style.display =\n",
              "          google.colab.kernel.accessAllowed ? 'block' : 'none';\n",
              "\n",
              "        async function convertToInteractive(key) {\n",
              "          const element = document.querySelector('#df-17eed3b4-1def-441a-bea7-c85f679b4f00');\n",
              "          const dataTable =\n",
              "            await google.colab.kernel.invokeFunction('convertToInteractive',\n",
              "                                                     [key], {});\n",
              "          if (!dataTable) return;\n",
              "\n",
              "          const docLinkHtml = 'Like what you see? Visit the ' +\n",
              "            '<a target=\"_blank\" href=https://colab.research.google.com/notebooks/data_table.ipynb>data table notebook</a>'\n",
              "            + ' to learn more about interactive tables.';\n",
              "          element.innerHTML = '';\n",
              "          dataTable['output_type'] = 'display_data';\n",
              "          await google.colab.output.renderOutput(dataTable, element);\n",
              "          const docLink = document.createElement('div');\n",
              "          docLink.innerHTML = docLinkHtml;\n",
              "          element.appendChild(docLink);\n",
              "        }\n",
              "      </script>\n",
              "    </div>\n",
              "  </div>\n",
              "  "
            ]
          },
          "metadata": {},
          "execution_count": 10
        }
      ],
      "source": [
        "df.head()"
      ]
    },
    {
      "cell_type": "code",
      "execution_count": null,
      "metadata": {
        "id": "wi5SSDzXyHTK"
      },
      "outputs": [],
      "source": [
        "#Fazendo o backup de segurança\n",
        "df_bkp = df.copy()"
      ]
    },
    {
      "cell_type": "code",
      "execution_count": null,
      "metadata": {
        "id": "TyUSmmVWPF85",
        "colab": {
          "base_uri": "https://localhost:8080/"
        },
        "outputId": "b2d4f2ca-19fc-4fb0-e4b3-95ce5bd2eeb2"
      },
      "outputs": [
        {
          "output_type": "execute_result",
          "data": {
            "text/plain": [
              "UF                    object\n",
              "Município             object\n",
              "Ano Modelo            object\n",
              "Ano Fabricação CRV    object\n",
              "Qtd. Veículos          int64\n",
              "dtype: object"
            ]
          },
          "metadata": {},
          "execution_count": 12
        }
      ],
      "source": [
        "df.dtypes"
      ]
    },
    {
      "cell_type": "code",
      "execution_count": null,
      "metadata": {
        "id": "_KKYNQ8_CnZE",
        "colab": {
          "base_uri": "https://localhost:8080/"
        },
        "outputId": "26c0354b-b96f-492b-d4ed-482b7f4fc9c5"
      },
      "outputs": [
        {
          "output_type": "execute_result",
          "data": {
            "text/plain": [
              "(640507, 5)"
            ]
          },
          "metadata": {},
          "execution_count": 13
        }
      ],
      "source": [
        "df.shape"
      ]
    },
    {
      "cell_type": "code",
      "execution_count": null,
      "metadata": {
        "id": "fF-UKm9APRc6",
        "colab": {
          "base_uri": "https://localhost:8080/"
        },
        "outputId": "851ccd17-a063-43a0-ed21-da94ada82268"
      },
      "outputs": [
        {
          "output_type": "stream",
          "name": "stdout",
          "text": [
            "<class 'pandas.core.frame.DataFrame'>\n",
            "RangeIndex: 640507 entries, 0 to 640506\n",
            "Data columns (total 5 columns):\n",
            " #   Column              Non-Null Count   Dtype \n",
            "---  ------              --------------   ----- \n",
            " 0   UF                  640507 non-null  object\n",
            " 1   Município           640507 non-null  object\n",
            " 2   Ano Modelo          640507 non-null  object\n",
            " 3   Ano Fabricação CRV  640507 non-null  object\n",
            " 4   Qtd. Veículos       640507 non-null  int64 \n",
            "dtypes: int64(1), object(4)\n",
            "memory usage: 24.4+ MB\n"
          ]
        }
      ],
      "source": [
        "df.info()"
      ]
    },
    {
      "cell_type": "code",
      "execution_count": null,
      "metadata": {
        "id": "xrUfVCT7PdlH",
        "colab": {
          "base_uri": "https://localhost:8080/"
        },
        "outputId": "c127190d-f23c-45b3-addc-3399dae72196"
      },
      "outputs": [
        {
          "output_type": "execute_result",
          "data": {
            "text/plain": [
              "Index(['UF', 'Município', 'Ano Modelo', 'Ano Fabricação CRV', 'Qtd. Veículos'], dtype='object')"
            ]
          },
          "metadata": {},
          "execution_count": 15
        }
      ],
      "source": [
        "df.columns"
      ]
    },
    {
      "cell_type": "code",
      "execution_count": null,
      "metadata": {
        "id": "02JIbgo-PgJI",
        "colab": {
          "base_uri": "https://localhost:8080/"
        },
        "outputId": "f3763d05-60af-435b-cf10-bcfaa5713108"
      },
      "outputs": [
        {
          "output_type": "execute_result",
          "data": {
            "text/plain": [
              "UF                      30\n",
              "Município             5290\n",
              "Ano Modelo             132\n",
              "Ano Fabricação CRV     127\n",
              "Qtd. Veículos         6615\n",
              "dtype: int64"
            ]
          },
          "metadata": {},
          "execution_count": 16
        }
      ],
      "source": [
        "df.nunique()"
      ]
    },
    {
      "cell_type": "code",
      "execution_count": null,
      "metadata": {
        "id": "LCUYJ2ibPsf5",
        "colab": {
          "base_uri": "https://localhost:8080/"
        },
        "outputId": "c381d7c5-a332-4e57-9ea5-a5785781b92d"
      },
      "outputs": [
        {
          "output_type": "execute_result",
          "data": {
            "text/plain": [
              "False"
            ]
          },
          "metadata": {},
          "execution_count": 17
        }
      ],
      "source": [
        "df.UF.is_unique"
      ]
    },
    {
      "cell_type": "markdown",
      "metadata": {
        "id": "GcVdA-3yC05W"
      },
      "source": [
        "##Transformações"
      ]
    },
    {
      "cell_type": "code",
      "execution_count": null,
      "metadata": {
        "id": "hPYb0oj-QINg"
      },
      "outputs": [],
      "source": [
        "#Novo backup de segurança\n",
        "df_bkp = df.copy()"
      ]
    },
    {
      "cell_type": "code",
      "execution_count": null,
      "metadata": {
        "id": "tHcENhpdC0fL",
        "colab": {
          "base_uri": "https://localhost:8080/"
        },
        "outputId": "18952f6f-a491-4ba9-d685-2ee053ce224f"
      },
      "outputs": [
        {
          "output_type": "execute_result",
          "data": {
            "text/plain": [
              "UF                    object\n",
              "Município             object\n",
              "Ano Modelo            object\n",
              "Ano Fabricação CRV    object\n",
              "Qtd. Veículos          int64\n",
              "dtype: object"
            ]
          },
          "metadata": {},
          "execution_count": 19
        }
      ],
      "source": [
        "df.dtypes"
      ]
    },
    {
      "cell_type": "code",
      "execution_count": null,
      "metadata": {
        "id": "vw4D7oyLQlEU",
        "colab": {
          "base_uri": "https://localhost:8080/"
        },
        "outputId": "f884b558-d0f3-4f56-a416-bbc79682372b"
      },
      "outputs": [
        {
          "output_type": "execute_result",
          "data": {
            "text/plain": [
              "0"
            ]
          },
          "metadata": {},
          "execution_count": 20
        }
      ],
      "source": [
        "df.duplicated().sum()"
      ]
    },
    {
      "cell_type": "markdown",
      "source": [
        "Renomeando colunas"
      ],
      "metadata": {
        "id": "GpZfZKrgCHQb"
      }
    },
    {
      "cell_type": "code",
      "execution_count": null,
      "metadata": {
        "id": "b953Z1sYzs9_"
      },
      "outputs": [],
      "source": [
        "df.rename(columns={'Município':'municipio',\n",
        "                   'uf':'uf',\n",
        "                   'Ano Modelo':'ano_modelo',\n",
        "                   'Ano Fabricação CRV':'ano_fab_crv',\n",
        "                   'Qtd. Veículos':'qnt_veiculos'}, inplace=True)"
      ]
    },
    {
      "cell_type": "code",
      "execution_count": null,
      "metadata": {
        "id": "yUajtCsjOfOU",
        "colab": {
          "base_uri": "https://localhost:8080/"
        },
        "outputId": "4318664d-1e0f-49b2-e05c-c58ac15a3ae3"
      },
      "outputs": [
        {
          "output_type": "execute_result",
          "data": {
            "text/plain": [
              "array(['1959', '1967', '1970', '1971', '1972', '1973', '1974', '1975',\n",
              "       '1976', '1977', '1978', '1979', '1980', '1981', '1982', '1983',\n",
              "       '1984', '1985', '1986', '1987', '1988', '1989', '1990', '1991',\n",
              "       '1992', '1993', '1994', '1995', '1996', '1997', '1998', '1999',\n",
              "       '2000', '2001', '2002', '2003', '2004', '2005', '2006', '2007',\n",
              "       '2008', '2009', '2010', '2011', '2012', '2013', '2014', '2015',\n",
              "       '2016', '2017', '2018', '2019', '2020', '2021', '2022', '2023',\n",
              "       'Sem Informação', '1960', '1964', '1968', '1969', '2024', '1945',\n",
              "       '1954', '1961', '1962', '1965', '1966', '1963', '1928', '1929',\n",
              "       '1949', '1951', '1958', '1953', '1926', '1930', '1937', '1939',\n",
              "       '1942', '1947', '1948', '1950', '1952', '1956', '1957', '1944',\n",
              "       '1941', '1946', 'Não Identificado', '1940', '1932', '1900', '2803',\n",
              "       '1931', '2603', '1955', '1938', '1919', '1923', '1927', '1933',\n",
              "       '1934', '1935', '1943', '1914', '1936', '1925', '1920', '1924',\n",
              "       '1911', '1901', '1908', '1912', '1922', '1907', '1910', '1917',\n",
              "       '1921', '1906', 'Não se Aplica', '1915', '1918', '1903', '1916',\n",
              "       '1902', '1909', '1913', '1904', '1905', '2974', '2995'],\n",
              "      dtype=object)"
            ]
          },
          "metadata": {},
          "execution_count": 22
        }
      ],
      "source": [
        "#Verificando valores únicos da coluna ano_modelo\n",
        "df['ano_modelo'].unique()"
      ]
    },
    {
      "cell_type": "code",
      "execution_count": null,
      "metadata": {
        "id": "yk2fKnLf6xR0"
      },
      "outputs": [],
      "source": [
        "# Não usaremos o ano do modelo do carro como referência para nossas análises\n",
        "df = df.drop(columns=['ano_modelo'])"
      ]
    },
    {
      "cell_type": "code",
      "execution_count": null,
      "metadata": {
        "id": "y7x1XPXYPPfg",
        "colab": {
          "base_uri": "https://localhost:8080/"
        },
        "outputId": "d730a57c-c9c2-450d-82d8-559d54b47a14"
      },
      "outputs": [
        {
          "output_type": "execute_result",
          "data": {
            "text/plain": [
              "array(['1959', '1967', '1970', '1971', '1972', '1973', '1974', '1975',\n",
              "       '1976', '1977', '1978', '1979', '1980', '1981', '1982', '1983',\n",
              "       '1984', '1985', '1986', '1987', '1988', '1989', '1990', '1991',\n",
              "       '1992', '1993', '1994', '1995', 'Sem Informação', '1996', '1997',\n",
              "       '1998', '1999', '2000', '2001', '2002', '2003', '2004', '2005',\n",
              "       '2006', '2007', '2008', '2009', '2010', '2011', '2012', '2013',\n",
              "       '2014', '2015', '2016', '2017', '2018', '2019', '2020', '2021',\n",
              "       '2022', '2023', '1960', '1964', '1968', '1969', '1945', '1954',\n",
              "       '1961', '1962', '1965', '1966', '1963', '1928', '1929', '1949',\n",
              "       '1951', '1958', '1953', '1926', '1930', '1937', '1939', '1942',\n",
              "       '1947', '1948', '1950', '1952', '1956', '1957', '1944', '1941',\n",
              "       '1946', 'Não Identificado', '1940', '1932', '1931', '1955', '1938',\n",
              "       '1919', '1923', '1925', '1927', '1933', '1934', '1935', '1943',\n",
              "       '1914', '1936', '1900', '1920', '1924', '1908', '1912', '1922',\n",
              "       '1907', '1910', '1911', '1917', '1921', '1906', 'Não se Aplica',\n",
              "       '1915', '1918', '1916', '1901', '1909', '1903', '1904', '1913',\n",
              "       '1902', '1905'], dtype=object)"
            ]
          },
          "metadata": {},
          "execution_count": 24
        }
      ],
      "source": [
        "df['ano_fab_crv'].unique()"
      ]
    },
    {
      "cell_type": "code",
      "execution_count": null,
      "metadata": {
        "id": "EMwcRj3GPZpg"
      },
      "outputs": [],
      "source": [
        "# A coluna ano fabricação esta no formato string e possuem valores inconsistentes\n",
        "# Passar os valores para o formato numerico e os incompatíveis para não-numérico\n",
        "df['ano_fab_crv'] = pd.to_numeric(df['ano_fab_crv'], errors='coerce')"
      ]
    },
    {
      "cell_type": "code",
      "execution_count": null,
      "metadata": {
        "id": "X34b3_JkMUfS",
        "colab": {
          "base_uri": "https://localhost:8080/"
        },
        "outputId": "7d8e7393-0eb1-47bc-8341-3ef7c13b908d"
      },
      "outputs": [
        {
          "output_type": "execute_result",
          "data": {
            "text/plain": [
              "array([1959., 1967., 1970., 1971., 1972., 1973., 1974., 1975., 1976.,\n",
              "       1977., 1978., 1979., 1980., 1981., 1982., 1983., 1984., 1985.,\n",
              "       1986., 1987., 1988., 1989., 1990., 1991., 1992., 1993., 1994.,\n",
              "       1995.,   nan, 1996., 1997., 1998., 1999., 2000., 2001., 2002.,\n",
              "       2003., 2004., 2005., 2006., 2007., 2008., 2009., 2010., 2011.,\n",
              "       2012., 2013., 2014., 2015., 2016., 2017., 2018., 2019., 2020.,\n",
              "       2021., 2022., 2023., 1960., 1964., 1968., 1969., 1945., 1954.,\n",
              "       1961., 1962., 1965., 1966., 1963., 1928., 1929., 1949., 1951.,\n",
              "       1958., 1953., 1926., 1930., 1937., 1939., 1942., 1947., 1948.,\n",
              "       1950., 1952., 1956., 1957., 1944., 1941., 1946., 1940., 1932.,\n",
              "       1931., 1955., 1938., 1919., 1923., 1925., 1927., 1933., 1934.,\n",
              "       1935., 1943., 1914., 1936., 1900., 1920., 1924., 1908., 1912.,\n",
              "       1922., 1907., 1910., 1911., 1917., 1921., 1906., 1915., 1918.,\n",
              "       1916., 1901., 1909., 1903., 1904., 1913., 1902., 1905.])"
            ]
          },
          "metadata": {},
          "execution_count": 26
        }
      ],
      "source": [
        "df['ano_fab_crv'].unique()"
      ]
    },
    {
      "cell_type": "code",
      "execution_count": null,
      "metadata": {
        "id": "udYuZLBf50sh"
      },
      "outputs": [],
      "source": [
        "# Serão analisados apenas os dados a partir de 2018 e até 2023(para evitar erros)\n",
        "df = df.loc[(df['ano_fab_crv'] >= 2018) & (df['ano_fab_crv'] < 2024)]"
      ]
    },
    {
      "cell_type": "code",
      "execution_count": null,
      "metadata": {
        "id": "ICbPULBmWm85",
        "colab": {
          "base_uri": "https://localhost:8080/"
        },
        "outputId": "354c28c2-a282-4b3c-c236-ac55c89326f3"
      },
      "outputs": [
        {
          "output_type": "stream",
          "name": "stderr",
          "text": [
            "<ipython-input-28-9f83721263ae>:2: SettingWithCopyWarning: \n",
            "A value is trying to be set on a copy of a slice from a DataFrame.\n",
            "Try using .loc[row_indexer,col_indexer] = value instead\n",
            "\n",
            "See the caveats in the documentation: https://pandas.pydata.org/pandas-docs/stable/user_guide/indexing.html#returning-a-view-versus-a-copy\n",
            "  df['ano_fab_crv'] = df['ano_fab_crv'].astype(int)\n"
          ]
        }
      ],
      "source": [
        "# Conversão de Float para Inteiro\n",
        "df['ano_fab_crv'] = df['ano_fab_crv'].astype(int)"
      ]
    },
    {
      "cell_type": "code",
      "execution_count": null,
      "metadata": {
        "id": "3Fyc0DUoyk2b",
        "colab": {
          "base_uri": "https://localhost:8080/"
        },
        "outputId": "79e73891-4772-4f84-c613-db265220c161"
      },
      "outputs": [
        {
          "output_type": "execute_result",
          "data": {
            "text/plain": [
              "UF              object\n",
              "municipio       object\n",
              "ano_fab_crv      int64\n",
              "qnt_veiculos     int64\n",
              "dtype: object"
            ]
          },
          "metadata": {},
          "execution_count": 29
        }
      ],
      "source": [
        "df.dtypes"
      ]
    },
    {
      "cell_type": "code",
      "execution_count": null,
      "metadata": {
        "id": "TOXDCxyy7Jsa",
        "colab": {
          "base_uri": "https://localhost:8080/"
        },
        "outputId": "8ca1b3ac-3dd9-4aaf-eabd-a87ec99ea19d"
      },
      "outputs": [
        {
          "output_type": "execute_result",
          "data": {
            "text/plain": [
              "UF              0\n",
              "municipio       0\n",
              "ano_fab_crv     0\n",
              "qnt_veiculos    0\n",
              "dtype: int64"
            ]
          },
          "metadata": {},
          "execution_count": 30
        }
      ],
      "source": [
        "df.isnull().sum()"
      ]
    },
    {
      "cell_type": "code",
      "execution_count": null,
      "metadata": {
        "id": "htxqptB57Qu-",
        "colab": {
          "base_uri": "https://localhost:8080/"
        },
        "outputId": "0b4162fd-ba11-4227-d74e-3087e9c31804"
      },
      "outputs": [
        {
          "output_type": "execute_result",
          "data": {
            "text/plain": [
              "(63968, 4)"
            ]
          },
          "metadata": {},
          "execution_count": 31
        }
      ],
      "source": [
        "df.shape"
      ]
    },
    {
      "cell_type": "code",
      "execution_count": null,
      "metadata": {
        "id": "56NrYeTYWonU",
        "colab": {
          "base_uri": "https://localhost:8080/"
        },
        "outputId": "b49d89a9-7bf9-417c-b41e-b88103830351"
      },
      "outputs": [
        {
          "output_type": "stream",
          "name": "stdout",
          "text": [
            "<class 'pandas.core.frame.DataFrame'>\n",
            "Int64Index: 63968 entries, 93 to 640505\n",
            "Data columns (total 4 columns):\n",
            " #   Column        Non-Null Count  Dtype \n",
            "---  ------        --------------  ----- \n",
            " 0   UF            63968 non-null  object\n",
            " 1   municipio     63968 non-null  object\n",
            " 2   ano_fab_crv   63968 non-null  int64 \n",
            " 3   qnt_veiculos  63968 non-null  int64 \n",
            "dtypes: int64(2), object(2)\n",
            "memory usage: 2.4+ MB\n"
          ]
        }
      ],
      "source": [
        "df.info()"
      ]
    },
    {
      "cell_type": "markdown",
      "metadata": {
        "id": "LcH6QBT-WQU9"
      },
      "source": [
        "##Criação do Schema"
      ]
    },
    {
      "cell_type": "code",
      "execution_count": null,
      "metadata": {
        "id": "oAvdBYAjWkfw"
      },
      "outputs": [],
      "source": [
        "schema = pa.DataFrameSchema(\n",
        "    columns = {\n",
        "        'UF':pa.Column(pa.String),\n",
        "        'ano_fab_crv':pa.Column(pa.Int),\n",
        "        'qnt_veiculos':pa.Column(pa.Int)\n",
        "    }\n",
        ")"
      ]
    },
    {
      "cell_type": "code",
      "execution_count": null,
      "metadata": {
        "id": "BIrJW3R2XZ1t",
        "colab": {
          "base_uri": "https://localhost:8080/",
          "height": 423
        },
        "outputId": "1fdd6f37-f71a-438f-d572-f5afa3d0113b"
      },
      "outputs": [
        {
          "output_type": "execute_result",
          "data": {
            "text/plain": [
              "               UF   municipio  ano_fab_crv  qnt_veiculos\n",
              "93           ACRE  ACRELANDIA         2018           141\n",
              "94           ACRE  ACRELANDIA         2018            84\n",
              "95           ACRE  ACRELANDIA         2019           139\n",
              "96           ACRE  ACRELANDIA         2019            68\n",
              "97           ACRE  ACRELANDIA         2020           107\n",
              "...           ...         ...          ...           ...\n",
              "640501  TOCANTINS     XAMBIOA         2021            98\n",
              "640502  TOCANTINS     XAMBIOA         2021            71\n",
              "640503  TOCANTINS     XAMBIOA         2022           115\n",
              "640504  TOCANTINS     XAMBIOA         2022            78\n",
              "640505  TOCANTINS     XAMBIOA         2023            24\n",
              "\n",
              "[63968 rows x 4 columns]"
            ],
            "text/html": [
              "\n",
              "  <div id=\"df-783f6c7b-c956-4ccc-b4f4-eb2eface5a51\">\n",
              "    <div class=\"colab-df-container\">\n",
              "      <div>\n",
              "<style scoped>\n",
              "    .dataframe tbody tr th:only-of-type {\n",
              "        vertical-align: middle;\n",
              "    }\n",
              "\n",
              "    .dataframe tbody tr th {\n",
              "        vertical-align: top;\n",
              "    }\n",
              "\n",
              "    .dataframe thead th {\n",
              "        text-align: right;\n",
              "    }\n",
              "</style>\n",
              "<table border=\"1\" class=\"dataframe\">\n",
              "  <thead>\n",
              "    <tr style=\"text-align: right;\">\n",
              "      <th></th>\n",
              "      <th>UF</th>\n",
              "      <th>municipio</th>\n",
              "      <th>ano_fab_crv</th>\n",
              "      <th>qnt_veiculos</th>\n",
              "    </tr>\n",
              "  </thead>\n",
              "  <tbody>\n",
              "    <tr>\n",
              "      <th>93</th>\n",
              "      <td>ACRE</td>\n",
              "      <td>ACRELANDIA</td>\n",
              "      <td>2018</td>\n",
              "      <td>141</td>\n",
              "    </tr>\n",
              "    <tr>\n",
              "      <th>94</th>\n",
              "      <td>ACRE</td>\n",
              "      <td>ACRELANDIA</td>\n",
              "      <td>2018</td>\n",
              "      <td>84</td>\n",
              "    </tr>\n",
              "    <tr>\n",
              "      <th>95</th>\n",
              "      <td>ACRE</td>\n",
              "      <td>ACRELANDIA</td>\n",
              "      <td>2019</td>\n",
              "      <td>139</td>\n",
              "    </tr>\n",
              "    <tr>\n",
              "      <th>96</th>\n",
              "      <td>ACRE</td>\n",
              "      <td>ACRELANDIA</td>\n",
              "      <td>2019</td>\n",
              "      <td>68</td>\n",
              "    </tr>\n",
              "    <tr>\n",
              "      <th>97</th>\n",
              "      <td>ACRE</td>\n",
              "      <td>ACRELANDIA</td>\n",
              "      <td>2020</td>\n",
              "      <td>107</td>\n",
              "    </tr>\n",
              "    <tr>\n",
              "      <th>...</th>\n",
              "      <td>...</td>\n",
              "      <td>...</td>\n",
              "      <td>...</td>\n",
              "      <td>...</td>\n",
              "    </tr>\n",
              "    <tr>\n",
              "      <th>640501</th>\n",
              "      <td>TOCANTINS</td>\n",
              "      <td>XAMBIOA</td>\n",
              "      <td>2021</td>\n",
              "      <td>98</td>\n",
              "    </tr>\n",
              "    <tr>\n",
              "      <th>640502</th>\n",
              "      <td>TOCANTINS</td>\n",
              "      <td>XAMBIOA</td>\n",
              "      <td>2021</td>\n",
              "      <td>71</td>\n",
              "    </tr>\n",
              "    <tr>\n",
              "      <th>640503</th>\n",
              "      <td>TOCANTINS</td>\n",
              "      <td>XAMBIOA</td>\n",
              "      <td>2022</td>\n",
              "      <td>115</td>\n",
              "    </tr>\n",
              "    <tr>\n",
              "      <th>640504</th>\n",
              "      <td>TOCANTINS</td>\n",
              "      <td>XAMBIOA</td>\n",
              "      <td>2022</td>\n",
              "      <td>78</td>\n",
              "    </tr>\n",
              "    <tr>\n",
              "      <th>640505</th>\n",
              "      <td>TOCANTINS</td>\n",
              "      <td>XAMBIOA</td>\n",
              "      <td>2023</td>\n",
              "      <td>24</td>\n",
              "    </tr>\n",
              "  </tbody>\n",
              "</table>\n",
              "<p>63968 rows × 4 columns</p>\n",
              "</div>\n",
              "      <button class=\"colab-df-convert\" onclick=\"convertToInteractive('df-783f6c7b-c956-4ccc-b4f4-eb2eface5a51')\"\n",
              "              title=\"Convert this dataframe to an interactive table.\"\n",
              "              style=\"display:none;\">\n",
              "        \n",
              "  <svg xmlns=\"http://www.w3.org/2000/svg\" height=\"24px\"viewBox=\"0 0 24 24\"\n",
              "       width=\"24px\">\n",
              "    <path d=\"M0 0h24v24H0V0z\" fill=\"none\"/>\n",
              "    <path d=\"M18.56 5.44l.94 2.06.94-2.06 2.06-.94-2.06-.94-.94-2.06-.94 2.06-2.06.94zm-11 1L8.5 8.5l.94-2.06 2.06-.94-2.06-.94L8.5 2.5l-.94 2.06-2.06.94zm10 10l.94 2.06.94-2.06 2.06-.94-2.06-.94-.94-2.06-.94 2.06-2.06.94z\"/><path d=\"M17.41 7.96l-1.37-1.37c-.4-.4-.92-.59-1.43-.59-.52 0-1.04.2-1.43.59L10.3 9.45l-7.72 7.72c-.78.78-.78 2.05 0 2.83L4 21.41c.39.39.9.59 1.41.59.51 0 1.02-.2 1.41-.59l7.78-7.78 2.81-2.81c.8-.78.8-2.07 0-2.86zM5.41 20L4 18.59l7.72-7.72 1.47 1.35L5.41 20z\"/>\n",
              "  </svg>\n",
              "      </button>\n",
              "      \n",
              "  <style>\n",
              "    .colab-df-container {\n",
              "      display:flex;\n",
              "      flex-wrap:wrap;\n",
              "      gap: 12px;\n",
              "    }\n",
              "\n",
              "    .colab-df-convert {\n",
              "      background-color: #E8F0FE;\n",
              "      border: none;\n",
              "      border-radius: 50%;\n",
              "      cursor: pointer;\n",
              "      display: none;\n",
              "      fill: #1967D2;\n",
              "      height: 32px;\n",
              "      padding: 0 0 0 0;\n",
              "      width: 32px;\n",
              "    }\n",
              "\n",
              "    .colab-df-convert:hover {\n",
              "      background-color: #E2EBFA;\n",
              "      box-shadow: 0px 1px 2px rgba(60, 64, 67, 0.3), 0px 1px 3px 1px rgba(60, 64, 67, 0.15);\n",
              "      fill: #174EA6;\n",
              "    }\n",
              "\n",
              "    [theme=dark] .colab-df-convert {\n",
              "      background-color: #3B4455;\n",
              "      fill: #D2E3FC;\n",
              "    }\n",
              "\n",
              "    [theme=dark] .colab-df-convert:hover {\n",
              "      background-color: #434B5C;\n",
              "      box-shadow: 0px 1px 3px 1px rgba(0, 0, 0, 0.15);\n",
              "      filter: drop-shadow(0px 1px 2px rgba(0, 0, 0, 0.3));\n",
              "      fill: #FFFFFF;\n",
              "    }\n",
              "  </style>\n",
              "\n",
              "      <script>\n",
              "        const buttonEl =\n",
              "          document.querySelector('#df-783f6c7b-c956-4ccc-b4f4-eb2eface5a51 button.colab-df-convert');\n",
              "        buttonEl.style.display =\n",
              "          google.colab.kernel.accessAllowed ? 'block' : 'none';\n",
              "\n",
              "        async function convertToInteractive(key) {\n",
              "          const element = document.querySelector('#df-783f6c7b-c956-4ccc-b4f4-eb2eface5a51');\n",
              "          const dataTable =\n",
              "            await google.colab.kernel.invokeFunction('convertToInteractive',\n",
              "                                                     [key], {});\n",
              "          if (!dataTable) return;\n",
              "\n",
              "          const docLinkHtml = 'Like what you see? Visit the ' +\n",
              "            '<a target=\"_blank\" href=https://colab.research.google.com/notebooks/data_table.ipynb>data table notebook</a>'\n",
              "            + ' to learn more about interactive tables.';\n",
              "          element.innerHTML = '';\n",
              "          dataTable['output_type'] = 'display_data';\n",
              "          await google.colab.output.renderOutput(dataTable, element);\n",
              "          const docLink = document.createElement('div');\n",
              "          docLink.innerHTML = docLinkHtml;\n",
              "          element.appendChild(docLink);\n",
              "        }\n",
              "      </script>\n",
              "    </div>\n",
              "  </div>\n",
              "  "
            ]
          },
          "metadata": {},
          "execution_count": 35
        }
      ],
      "source": [
        "schema.validate(df)"
      ]
    },
    {
      "cell_type": "markdown",
      "metadata": {
        "id": "IfrRGPLEhc4B"
      },
      "source": [
        "##Análises"
      ]
    },
    {
      "cell_type": "code",
      "execution_count": null,
      "metadata": {
        "id": "g4A8cj6K8O-0"
      },
      "outputs": [],
      "source": [
        "df_bkp = df.copy()"
      ]
    },
    {
      "cell_type": "code",
      "execution_count": null,
      "metadata": {
        "id": "tt8vjxFY9B9C",
        "colab": {
          "base_uri": "https://localhost:8080/"
        },
        "outputId": "effe1197-779e-4522-bc95-34475a81397d"
      },
      "outputs": [
        {
          "output_type": "execute_result",
          "data": {
            "text/plain": [
              "Index(['UF', 'municipio', 'ano_fab_crv', 'qnt_veiculos'], dtype='object')"
            ]
          },
          "metadata": {},
          "execution_count": 37
        }
      ],
      "source": [
        "df.columns"
      ]
    },
    {
      "cell_type": "code",
      "execution_count": null,
      "metadata": {
        "id": "HdgwLDcwGs0N",
        "colab": {
          "base_uri": "https://localhost:8080/"
        },
        "outputId": "3b7680a0-d9ca-4a4d-9f8f-9a76e310547d"
      },
      "outputs": [
        {
          "output_type": "execute_result",
          "data": {
            "text/plain": [
              "UF                28\n",
              "municipio       5288\n",
              "ano_fab_crv        6\n",
              "qnt_veiculos    2876\n",
              "dtype: int64"
            ]
          },
          "metadata": {},
          "execution_count": 38
        }
      ],
      "source": [
        "df.nunique()"
      ]
    },
    {
      "cell_type": "code",
      "execution_count": null,
      "metadata": {
        "id": "KGS419FIGtfN",
        "colab": {
          "base_uri": "https://localhost:8080/"
        },
        "outputId": "f1dee9ac-8201-4af9-edc8-2d5693d3f605"
      },
      "outputs": [
        {
          "output_type": "execute_result",
          "data": {
            "text/plain": [
              "UF              0\n",
              "municipio       0\n",
              "ano_fab_crv     0\n",
              "qnt_veiculos    0\n",
              "dtype: int64"
            ]
          },
          "metadata": {},
          "execution_count": 39
        }
      ],
      "source": [
        "df.isna().sum()"
      ]
    },
    {
      "cell_type": "code",
      "execution_count": null,
      "metadata": {
        "id": "3273Kr1gGwVF",
        "colab": {
          "base_uri": "https://localhost:8080/"
        },
        "outputId": "c300e392-d84d-4e59-bf8c-2c1b89a21156"
      },
      "outputs": [
        {
          "output_type": "execute_result",
          "data": {
            "text/plain": [
              "MINAS GERAIS           9612\n",
              "SAO PAULO              7732\n",
              "RIO GRANDE DO SUL      5657\n",
              "BAHIA                  4744\n",
              "PARANA                 4539\n",
              "SANTA CATARINA         3487\n",
              "GOIAS                  2844\n",
              "PARAIBA                2457\n",
              "PIAUI                  2449\n",
              "MARANHAO               2448\n",
              "PERNAMBUCO             2153\n",
              "CEARA                  2082\n",
              "RIO GRANDE DO NORTE    1876\n",
              "MATO GROSSO            1641\n",
              "PARA                   1640\n",
              "TOCANTINS              1549\n",
              "RIO DE JANEIRO         1275\n",
              "ALAGOAS                1157\n",
              "ESPIRITO SANTO          929\n",
              "MATO GROSSO DO SUL      919\n",
              "SERGIPE                 857\n",
              "AMAZONAS                704\n",
              "RONDONIA                593\n",
              "ACRE                    252\n",
              "AMAPA                   173\n",
              "RORAIMA                 168\n",
              "DISTRITO FEDERAL         19\n",
              "Sem Informação           12\n",
              "Name: UF, dtype: int64"
            ]
          },
          "metadata": {},
          "execution_count": 40
        }
      ],
      "source": [
        "# Os dados \"sem informação\" serão verificados também na coluna de municípios\n",
        "df['UF'].value_counts(sort=True)"
      ]
    },
    {
      "cell_type": "code",
      "execution_count": null,
      "metadata": {
        "id": "g2PZq8ypG1Aq",
        "colab": {
          "base_uri": "https://localhost:8080/"
        },
        "outputId": "7d3b51d1-0f53-4ee2-c52c-292ece05da3e"
      },
      "outputs": [
        {
          "output_type": "execute_result",
          "data": {
            "text/plain": [
              "BOM JESUS           67\n",
              "SANTA LUZIA         48\n",
              "VERA CRUZ           46\n",
              "SANTA INES          45\n",
              "SAO FRANCISCO       45\n",
              "                    ..\n",
              "PEDRO LAURENTINO     8\n",
              "UIRAMUTA             8\n",
              "IPIXUNA              7\n",
              "RIBEIRA DO PIAUI     7\n",
              "AFUA                 4\n",
              "Name: municipio, Length: 5288, dtype: int64"
            ]
          },
          "metadata": {},
          "execution_count": 41
        }
      ],
      "source": [
        "df['municipio'].value_counts(sort=True)"
      ]
    },
    {
      "cell_type": "code",
      "execution_count": null,
      "metadata": {
        "id": "S08c_nU1G5qk",
        "colab": {
          "base_uri": "https://localhost:8080/"
        },
        "outputId": "c779524c-33b9-4165-a6da-5df3b63d66f2"
      },
      "outputs": [
        {
          "output_type": "execute_result",
          "data": {
            "text/plain": [
              "Empty DataFrame\n",
              "Columns: [UF, municipio, ano_fab_crv, qnt_veiculos]\n",
              "Index: []"
            ],
            "text/html": [
              "\n",
              "  <div id=\"df-348bae19-25f8-46c0-a872-c4d146dc0c78\">\n",
              "    <div class=\"colab-df-container\">\n",
              "      <div>\n",
              "<style scoped>\n",
              "    .dataframe tbody tr th:only-of-type {\n",
              "        vertical-align: middle;\n",
              "    }\n",
              "\n",
              "    .dataframe tbody tr th {\n",
              "        vertical-align: top;\n",
              "    }\n",
              "\n",
              "    .dataframe thead th {\n",
              "        text-align: right;\n",
              "    }\n",
              "</style>\n",
              "<table border=\"1\" class=\"dataframe\">\n",
              "  <thead>\n",
              "    <tr style=\"text-align: right;\">\n",
              "      <th></th>\n",
              "      <th>UF</th>\n",
              "      <th>municipio</th>\n",
              "      <th>ano_fab_crv</th>\n",
              "      <th>qnt_veiculos</th>\n",
              "    </tr>\n",
              "  </thead>\n",
              "  <tbody>\n",
              "  </tbody>\n",
              "</table>\n",
              "</div>\n",
              "      <button class=\"colab-df-convert\" onclick=\"convertToInteractive('df-348bae19-25f8-46c0-a872-c4d146dc0c78')\"\n",
              "              title=\"Convert this dataframe to an interactive table.\"\n",
              "              style=\"display:none;\">\n",
              "        \n",
              "  <svg xmlns=\"http://www.w3.org/2000/svg\" height=\"24px\"viewBox=\"0 0 24 24\"\n",
              "       width=\"24px\">\n",
              "    <path d=\"M0 0h24v24H0V0z\" fill=\"none\"/>\n",
              "    <path d=\"M18.56 5.44l.94 2.06.94-2.06 2.06-.94-2.06-.94-.94-2.06-.94 2.06-2.06.94zm-11 1L8.5 8.5l.94-2.06 2.06-.94-2.06-.94L8.5 2.5l-.94 2.06-2.06.94zm10 10l.94 2.06.94-2.06 2.06-.94-2.06-.94-.94-2.06-.94 2.06-2.06.94z\"/><path d=\"M17.41 7.96l-1.37-1.37c-.4-.4-.92-.59-1.43-.59-.52 0-1.04.2-1.43.59L10.3 9.45l-7.72 7.72c-.78.78-.78 2.05 0 2.83L4 21.41c.39.39.9.59 1.41.59.51 0 1.02-.2 1.41-.59l7.78-7.78 2.81-2.81c.8-.78.8-2.07 0-2.86zM5.41 20L4 18.59l7.72-7.72 1.47 1.35L5.41 20z\"/>\n",
              "  </svg>\n",
              "      </button>\n",
              "      \n",
              "  <style>\n",
              "    .colab-df-container {\n",
              "      display:flex;\n",
              "      flex-wrap:wrap;\n",
              "      gap: 12px;\n",
              "    }\n",
              "\n",
              "    .colab-df-convert {\n",
              "      background-color: #E8F0FE;\n",
              "      border: none;\n",
              "      border-radius: 50%;\n",
              "      cursor: pointer;\n",
              "      display: none;\n",
              "      fill: #1967D2;\n",
              "      height: 32px;\n",
              "      padding: 0 0 0 0;\n",
              "      width: 32px;\n",
              "    }\n",
              "\n",
              "    .colab-df-convert:hover {\n",
              "      background-color: #E2EBFA;\n",
              "      box-shadow: 0px 1px 2px rgba(60, 64, 67, 0.3), 0px 1px 3px 1px rgba(60, 64, 67, 0.15);\n",
              "      fill: #174EA6;\n",
              "    }\n",
              "\n",
              "    [theme=dark] .colab-df-convert {\n",
              "      background-color: #3B4455;\n",
              "      fill: #D2E3FC;\n",
              "    }\n",
              "\n",
              "    [theme=dark] .colab-df-convert:hover {\n",
              "      background-color: #434B5C;\n",
              "      box-shadow: 0px 1px 3px 1px rgba(0, 0, 0, 0.15);\n",
              "      filter: drop-shadow(0px 1px 2px rgba(0, 0, 0, 0.3));\n",
              "      fill: #FFFFFF;\n",
              "    }\n",
              "  </style>\n",
              "\n",
              "      <script>\n",
              "        const buttonEl =\n",
              "          document.querySelector('#df-348bae19-25f8-46c0-a872-c4d146dc0c78 button.colab-df-convert');\n",
              "        buttonEl.style.display =\n",
              "          google.colab.kernel.accessAllowed ? 'block' : 'none';\n",
              "\n",
              "        async function convertToInteractive(key) {\n",
              "          const element = document.querySelector('#df-348bae19-25f8-46c0-a872-c4d146dc0c78');\n",
              "          const dataTable =\n",
              "            await google.colab.kernel.invokeFunction('convertToInteractive',\n",
              "                                                     [key], {});\n",
              "          if (!dataTable) return;\n",
              "\n",
              "          const docLinkHtml = 'Like what you see? Visit the ' +\n",
              "            '<a target=\"_blank\" href=https://colab.research.google.com/notebooks/data_table.ipynb>data table notebook</a>'\n",
              "            + ' to learn more about interactive tables.';\n",
              "          element.innerHTML = '';\n",
              "          dataTable['output_type'] = 'display_data';\n",
              "          await google.colab.output.renderOutput(dataTable, element);\n",
              "          const docLink = document.createElement('div');\n",
              "          docLink.innerHTML = docLinkHtml;\n",
              "          element.appendChild(docLink);\n",
              "        }\n",
              "      </script>\n",
              "    </div>\n",
              "  </div>\n",
              "  "
            ]
          },
          "metadata": {},
          "execution_count": 42
        }
      ],
      "source": [
        "df.loc[df['municipio'] == 'Não Identificado']"
      ]
    },
    {
      "cell_type": "code",
      "execution_count": null,
      "metadata": {
        "id": "SN3or-i5G6jo",
        "colab": {
          "base_uri": "https://localhost:8080/"
        },
        "outputId": "ce329e0a-174a-4460-a7bf-5229245178da"
      },
      "outputs": [
        {
          "output_type": "execute_result",
          "data": {
            "text/plain": [
              "                    UF       municipio  ano_fab_crv  qnt_veiculos\n",
              "627602  Sem Informação  Sem Informação         2018            22\n",
              "627604  Sem Informação  Sem Informação         2018             7\n",
              "627605  Sem Informação  Sem Informação         2019            21\n",
              "627607  Sem Informação  Sem Informação         2019             5\n",
              "627608  Sem Informação  Sem Informação         2020            17\n",
              "627610  Sem Informação  Sem Informação         2020             5\n",
              "627611  Sem Informação  Sem Informação         2021            13\n",
              "627613  Sem Informação  Sem Informação         2021            10\n",
              "627614  Sem Informação  Sem Informação         2022            23\n",
              "627616  Sem Informação  Sem Informação         2022            26\n",
              "627617  Sem Informação  Sem Informação         2023            11\n",
              "627619  Sem Informação  Sem Informação         2023             1"
            ],
            "text/html": [
              "\n",
              "  <div id=\"df-2730a99b-7969-4a5a-95f5-749f29d7f05d\">\n",
              "    <div class=\"colab-df-container\">\n",
              "      <div>\n",
              "<style scoped>\n",
              "    .dataframe tbody tr th:only-of-type {\n",
              "        vertical-align: middle;\n",
              "    }\n",
              "\n",
              "    .dataframe tbody tr th {\n",
              "        vertical-align: top;\n",
              "    }\n",
              "\n",
              "    .dataframe thead th {\n",
              "        text-align: right;\n",
              "    }\n",
              "</style>\n",
              "<table border=\"1\" class=\"dataframe\">\n",
              "  <thead>\n",
              "    <tr style=\"text-align: right;\">\n",
              "      <th></th>\n",
              "      <th>UF</th>\n",
              "      <th>municipio</th>\n",
              "      <th>ano_fab_crv</th>\n",
              "      <th>qnt_veiculos</th>\n",
              "    </tr>\n",
              "  </thead>\n",
              "  <tbody>\n",
              "    <tr>\n",
              "      <th>627602</th>\n",
              "      <td>Sem Informação</td>\n",
              "      <td>Sem Informação</td>\n",
              "      <td>2018</td>\n",
              "      <td>22</td>\n",
              "    </tr>\n",
              "    <tr>\n",
              "      <th>627604</th>\n",
              "      <td>Sem Informação</td>\n",
              "      <td>Sem Informação</td>\n",
              "      <td>2018</td>\n",
              "      <td>7</td>\n",
              "    </tr>\n",
              "    <tr>\n",
              "      <th>627605</th>\n",
              "      <td>Sem Informação</td>\n",
              "      <td>Sem Informação</td>\n",
              "      <td>2019</td>\n",
              "      <td>21</td>\n",
              "    </tr>\n",
              "    <tr>\n",
              "      <th>627607</th>\n",
              "      <td>Sem Informação</td>\n",
              "      <td>Sem Informação</td>\n",
              "      <td>2019</td>\n",
              "      <td>5</td>\n",
              "    </tr>\n",
              "    <tr>\n",
              "      <th>627608</th>\n",
              "      <td>Sem Informação</td>\n",
              "      <td>Sem Informação</td>\n",
              "      <td>2020</td>\n",
              "      <td>17</td>\n",
              "    </tr>\n",
              "    <tr>\n",
              "      <th>627610</th>\n",
              "      <td>Sem Informação</td>\n",
              "      <td>Sem Informação</td>\n",
              "      <td>2020</td>\n",
              "      <td>5</td>\n",
              "    </tr>\n",
              "    <tr>\n",
              "      <th>627611</th>\n",
              "      <td>Sem Informação</td>\n",
              "      <td>Sem Informação</td>\n",
              "      <td>2021</td>\n",
              "      <td>13</td>\n",
              "    </tr>\n",
              "    <tr>\n",
              "      <th>627613</th>\n",
              "      <td>Sem Informação</td>\n",
              "      <td>Sem Informação</td>\n",
              "      <td>2021</td>\n",
              "      <td>10</td>\n",
              "    </tr>\n",
              "    <tr>\n",
              "      <th>627614</th>\n",
              "      <td>Sem Informação</td>\n",
              "      <td>Sem Informação</td>\n",
              "      <td>2022</td>\n",
              "      <td>23</td>\n",
              "    </tr>\n",
              "    <tr>\n",
              "      <th>627616</th>\n",
              "      <td>Sem Informação</td>\n",
              "      <td>Sem Informação</td>\n",
              "      <td>2022</td>\n",
              "      <td>26</td>\n",
              "    </tr>\n",
              "    <tr>\n",
              "      <th>627617</th>\n",
              "      <td>Sem Informação</td>\n",
              "      <td>Sem Informação</td>\n",
              "      <td>2023</td>\n",
              "      <td>11</td>\n",
              "    </tr>\n",
              "    <tr>\n",
              "      <th>627619</th>\n",
              "      <td>Sem Informação</td>\n",
              "      <td>Sem Informação</td>\n",
              "      <td>2023</td>\n",
              "      <td>1</td>\n",
              "    </tr>\n",
              "  </tbody>\n",
              "</table>\n",
              "</div>\n",
              "      <button class=\"colab-df-convert\" onclick=\"convertToInteractive('df-2730a99b-7969-4a5a-95f5-749f29d7f05d')\"\n",
              "              title=\"Convert this dataframe to an interactive table.\"\n",
              "              style=\"display:none;\">\n",
              "        \n",
              "  <svg xmlns=\"http://www.w3.org/2000/svg\" height=\"24px\"viewBox=\"0 0 24 24\"\n",
              "       width=\"24px\">\n",
              "    <path d=\"M0 0h24v24H0V0z\" fill=\"none\"/>\n",
              "    <path d=\"M18.56 5.44l.94 2.06.94-2.06 2.06-.94-2.06-.94-.94-2.06-.94 2.06-2.06.94zm-11 1L8.5 8.5l.94-2.06 2.06-.94-2.06-.94L8.5 2.5l-.94 2.06-2.06.94zm10 10l.94 2.06.94-2.06 2.06-.94-2.06-.94-.94-2.06-.94 2.06-2.06.94z\"/><path d=\"M17.41 7.96l-1.37-1.37c-.4-.4-.92-.59-1.43-.59-.52 0-1.04.2-1.43.59L10.3 9.45l-7.72 7.72c-.78.78-.78 2.05 0 2.83L4 21.41c.39.39.9.59 1.41.59.51 0 1.02-.2 1.41-.59l7.78-7.78 2.81-2.81c.8-.78.8-2.07 0-2.86zM5.41 20L4 18.59l7.72-7.72 1.47 1.35L5.41 20z\"/>\n",
              "  </svg>\n",
              "      </button>\n",
              "      \n",
              "  <style>\n",
              "    .colab-df-container {\n",
              "      display:flex;\n",
              "      flex-wrap:wrap;\n",
              "      gap: 12px;\n",
              "    }\n",
              "\n",
              "    .colab-df-convert {\n",
              "      background-color: #E8F0FE;\n",
              "      border: none;\n",
              "      border-radius: 50%;\n",
              "      cursor: pointer;\n",
              "      display: none;\n",
              "      fill: #1967D2;\n",
              "      height: 32px;\n",
              "      padding: 0 0 0 0;\n",
              "      width: 32px;\n",
              "    }\n",
              "\n",
              "    .colab-df-convert:hover {\n",
              "      background-color: #E2EBFA;\n",
              "      box-shadow: 0px 1px 2px rgba(60, 64, 67, 0.3), 0px 1px 3px 1px rgba(60, 64, 67, 0.15);\n",
              "      fill: #174EA6;\n",
              "    }\n",
              "\n",
              "    [theme=dark] .colab-df-convert {\n",
              "      background-color: #3B4455;\n",
              "      fill: #D2E3FC;\n",
              "    }\n",
              "\n",
              "    [theme=dark] .colab-df-convert:hover {\n",
              "      background-color: #434B5C;\n",
              "      box-shadow: 0px 1px 3px 1px rgba(0, 0, 0, 0.15);\n",
              "      filter: drop-shadow(0px 1px 2px rgba(0, 0, 0, 0.3));\n",
              "      fill: #FFFFFF;\n",
              "    }\n",
              "  </style>\n",
              "\n",
              "      <script>\n",
              "        const buttonEl =\n",
              "          document.querySelector('#df-2730a99b-7969-4a5a-95f5-749f29d7f05d button.colab-df-convert');\n",
              "        buttonEl.style.display =\n",
              "          google.colab.kernel.accessAllowed ? 'block' : 'none';\n",
              "\n",
              "        async function convertToInteractive(key) {\n",
              "          const element = document.querySelector('#df-2730a99b-7969-4a5a-95f5-749f29d7f05d');\n",
              "          const dataTable =\n",
              "            await google.colab.kernel.invokeFunction('convertToInteractive',\n",
              "                                                     [key], {});\n",
              "          if (!dataTable) return;\n",
              "\n",
              "          const docLinkHtml = 'Like what you see? Visit the ' +\n",
              "            '<a target=\"_blank\" href=https://colab.research.google.com/notebooks/data_table.ipynb>data table notebook</a>'\n",
              "            + ' to learn more about interactive tables.';\n",
              "          element.innerHTML = '';\n",
              "          dataTable['output_type'] = 'display_data';\n",
              "          await google.colab.output.renderOutput(dataTable, element);\n",
              "          const docLink = document.createElement('div');\n",
              "          docLink.innerHTML = docLinkHtml;\n",
              "          element.appendChild(docLink);\n",
              "        }\n",
              "      </script>\n",
              "    </div>\n",
              "  </div>\n",
              "  "
            ]
          },
          "metadata": {},
          "execution_count": 43
        }
      ],
      "source": [
        "df.loc[df['municipio'] == 'Sem Informação']"
      ]
    },
    {
      "cell_type": "code",
      "execution_count": null,
      "metadata": {
        "id": "z7_bYPcyC5DK"
      },
      "outputs": [],
      "source": [
        "#Verificando municipios que podem estar como \"Sem informação\"\n",
        "df_sem_info_municipio = df.loc[df['municipio'] == 'Sem Informação']"
      ]
    },
    {
      "cell_type": "code",
      "execution_count": null,
      "metadata": {
        "id": "TbL50IKrDyBX",
        "colab": {
          "base_uri": "https://localhost:8080/"
        },
        "outputId": "d5d951a1-c5b5-44bd-da42-801f8d4720b0"
      },
      "outputs": [
        {
          "output_type": "execute_result",
          "data": {
            "text/plain": [
              "(12, 4)"
            ]
          },
          "metadata": {},
          "execution_count": 45
        }
      ],
      "source": [
        "df_sem_info_municipio.shape"
      ]
    },
    {
      "cell_type": "code",
      "execution_count": null,
      "metadata": {
        "id": "AQ0yfD1fEOY6",
        "colab": {
          "base_uri": "https://localhost:8080/"
        },
        "outputId": "629b904b-f59d-464c-c48d-b00495177fb2"
      },
      "outputs": [
        {
          "output_type": "execute_result",
          "data": {
            "text/plain": [
              "                    UF       municipio  ano_fab_crv  qnt_veiculos\n",
              "627602  Sem Informação  Sem Informação         2018            22\n",
              "627604  Sem Informação  Sem Informação         2018             7\n",
              "627605  Sem Informação  Sem Informação         2019            21\n",
              "627607  Sem Informação  Sem Informação         2019             5\n",
              "627608  Sem Informação  Sem Informação         2020            17\n",
              "627610  Sem Informação  Sem Informação         2020             5\n",
              "627611  Sem Informação  Sem Informação         2021            13\n",
              "627613  Sem Informação  Sem Informação         2021            10\n",
              "627614  Sem Informação  Sem Informação         2022            23\n",
              "627616  Sem Informação  Sem Informação         2022            26\n",
              "627617  Sem Informação  Sem Informação         2023            11\n",
              "627619  Sem Informação  Sem Informação         2023             1"
            ],
            "text/html": [
              "\n",
              "  <div id=\"df-63ff036d-dd3c-4d71-94c7-42b32f918903\">\n",
              "    <div class=\"colab-df-container\">\n",
              "      <div>\n",
              "<style scoped>\n",
              "    .dataframe tbody tr th:only-of-type {\n",
              "        vertical-align: middle;\n",
              "    }\n",
              "\n",
              "    .dataframe tbody tr th {\n",
              "        vertical-align: top;\n",
              "    }\n",
              "\n",
              "    .dataframe thead th {\n",
              "        text-align: right;\n",
              "    }\n",
              "</style>\n",
              "<table border=\"1\" class=\"dataframe\">\n",
              "  <thead>\n",
              "    <tr style=\"text-align: right;\">\n",
              "      <th></th>\n",
              "      <th>UF</th>\n",
              "      <th>municipio</th>\n",
              "      <th>ano_fab_crv</th>\n",
              "      <th>qnt_veiculos</th>\n",
              "    </tr>\n",
              "  </thead>\n",
              "  <tbody>\n",
              "    <tr>\n",
              "      <th>627602</th>\n",
              "      <td>Sem Informação</td>\n",
              "      <td>Sem Informação</td>\n",
              "      <td>2018</td>\n",
              "      <td>22</td>\n",
              "    </tr>\n",
              "    <tr>\n",
              "      <th>627604</th>\n",
              "      <td>Sem Informação</td>\n",
              "      <td>Sem Informação</td>\n",
              "      <td>2018</td>\n",
              "      <td>7</td>\n",
              "    </tr>\n",
              "    <tr>\n",
              "      <th>627605</th>\n",
              "      <td>Sem Informação</td>\n",
              "      <td>Sem Informação</td>\n",
              "      <td>2019</td>\n",
              "      <td>21</td>\n",
              "    </tr>\n",
              "    <tr>\n",
              "      <th>627607</th>\n",
              "      <td>Sem Informação</td>\n",
              "      <td>Sem Informação</td>\n",
              "      <td>2019</td>\n",
              "      <td>5</td>\n",
              "    </tr>\n",
              "    <tr>\n",
              "      <th>627608</th>\n",
              "      <td>Sem Informação</td>\n",
              "      <td>Sem Informação</td>\n",
              "      <td>2020</td>\n",
              "      <td>17</td>\n",
              "    </tr>\n",
              "    <tr>\n",
              "      <th>627610</th>\n",
              "      <td>Sem Informação</td>\n",
              "      <td>Sem Informação</td>\n",
              "      <td>2020</td>\n",
              "      <td>5</td>\n",
              "    </tr>\n",
              "    <tr>\n",
              "      <th>627611</th>\n",
              "      <td>Sem Informação</td>\n",
              "      <td>Sem Informação</td>\n",
              "      <td>2021</td>\n",
              "      <td>13</td>\n",
              "    </tr>\n",
              "    <tr>\n",
              "      <th>627613</th>\n",
              "      <td>Sem Informação</td>\n",
              "      <td>Sem Informação</td>\n",
              "      <td>2021</td>\n",
              "      <td>10</td>\n",
              "    </tr>\n",
              "    <tr>\n",
              "      <th>627614</th>\n",
              "      <td>Sem Informação</td>\n",
              "      <td>Sem Informação</td>\n",
              "      <td>2022</td>\n",
              "      <td>23</td>\n",
              "    </tr>\n",
              "    <tr>\n",
              "      <th>627616</th>\n",
              "      <td>Sem Informação</td>\n",
              "      <td>Sem Informação</td>\n",
              "      <td>2022</td>\n",
              "      <td>26</td>\n",
              "    </tr>\n",
              "    <tr>\n",
              "      <th>627617</th>\n",
              "      <td>Sem Informação</td>\n",
              "      <td>Sem Informação</td>\n",
              "      <td>2023</td>\n",
              "      <td>11</td>\n",
              "    </tr>\n",
              "    <tr>\n",
              "      <th>627619</th>\n",
              "      <td>Sem Informação</td>\n",
              "      <td>Sem Informação</td>\n",
              "      <td>2023</td>\n",
              "      <td>1</td>\n",
              "    </tr>\n",
              "  </tbody>\n",
              "</table>\n",
              "</div>\n",
              "      <button class=\"colab-df-convert\" onclick=\"convertToInteractive('df-63ff036d-dd3c-4d71-94c7-42b32f918903')\"\n",
              "              title=\"Convert this dataframe to an interactive table.\"\n",
              "              style=\"display:none;\">\n",
              "        \n",
              "  <svg xmlns=\"http://www.w3.org/2000/svg\" height=\"24px\"viewBox=\"0 0 24 24\"\n",
              "       width=\"24px\">\n",
              "    <path d=\"M0 0h24v24H0V0z\" fill=\"none\"/>\n",
              "    <path d=\"M18.56 5.44l.94 2.06.94-2.06 2.06-.94-2.06-.94-.94-2.06-.94 2.06-2.06.94zm-11 1L8.5 8.5l.94-2.06 2.06-.94-2.06-.94L8.5 2.5l-.94 2.06-2.06.94zm10 10l.94 2.06.94-2.06 2.06-.94-2.06-.94-.94-2.06-.94 2.06-2.06.94z\"/><path d=\"M17.41 7.96l-1.37-1.37c-.4-.4-.92-.59-1.43-.59-.52 0-1.04.2-1.43.59L10.3 9.45l-7.72 7.72c-.78.78-.78 2.05 0 2.83L4 21.41c.39.39.9.59 1.41.59.51 0 1.02-.2 1.41-.59l7.78-7.78 2.81-2.81c.8-.78.8-2.07 0-2.86zM5.41 20L4 18.59l7.72-7.72 1.47 1.35L5.41 20z\"/>\n",
              "  </svg>\n",
              "      </button>\n",
              "      \n",
              "  <style>\n",
              "    .colab-df-container {\n",
              "      display:flex;\n",
              "      flex-wrap:wrap;\n",
              "      gap: 12px;\n",
              "    }\n",
              "\n",
              "    .colab-df-convert {\n",
              "      background-color: #E8F0FE;\n",
              "      border: none;\n",
              "      border-radius: 50%;\n",
              "      cursor: pointer;\n",
              "      display: none;\n",
              "      fill: #1967D2;\n",
              "      height: 32px;\n",
              "      padding: 0 0 0 0;\n",
              "      width: 32px;\n",
              "    }\n",
              "\n",
              "    .colab-df-convert:hover {\n",
              "      background-color: #E2EBFA;\n",
              "      box-shadow: 0px 1px 2px rgba(60, 64, 67, 0.3), 0px 1px 3px 1px rgba(60, 64, 67, 0.15);\n",
              "      fill: #174EA6;\n",
              "    }\n",
              "\n",
              "    [theme=dark] .colab-df-convert {\n",
              "      background-color: #3B4455;\n",
              "      fill: #D2E3FC;\n",
              "    }\n",
              "\n",
              "    [theme=dark] .colab-df-convert:hover {\n",
              "      background-color: #434B5C;\n",
              "      box-shadow: 0px 1px 3px 1px rgba(0, 0, 0, 0.15);\n",
              "      filter: drop-shadow(0px 1px 2px rgba(0, 0, 0, 0.3));\n",
              "      fill: #FFFFFF;\n",
              "    }\n",
              "  </style>\n",
              "\n",
              "      <script>\n",
              "        const buttonEl =\n",
              "          document.querySelector('#df-63ff036d-dd3c-4d71-94c7-42b32f918903 button.colab-df-convert');\n",
              "        buttonEl.style.display =\n",
              "          google.colab.kernel.accessAllowed ? 'block' : 'none';\n",
              "\n",
              "        async function convertToInteractive(key) {\n",
              "          const element = document.querySelector('#df-63ff036d-dd3c-4d71-94c7-42b32f918903');\n",
              "          const dataTable =\n",
              "            await google.colab.kernel.invokeFunction('convertToInteractive',\n",
              "                                                     [key], {});\n",
              "          if (!dataTable) return;\n",
              "\n",
              "          const docLinkHtml = 'Like what you see? Visit the ' +\n",
              "            '<a target=\"_blank\" href=https://colab.research.google.com/notebooks/data_table.ipynb>data table notebook</a>'\n",
              "            + ' to learn more about interactive tables.';\n",
              "          element.innerHTML = '';\n",
              "          dataTable['output_type'] = 'display_data';\n",
              "          await google.colab.output.renderOutput(dataTable, element);\n",
              "          const docLink = document.createElement('div');\n",
              "          docLink.innerHTML = docLinkHtml;\n",
              "          element.appendChild(docLink);\n",
              "        }\n",
              "      </script>\n",
              "    </div>\n",
              "  </div>\n",
              "  "
            ]
          },
          "metadata": {},
          "execution_count": 46
        }
      ],
      "source": [
        "df_sem_info_municipio"
      ]
    },
    {
      "cell_type": "code",
      "execution_count": null,
      "metadata": {
        "id": "bz6ZOvNAHFYS"
      },
      "outputs": [],
      "source": [
        "#Verificando municipios que podem estar como \"Sem informação\"\n",
        "df_sem_info_municipio = df.loc[df['municipio'] == 'Sem Informação']"
      ]
    },
    {
      "cell_type": "code",
      "execution_count": null,
      "metadata": {
        "id": "18sahkCjHGCp",
        "colab": {
          "base_uri": "https://localhost:8080/"
        },
        "outputId": "7838848b-c052-49fd-9e50-bc8a2a25aed4"
      },
      "outputs": [
        {
          "output_type": "execute_result",
          "data": {
            "text/plain": [
              "(12, 4)"
            ]
          },
          "metadata": {},
          "execution_count": 48
        }
      ],
      "source": [
        "# Tal qual os estados, são 24 linhas com o dado \"sem informação\"\n",
        "df_sem_info_municipio.shape"
      ]
    },
    {
      "cell_type": "code",
      "execution_count": null,
      "metadata": {
        "id": "TLkoPzbkHImW"
      },
      "outputs": [],
      "source": [
        "# Tranformação das strings \"Sem Informação\" para valores nulos\n",
        "df = df.replace('Sem Informação', np.nan)"
      ]
    },
    {
      "cell_type": "code",
      "execution_count": null,
      "metadata": {
        "id": "fEMjNwxGHK_r"
      },
      "outputs": [],
      "source": [
        "# Exclusão das linhas nulas\n",
        "df = df.dropna()"
      ]
    },
    {
      "cell_type": "code",
      "execution_count": null,
      "metadata": {
        "id": "r2wfdRSPHM1y",
        "colab": {
          "base_uri": "https://localhost:8080/"
        },
        "outputId": "4dab0240-47d9-4491-eda0-600c12957076"
      },
      "outputs": [
        {
          "output_type": "execute_result",
          "data": {
            "text/plain": [
              "(63956, 4)"
            ]
          },
          "metadata": {},
          "execution_count": 51
        }
      ],
      "source": [
        "df.shape"
      ]
    },
    {
      "cell_type": "code",
      "execution_count": null,
      "metadata": {
        "id": "Jg98-8L2HPHw",
        "colab": {
          "base_uri": "https://localhost:8080/"
        },
        "outputId": "3517449b-98c0-4a6d-afc5-2cdd4ab029c1"
      },
      "outputs": [
        {
          "output_type": "execute_result",
          "data": {
            "text/plain": [
              "18212441"
            ]
          },
          "metadata": {},
          "execution_count": 52
        }
      ],
      "source": [
        "df['qnt_veiculos'].sum()"
      ]
    },
    {
      "cell_type": "code",
      "execution_count": null,
      "metadata": {
        "id": "xmrfffvuHSaJ",
        "colab": {
          "base_uri": "https://localhost:8080/"
        },
        "outputId": "e7683faa-d660-4431-aebe-67afd821352c"
      },
      "outputs": [
        {
          "output_type": "execute_result",
          "data": {
            "text/plain": [
              "2022    11580\n",
              "2021    11480\n",
              "2020    11465\n",
              "2018    11296\n",
              "2019    11281\n",
              "2023     6854\n",
              "Name: ano_fab_crv, dtype: int64"
            ]
          },
          "metadata": {},
          "execution_count": 53
        }
      ],
      "source": [
        "df['ano_fab_crv'].value_counts(sort=True)"
      ]
    },
    {
      "cell_type": "markdown",
      "metadata": {
        "id": "NiVply2QHWJY"
      },
      "source": [
        "##Plotagens"
      ]
    },
    {
      "cell_type": "code",
      "execution_count": null,
      "metadata": {
        "id": "BSICIjASHUhu",
        "colab": {
          "base_uri": "https://localhost:8080/"
        },
        "outputId": "7b90462e-0018-4193-c6bc-c493536a5957"
      },
      "outputs": [
        {
          "output_type": "execute_result",
          "data": {
            "text/plain": [
              "63956"
            ]
          },
          "metadata": {},
          "execution_count": 54
        }
      ],
      "source": [
        "df['municipio'].value_counts(sort=True).sum()"
      ]
    },
    {
      "cell_type": "code",
      "execution_count": null,
      "metadata": {
        "id": "4uxQlPZ_HaJS",
        "colab": {
          "base_uri": "https://localhost:8080/"
        },
        "outputId": "dec7346a-0039-4a80-b1fc-1c4f3e322441"
      },
      "outputs": [
        {
          "output_type": "execute_result",
          "data": {
            "text/plain": [
              "MINAS GERAIS           9612\n",
              "SAO PAULO              7732\n",
              "RIO GRANDE DO SUL      5657\n",
              "BAHIA                  4744\n",
              "PARANA                 4539\n",
              "SANTA CATARINA         3487\n",
              "GOIAS                  2844\n",
              "PARAIBA                2457\n",
              "PIAUI                  2449\n",
              "MARANHAO               2448\n",
              "PERNAMBUCO             2153\n",
              "CEARA                  2082\n",
              "RIO GRANDE DO NORTE    1876\n",
              "MATO GROSSO            1641\n",
              "PARA                   1640\n",
              "TOCANTINS              1549\n",
              "RIO DE JANEIRO         1275\n",
              "ALAGOAS                1157\n",
              "ESPIRITO SANTO          929\n",
              "MATO GROSSO DO SUL      919\n",
              "SERGIPE                 857\n",
              "AMAZONAS                704\n",
              "RONDONIA                593\n",
              "ACRE                    252\n",
              "AMAPA                   173\n",
              "RORAIMA                 168\n",
              "DISTRITO FEDERAL         19\n",
              "Name: UF, dtype: int64"
            ]
          },
          "metadata": {},
          "execution_count": 55
        }
      ],
      "source": [
        "df['UF'].value_counts(sort=True)"
      ]
    },
    {
      "cell_type": "code",
      "execution_count": null,
      "metadata": {
        "id": "sZwXDnhlHfwZ",
        "colab": {
          "base_uri": "https://localhost:8080/"
        },
        "outputId": "115568bc-435a-4ea2-c6ab-2c2876e9c462"
      },
      "outputs": [
        {
          "output_type": "execute_result",
          "data": {
            "text/plain": [
              "<Axes: xlabel='Nº DE MUNICÍPIOS', ylabel='UF'>"
            ]
          },
          "metadata": {},
          "execution_count": 56
        },
        {
          "output_type": "display_data",
          "data": {
            "text/plain": [
              "<Figure size 1200x800 with 1 Axes>"
            ],
            "image/png": "[encoded data removed]"
          },
          "metadata": {}
        }
      ],
      "source": [
        "#QUANTIDADE DE MUNICÍPIOS POR ESTADO\n",
        "df.groupby(['UF'],dropna=False).size().sort_values(ascending=False).plot.barh(figsize=(12,8),xlabel='Nº DE MUNICÍPIOS',ylabel='UF')"
      ]
    },
    {
      "cell_type": "code",
      "execution_count": null,
      "metadata": {
        "id": "9m2s6utXHgi4",
        "colab": {
          "base_uri": "https://localhost:8080/"
        },
        "outputId": "673e6d25-26fc-499f-d781-678cc86179d5"
      },
      "outputs": [
        {
          "output_type": "execute_result",
          "data": {
            "text/plain": [
              "<Axes: xlabel='UF', ylabel='Nº DE VEÍCULOS'>"
            ]
          },
          "metadata": {},
          "execution_count": 57
        },
        {
          "output_type": "display_data",
          "data": {
            "text/plain": [
              "<Figure size 1200x800 with 1 Axes>"
            ],
            "image/png": "[encoded data removed]"
          },
          "metadata": {}
        }
      ],
      "source": [
        "#QUANTIDADE DE VEÍCULOS POR ESTADO\n",
        "df.groupby(['UF'])['qnt_veiculos'].sum().sort_values(ascending=False).plot.bar(figsize=(12,8),xlabel='UF',ylabel='Nº DE VEÍCULOS')"
      ]
    },
    {
      "cell_type": "code",
      "execution_count": null,
      "metadata": {
        "id": "Wub7istyHkM0",
        "colab": {
          "base_uri": "https://localhost:8080/"
        },
        "outputId": "ec848b3b-8dad-404d-e852-cbdb020ed0c7"
      },
      "outputs": [
        {
          "output_type": "display_data",
          "data": {
            "text/plain": [
              "<Figure size 1200x800 with 1 Axes>"
            ],
            "image/png": "[encoded data removed]"
          },
          "metadata": {}
        }
      ],
      "source": [
        "#DISTRIBUIÇÃO DA QUANTIDADE DE VEÍCULOS\n",
        "\n",
        "boxplot = df.groupby(['UF'])['qnt_veiculos'].sum().plot(kind='box',\n",
        "                                                        figsize=(12, 8),\n",
        "                                                        xlabel='',\n",
        "                                                        ylabel='Nº DE VEICULOS')\n"
      ]
    },
    {
      "cell_type": "code",
      "execution_count": null,
      "metadata": {
        "id": "nAjONBg8RZBI",
        "colab": {
          "base_uri": "https://localhost:8080/"
        },
        "outputId": "4f92f079-9c62-4855-8aeb-4b75848c2ba9"
      },
      "outputs": [
        {
          "output_type": "execute_result",
          "data": {
            "text/plain": [
              "<Axes: xlabel='ANO', ylabel='QUANTIDADE TOTAL'>"
            ]
          },
          "metadata": {},
          "execution_count": 59
        },
        {
          "output_type": "display_data",
          "data": {
            "text/plain": [
              "<Figure size 1200x800 with 1 Axes>"
            ],
            "image/png": "[encoded data removed]"
          },
          "metadata": {}
        }
      ],
      "source": [
        "df.groupby(['ano_fab_crv'])['qnt_veiculos'].sum().sort_values(ascending=False).plot.bar(figsize=(12,8),xlabel='ANO',ylabel='QUANTIDADE TOTAL')"
      ]
    },
    {
      "cell_type": "markdown",
      "metadata": {
        "id": "-JPC6lPfHpj2"
      },
      "source": [
        "##Carregamento"
      ]
    },
    {
      "cell_type": "code",
      "execution_count": null,
      "metadata": {
        "id": "0Ln4DoMMHnv9"
      },
      "outputs": [],
      "source": [
        "df.to_csv('gs://projetofinal1/tratados/frota.csv',index=False)"
      ]
    },
    {
      "cell_type": "code",
      "execution_count": null,
      "metadata": {
        "id": "7nscEqdpHtfR"
      },
      "outputs": [],
      "source": [
        "df.to_csv('frota.csv',index=False)"
      ]
    },
    {
      "cell_type": "code",
      "execution_count": null,
      "metadata": {
        "id": "DQRS_uuwVxeN"
      },
      "outputs": [],
      "source": [
        "df.count()"
      ]
    },
    {
      "cell_type": "code",
      "execution_count": null,
      "metadata": {
        "id": "9sHiGPejRgo6"
      },
      "outputs": [],
      "source": [
        "colecao_tratado.delete_many({})"
      ]
    },
    {
      "cell_type": "code",
      "execution_count": null,
      "metadata": {
        "id": "4jMu2iQWHscO"
      },
      "outputs": [],
      "source": [
        "#carregando os dados tratados no mongo\n",
        "colecao_tratado.insert_many(df.to_dict('records'))"
      ]
    },
    {
      "cell_type": "code",
      "execution_count": null,
      "metadata": {
        "id": "HK2EFIv4Vmga"
      },
      "outputs": [],
      "source": [
        "colecao_tratado.count_documents({})"
      ]
    }
  ],
  "metadata": {
    "colab": {
      "collapsed_sections": [
        "lpIe0-f39nFa",
        "buXy00oT-bVM",
        "E5xDHzie-xsm",
        "FyfSon3JAcCW",
        "Lds2rX3TNRyu",
        "GcVdA-3yC05W",
        "LcH6QBT-WQU9",
        "IfrRGPLEhc4B",
        "NiVply2QHWJY",
        "-JPC6lPfHpj2"
      ],
      "provenance": [],
      "include_colab_link": true
    },
    "kernelspec": {
      "display_name": "Python 3",
      "name": "python3"
    },
    "language_info": {
      "name": "python"
    }
  },
  "nbformat": 4,
  "nbformat_minor": 0
}