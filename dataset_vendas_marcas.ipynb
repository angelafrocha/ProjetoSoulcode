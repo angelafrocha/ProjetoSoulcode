{
  "nbformat": 4,
  "nbformat_minor": 0,
  "metadata": {
    "colab": {
      "provenance": [],
      "include_colab_link": true
    },
    "kernelspec": {
      "name": "python3",
      "display_name": "Python 3"
    },
    "language_info": {
      "name": "python"
    }
  },
  "cells": [
    {
      "cell_type": "markdown",
      "metadata": {
        "id": "view-in-github",
        "colab_type": "text"
      },
      "source": [
        "<a href=\"https://colab.research.google.com/github/angelafrocha/ProjetoSoulcode/blob/main/dataset_vendas_marcas.ipynb\" target=\"_parent\"><img src=\"https://colab.research.google.com/assets/colab-badge.svg\" alt=\"Open In Colab\"/></a>"
      ]
    },
    {
      "cell_type": "markdown",
      "source": [
        "##1) Instalação das bibliotecas\n"
      ],
      "metadata": {
        "id": "OCPMKW6Dffp7"
      }
    },
    {
      "cell_type": "markdown",
      "source": [
        "Instalando pandera para validação do Schema após a tranformação dos dados, a biblioteca do GCP para extrair os dados do bucket e o pymongo para acesso ao Mongo DB"
      ],
      "metadata": {
        "id": "6PM8fiFkN5I4"
      }
    },
    {
      "cell_type": "code",
      "source": [
        "pip install pandera"
      ],
      "metadata": {
        "id": "7lJuYe-0fVF6",
        "colab": {
          "base_uri": "https://localhost:8080/"
        },
        "outputId": "e6007de4-f7f1-4cb1-8a1e-2a5668912387"
      },
      "execution_count": null,
      "outputs": [
        {
          "output_type": "stream",
          "name": "stdout",
          "text": [
            "Looking in indexes: https://pypi.org/simple, https://us-python.pkg.dev/colab-wheels/public/simple/\n",
            "Collecting pandera\n",
            "  Downloading pandera-0.14.5-py3-none-any.whl (149 kB)\n",
            "\u001b[2K     \u001b[90m━━━━━━━━━━━━━━━━━━━━━━━━━━━━━━━━━━━━━━━\u001b[0m \u001b[32m149.3/149.3 kB\u001b[0m \u001b[31m5.6 MB/s\u001b[0m eta \u001b[36m0:00:00\u001b[0m\n",
            "\u001b[?25hCollecting multimethod\n",
            "  Downloading multimethod-1.9.1-py3-none-any.whl (10 kB)\n",
            "Requirement already satisfied: pandas>=1.2.0 in /usr/local/lib/python3.10/dist-packages (from pandera) (1.5.3)\n",
            "Collecting typing-inspect>=0.6.0\n",
            "  Downloading typing_inspect-0.8.0-py3-none-any.whl (8.7 kB)\n",
            "Requirement already satisfied: packaging>=20.0 in /usr/local/lib/python3.10/dist-packages (from pandera) (23.1)\n",
            "Requirement already satisfied: numpy>=1.19.0 in /usr/local/lib/python3.10/dist-packages (from pandera) (1.22.4)\n",
            "Requirement already satisfied: wrapt in /usr/local/lib/python3.10/dist-packages (from pandera) (1.14.1)\n",
            "Requirement already satisfied: pydantic in /usr/local/lib/python3.10/dist-packages (from pandera) (1.10.7)\n",
            "Requirement already satisfied: pytz>=2020.1 in /usr/local/lib/python3.10/dist-packages (from pandas>=1.2.0->pandera) (2022.7.1)\n",
            "Requirement already satisfied: python-dateutil>=2.8.1 in /usr/local/lib/python3.10/dist-packages (from pandas>=1.2.0->pandera) (2.8.2)\n",
            "Requirement already satisfied: typing-extensions>=3.7.4 in /usr/local/lib/python3.10/dist-packages (from typing-inspect>=0.6.0->pandera) (4.5.0)\n",
            "Collecting mypy-extensions>=0.3.0\n",
            "  Downloading mypy_extensions-1.0.0-py3-none-any.whl (4.7 kB)\n",
            "Requirement already satisfied: six>=1.5 in /usr/local/lib/python3.10/dist-packages (from python-dateutil>=2.8.1->pandas>=1.2.0->pandera) (1.16.0)\n",
            "Installing collected packages: mypy-extensions, multimethod, typing-inspect, pandera\n",
            "Successfully installed multimethod-1.9.1 mypy-extensions-1.0.0 pandera-0.14.5 typing-inspect-0.8.0\n"
          ]
        }
      ]
    },
    {
      "cell_type": "code",
      "source": [
        "pip install gcsfs"
      ],
      "metadata": {
        "id": "KhB5e588Lty_",
        "colab": {
          "base_uri": "https://localhost:8080/"
        },
        "outputId": "34a7c5b5-cd1d-4891-8667-43a244f7af9c"
      },
      "execution_count": null,
      "outputs": [
        {
          "output_type": "stream",
          "name": "stdout",
          "text": [
            "Looking in indexes: https://pypi.org/simple, https://us-python.pkg.dev/colab-wheels/public/simple/\n",
            "Collecting gcsfs\n",
            "  Downloading gcsfs-2023.4.0-py2.py3-none-any.whl (26 kB)\n",
            "Requirement already satisfied: decorator>4.1.2 in /usr/local/lib/python3.10/dist-packages (from gcsfs) (4.4.2)\n",
            "Requirement already satisfied: google-auth>=1.2 in /usr/local/lib/python3.10/dist-packages (from gcsfs) (2.17.3)\n",
            "Requirement already satisfied: requests in /usr/local/lib/python3.10/dist-packages (from gcsfs) (2.27.1)\n",
            "Requirement already satisfied: google-cloud-storage in /usr/local/lib/python3.10/dist-packages (from gcsfs) (2.8.0)\n",
            "Requirement already satisfied: fsspec==2023.4.0 in /usr/local/lib/python3.10/dist-packages (from gcsfs) (2023.4.0)\n",
            "Requirement already satisfied: google-auth-oauthlib in /usr/local/lib/python3.10/dist-packages (from gcsfs) (1.0.0)\n",
            "Collecting aiohttp!=4.0.0a0,!=4.0.0a1\n",
            "  Downloading aiohttp-3.8.4-cp310-cp310-manylinux_2_17_x86_64.manylinux2014_x86_64.whl (1.0 MB)\n",
            "\u001b[2K     \u001b[90m━━━━━━━━━━━━━━━━━━━━━━━━━━━━━━━━━━━━━━━━\u001b[0m \u001b[32m1.0/1.0 MB\u001b[0m \u001b[31m17.0 MB/s\u001b[0m eta \u001b[36m0:00:00\u001b[0m\n",
            "\u001b[?25hCollecting aiosignal>=1.1.2\n",
            "  Downloading aiosignal-1.3.1-py3-none-any.whl (7.6 kB)\n",
            "Collecting async-timeout<5.0,>=4.0.0a3\n",
            "  Downloading async_timeout-4.0.2-py3-none-any.whl (5.8 kB)\n",
            "Requirement already satisfied: charset-normalizer<4.0,>=2.0 in /usr/local/lib/python3.10/dist-packages (from aiohttp!=4.0.0a0,!=4.0.0a1->gcsfs) (2.0.12)\n",
            "Collecting multidict<7.0,>=4.5\n",
            "  Downloading multidict-6.0.4-cp310-cp310-manylinux_2_17_x86_64.manylinux2014_x86_64.whl (114 kB)\n",
            "\u001b[2K     \u001b[90m━━━━━━━━━━━━━━━━━━━━━━━━━━━━━━━━━━━━━━━\u001b[0m \u001b[32m114.5/114.5 kB\u001b[0m \u001b[31m6.7 MB/s\u001b[0m eta \u001b[36m0:00:00\u001b[0m\n",
            "\u001b[?25hRequirement already satisfied: attrs>=17.3.0 in /usr/local/lib/python3.10/dist-packages (from aiohttp!=4.0.0a0,!=4.0.0a1->gcsfs) (23.1.0)\n",
            "Collecting yarl<2.0,>=1.0\n",
            "  Downloading yarl-1.9.2-cp310-cp310-manylinux_2_17_x86_64.manylinux2014_x86_64.whl (268 kB)\n",
            "\u001b[2K     \u001b[90m━━━━━━━━━━━━━━━━━━━━━━━━━━━━━━━━━━━━━━\u001b[0m \u001b[32m268.8/268.8 kB\u001b[0m \u001b[31m17.3 MB/s\u001b[0m eta \u001b[36m0:00:00\u001b[0m\n",
            "\u001b[?25hCollecting frozenlist>=1.1.1\n",
            "  Downloading frozenlist-1.3.3-cp310-cp310-manylinux_2_5_x86_64.manylinux1_x86_64.manylinux_2_17_x86_64.manylinux2014_x86_64.whl (149 kB)\n",
            "\u001b[2K     \u001b[90m━━━━━━━━━━━━━━━━━━━━━━━━━━━━━━━━━━━━━━\u001b[0m \u001b[32m149.6/149.6 kB\u001b[0m \u001b[31m14.6 MB/s\u001b[0m eta \u001b[36m0:00:00\u001b[0m\n",
            "\u001b[?25hRequirement already satisfied: pyasn1-modules>=0.2.1 in /usr/local/lib/python3.10/dist-packages (from google-auth>=1.2->gcsfs) (0.3.0)\n",
            "Requirement already satisfied: six>=1.9.0 in /usr/local/lib/python3.10/dist-packages (from google-auth>=1.2->gcsfs) (1.16.0)\n",
            "Requirement already satisfied: rsa<5,>=3.1.4 in /usr/local/lib/python3.10/dist-packages (from google-auth>=1.2->gcsfs) (4.9)\n",
            "Requirement already satisfied: cachetools<6.0,>=2.0.0 in /usr/local/lib/python3.10/dist-packages (from google-auth>=1.2->gcsfs) (5.3.0)\n",
            "Requirement already satisfied: requests-oauthlib>=0.7.0 in /usr/local/lib/python3.10/dist-packages (from google-auth-oauthlib->gcsfs) (1.3.1)\n",
            "Requirement already satisfied: google-cloud-core<3.0dev,>=2.3.0 in /usr/local/lib/python3.10/dist-packages (from google-cloud-storage->gcsfs) (2.3.2)\n",
            "Requirement already satisfied: google-api-core!=2.0.*,!=2.1.*,!=2.2.*,!=2.3.0,<3.0.0dev,>=1.31.5 in /usr/local/lib/python3.10/dist-packages (from google-cloud-storage->gcsfs) (2.11.0)\n",
            "Requirement already satisfied: google-resumable-media>=2.3.2 in /usr/local/lib/python3.10/dist-packages (from google-cloud-storage->gcsfs) (2.5.0)\n",
            "Requirement already satisfied: urllib3<1.27,>=1.21.1 in /usr/local/lib/python3.10/dist-packages (from requests->gcsfs) (1.26.15)\n",
            "Requirement already satisfied: certifi>=2017.4.17 in /usr/local/lib/python3.10/dist-packages (from requests->gcsfs) (2022.12.7)\n",
            "Requirement already satisfied: idna<4,>=2.5 in /usr/local/lib/python3.10/dist-packages (from requests->gcsfs) (3.4)\n",
            "Requirement already satisfied: googleapis-common-protos<2.0dev,>=1.56.2 in /usr/local/lib/python3.10/dist-packages (from google-api-core!=2.0.*,!=2.1.*,!=2.2.*,!=2.3.0,<3.0.0dev,>=1.31.5->google-cloud-storage->gcsfs) (1.59.0)\n",
            "Requirement already satisfied: protobuf!=3.20.0,!=3.20.1,!=4.21.0,!=4.21.1,!=4.21.2,!=4.21.3,!=4.21.4,!=4.21.5,<5.0.0dev,>=3.19.5 in /usr/local/lib/python3.10/dist-packages (from google-api-core!=2.0.*,!=2.1.*,!=2.2.*,!=2.3.0,<3.0.0dev,>=1.31.5->google-cloud-storage->gcsfs) (3.20.3)\n",
            "Requirement already satisfied: google-crc32c<2.0dev,>=1.0 in /usr/local/lib/python3.10/dist-packages (from google-resumable-media>=2.3.2->google-cloud-storage->gcsfs) (1.5.0)\n",
            "Requirement already satisfied: pyasn1<0.6.0,>=0.4.6 in /usr/local/lib/python3.10/dist-packages (from pyasn1-modules>=0.2.1->google-auth>=1.2->gcsfs) (0.5.0)\n",
            "Requirement already satisfied: oauthlib>=3.0.0 in /usr/local/lib/python3.10/dist-packages (from requests-oauthlib>=0.7.0->google-auth-oauthlib->gcsfs) (3.2.2)\n",
            "Installing collected packages: multidict, frozenlist, async-timeout, yarl, aiosignal, aiohttp, gcsfs\n",
            "Successfully installed aiohttp-3.8.4 aiosignal-1.3.1 async-timeout-4.0.2 frozenlist-1.3.3 gcsfs-2023.4.0 multidict-6.0.4 yarl-1.9.2\n"
          ]
        }
      ]
    },
    {
      "cell_type": "code",
      "source": [
        "pip install pymongo"
      ],
      "metadata": {
        "id": "J9vs7cT43qD1",
        "colab": {
          "base_uri": "https://localhost:8080/"
        },
        "outputId": "22e5fd94-cc8d-4389-908d-1ba3ea46d87d"
      },
      "execution_count": null,
      "outputs": [
        {
          "output_type": "stream",
          "name": "stdout",
          "text": [
            "Looking in indexes: https://pypi.org/simple, https://us-python.pkg.dev/colab-wheels/public/simple/\n",
            "Collecting pymongo\n",
            "  Downloading pymongo-4.3.3-cp310-cp310-manylinux_2_17_x86_64.manylinux2014_x86_64.whl (492 kB)\n",
            "\u001b[2K     \u001b[90m━━━━━━━━━━━━━━━━━━━━━━━━━━━━━━━━━━━━━━━\u001b[0m \u001b[32m492.9/492.9 kB\u001b[0m \u001b[31m9.6 MB/s\u001b[0m eta \u001b[36m0:00:00\u001b[0m\n",
            "\u001b[?25hCollecting dnspython<3.0.0,>=1.16.0\n",
            "  Downloading dnspython-2.3.0-py3-none-any.whl (283 kB)\n",
            "\u001b[2K     \u001b[90m━━━━━━━━━━━━━━━━━━━━━━━━━━━━━━━━━━━━━━━\u001b[0m \u001b[32m283.7/283.7 kB\u001b[0m \u001b[31m8.0 MB/s\u001b[0m eta \u001b[36m0:00:00\u001b[0m\n",
            "\u001b[?25hInstalling collected packages: dnspython, pymongo\n",
            "Successfully installed dnspython-2.3.0 pymongo-4.3.3\n"
          ]
        }
      ]
    },
    {
      "cell_type": "markdown",
      "source": [
        "##2) importação das bibliotecas\n"
      ],
      "metadata": {
        "id": "1TBPQKdSfktX"
      }
    },
    {
      "cell_type": "code",
      "execution_count": null,
      "metadata": {
        "id": "c-AoxqMlSCOu"
      },
      "outputs": [],
      "source": [
        "import pandas as pd\n",
        "import numpy as np\n",
        "import pandera as pa\n",
        "import matplotlib.pyplot as plt\n",
        "from google.cloud import storage\n",
        "import os\n",
        "import pymongo\n",
        "from pymongo import MongoClient"
      ]
    },
    {
      "cell_type": "markdown",
      "source": [
        "##3) Conectores\n"
      ],
      "metadata": {
        "id": "e8VQ6PURfqOI"
      }
    },
    {
      "cell_type": "markdown",
      "source": [
        "###Conector MongoDB"
      ],
      "metadata": {
        "id": "67m0yakQ4lcs"
      }
    },
    {
      "cell_type": "code",
      "source": [
        "#conector para o MongoDB\n",
        "\n",
        "uri = \"mongodb+srv://clustere5.wjshwzt.mongodb.net/?authSource=%24external&authMechanism=MONGODB-X509&retryWrites=true&w=majority\"\n",
        "client = MongoClient(uri,\n",
        "                     tls=True,\n",
        "                     tlsCertificateKeyFile='/content/acessoautoinsight.pem',\n",
        "                     )\n",
        "\n",
        "db = client['vendas_marca']\n",
        "colecao = db['tratado']"
      ],
      "metadata": {
        "id": "Tc50J_WM4oB6"
      },
      "execution_count": null,
      "outputs": []
    },
    {
      "cell_type": "code",
      "source": [
        "doc_count = colecao.count_documents({})\n",
        "print(doc_count)"
      ],
      "metadata": {
        "colab": {
          "base_uri": "https://localhost:8080/"
        },
        "id": "IqF1wMgE5p44",
        "outputId": "9f56bb56-57f7-4342-84c6-d9d3ed44ba48"
      },
      "execution_count": null,
      "outputs": [
        {
          "output_type": "stream",
          "name": "stdout",
          "text": [
            "0\n"
          ]
        }
      ]
    },
    {
      "cell_type": "markdown",
      "source": [
        "###Conexão com o google cloud Storage"
      ],
      "metadata": {
        "id": "YUXoTUbnI-iU"
      }
    },
    {
      "cell_type": "code",
      "source": [
        "#configuração da chave de segurança para acesso ao bucket\n",
        "serviceAccount = '/content/chave_bucketProjetoFinal.json'\n",
        "os.environ['GOOGLE_APPLICATION_CREDENTIALS'] = serviceAccount"
      ],
      "metadata": {
        "id": "ZrUnz9YEL-Cw"
      },
      "execution_count": null,
      "outputs": []
    },
    {
      "cell_type": "code",
      "source": [
        "#Configurações Google Cloud Storage\n",
        "client = storage.Client()\n",
        "bucket = client.get_bucket('projetofinal1')\n",
        "bucket.blob('licenciamento_veiculos_empresa_2012-2023.xlsx')\n",
        "path = 'gs://projetofinal1/brutos/licenciamento_veiculos_empresa_2012-2023.xlsx'"
      ],
      "metadata": {
        "id": "G8Qplg4mNEwK"
      },
      "execution_count": null,
      "outputs": []
    },
    {
      "cell_type": "markdown",
      "source": [
        "##4) Extração dos dados"
      ],
      "metadata": {
        "id": "UG2nz3zRO7XI"
      }
    },
    {
      "cell_type": "code",
      "source": [
        "#extraindo o dataset do bucket\n",
        "df = pd.read_excel(path)"
      ],
      "metadata": {
        "id": "MYpJunT7Nlo_"
      },
      "execution_count": null,
      "outputs": []
    },
    {
      "cell_type": "markdown",
      "source": [
        "##5) Análise exploratória\n"
      ],
      "metadata": {
        "id": "IgGZR7dofvQI"
      }
    },
    {
      "cell_type": "code",
      "source": [
        "#amostra do dataframe\n",
        "df"
      ],
      "metadata": {
        "colab": {
          "base_uri": "https://localhost:8080/",
          "height": 424
        },
        "id": "3BNupKaJRQsG",
        "outputId": "4a61b938-8f52-462a-d46f-57054cc82ac6"
      },
      "execution_count": null,
      "outputs": [
        {
          "output_type": "execute_result",
          "data": {
            "text/plain": [
              "           nome_marca  qtd_veiculos    mes_ano\n",
              "0                Audi         369.0 2012-01-01\n",
              "1                 BMW         775.0 2012-01-01\n",
              "2                Mini         211.0 2012-01-01\n",
              "3          Hyundai           6995.0 2012-01-01\n",
              "4              Subaru         115.0 2012-01-01\n",
              "...               ...           ...        ...\n",
              "3748          Renault        9677.0 2023-03-01\n",
              "3749           Toyota       12924.0 2023-03-01\n",
              "3750            Lexus          30.0 2023-03-01\n",
              "3751       Volkswagen       20155.0 2023-03-01\n",
              "3752  Outras empresas        2239.0 2023-03-01\n",
              "\n",
              "[3753 rows x 3 columns]"
            ],
            "text/html": [
              "\n",
              "  <div id=\"df-7f2bd4fb-7e19-4327-8c2d-d5c399bcd524\">\n",
              "    <div class=\"colab-df-container\">\n",
              "      <div>\n",
              "<style scoped>\n",
              "    .dataframe tbody tr th:only-of-type {\n",
              "        vertical-align: middle;\n",
              "    }\n",
              "\n",
              "    .dataframe tbody tr th {\n",
              "        vertical-align: top;\n",
              "    }\n",
              "\n",
              "    .dataframe thead th {\n",
              "        text-align: right;\n",
              "    }\n",
              "</style>\n",
              "<table border=\"1\" class=\"dataframe\">\n",
              "  <thead>\n",
              "    <tr style=\"text-align: right;\">\n",
              "      <th></th>\n",
              "      <th>nome_marca</th>\n",
              "      <th>qtd_veiculos</th>\n",
              "      <th>mes_ano</th>\n",
              "    </tr>\n",
              "  </thead>\n",
              "  <tbody>\n",
              "    <tr>\n",
              "      <th>0</th>\n",
              "      <td>Audi</td>\n",
              "      <td>369.0</td>\n",
              "      <td>2012-01-01</td>\n",
              "    </tr>\n",
              "    <tr>\n",
              "      <th>1</th>\n",
              "      <td>BMW</td>\n",
              "      <td>775.0</td>\n",
              "      <td>2012-01-01</td>\n",
              "    </tr>\n",
              "    <tr>\n",
              "      <th>2</th>\n",
              "      <td>Mini</td>\n",
              "      <td>211.0</td>\n",
              "      <td>2012-01-01</td>\n",
              "    </tr>\n",
              "    <tr>\n",
              "      <th>3</th>\n",
              "      <td>Hyundai</td>\n",
              "      <td>6995.0</td>\n",
              "      <td>2012-01-01</td>\n",
              "    </tr>\n",
              "    <tr>\n",
              "      <th>4</th>\n",
              "      <td>Subaru</td>\n",
              "      <td>115.0</td>\n",
              "      <td>2012-01-01</td>\n",
              "    </tr>\n",
              "    <tr>\n",
              "      <th>...</th>\n",
              "      <td>...</td>\n",
              "      <td>...</td>\n",
              "      <td>...</td>\n",
              "    </tr>\n",
              "    <tr>\n",
              "      <th>3748</th>\n",
              "      <td>Renault</td>\n",
              "      <td>9677.0</td>\n",
              "      <td>2023-03-01</td>\n",
              "    </tr>\n",
              "    <tr>\n",
              "      <th>3749</th>\n",
              "      <td>Toyota</td>\n",
              "      <td>12924.0</td>\n",
              "      <td>2023-03-01</td>\n",
              "    </tr>\n",
              "    <tr>\n",
              "      <th>3750</th>\n",
              "      <td>Lexus</td>\n",
              "      <td>30.0</td>\n",
              "      <td>2023-03-01</td>\n",
              "    </tr>\n",
              "    <tr>\n",
              "      <th>3751</th>\n",
              "      <td>Volkswagen</td>\n",
              "      <td>20155.0</td>\n",
              "      <td>2023-03-01</td>\n",
              "    </tr>\n",
              "    <tr>\n",
              "      <th>3752</th>\n",
              "      <td>Outras empresas</td>\n",
              "      <td>2239.0</td>\n",
              "      <td>2023-03-01</td>\n",
              "    </tr>\n",
              "  </tbody>\n",
              "</table>\n",
              "<p>3753 rows × 3 columns</p>\n",
              "</div>\n",
              "      <button class=\"colab-df-convert\" onclick=\"convertToInteractive('df-7f2bd4fb-7e19-4327-8c2d-d5c399bcd524')\"\n",
              "              title=\"Convert this dataframe to an interactive table.\"\n",
              "              style=\"display:none;\">\n",
              "        \n",
              "  <svg xmlns=\"http://www.w3.org/2000/svg\" height=\"24px\"viewBox=\"0 0 24 24\"\n",
              "       width=\"24px\">\n",
              "    <path d=\"M0 0h24v24H0V0z\" fill=\"none\"/>\n",
              "    <path d=\"M18.56 5.44l.94 2.06.94-2.06 2.06-.94-2.06-.94-.94-2.06-.94 2.06-2.06.94zm-11 1L8.5 8.5l.94-2.06 2.06-.94-2.06-.94L8.5 2.5l-.94 2.06-2.06.94zm10 10l.94 2.06.94-2.06 2.06-.94-2.06-.94-.94-2.06-.94 2.06-2.06.94z\"/><path d=\"M17.41 7.96l-1.37-1.37c-.4-.4-.92-.59-1.43-.59-.52 0-1.04.2-1.43.59L10.3 9.45l-7.72 7.72c-.78.78-.78 2.05 0 2.83L4 21.41c.39.39.9.59 1.41.59.51 0 1.02-.2 1.41-.59l7.78-7.78 2.81-2.81c.8-.78.8-2.07 0-2.86zM5.41 20L4 18.59l7.72-7.72 1.47 1.35L5.41 20z\"/>\n",
              "  </svg>\n",
              "      </button>\n",
              "      \n",
              "  <style>\n",
              "    .colab-df-container {\n",
              "      display:flex;\n",
              "      flex-wrap:wrap;\n",
              "      gap: 12px;\n",
              "    }\n",
              "\n",
              "    .colab-df-convert {\n",
              "      background-color: #E8F0FE;\n",
              "      border: none;\n",
              "      border-radius: 50%;\n",
              "      cursor: pointer;\n",
              "      display: none;\n",
              "      fill: #1967D2;\n",
              "      height: 32px;\n",
              "      padding: 0 0 0 0;\n",
              "      width: 32px;\n",
              "    }\n",
              "\n",
              "    .colab-df-convert:hover {\n",
              "      background-color: #E2EBFA;\n",
              "      box-shadow: 0px 1px 2px rgba(60, 64, 67, 0.3), 0px 1px 3px 1px rgba(60, 64, 67, 0.15);\n",
              "      fill: #174EA6;\n",
              "    }\n",
              "\n",
              "    [theme=dark] .colab-df-convert {\n",
              "      background-color: #3B4455;\n",
              "      fill: #D2E3FC;\n",
              "    }\n",
              "\n",
              "    [theme=dark] .colab-df-convert:hover {\n",
              "      background-color: #434B5C;\n",
              "      box-shadow: 0px 1px 3px 1px rgba(0, 0, 0, 0.15);\n",
              "      filter: drop-shadow(0px 1px 2px rgba(0, 0, 0, 0.3));\n",
              "      fill: #FFFFFF;\n",
              "    }\n",
              "  </style>\n",
              "\n",
              "      <script>\n",
              "        const buttonEl =\n",
              "          document.querySelector('#df-7f2bd4fb-7e19-4327-8c2d-d5c399bcd524 button.colab-df-convert');\n",
              "        buttonEl.style.display =\n",
              "          google.colab.kernel.accessAllowed ? 'block' : 'none';\n",
              "\n",
              "        async function convertToInteractive(key) {\n",
              "          const element = document.querySelector('#df-7f2bd4fb-7e19-4327-8c2d-d5c399bcd524');\n",
              "          const dataTable =\n",
              "            await google.colab.kernel.invokeFunction('convertToInteractive',\n",
              "                                                     [key], {});\n",
              "          if (!dataTable) return;\n",
              "\n",
              "          const docLinkHtml = 'Like what you see? Visit the ' +\n",
              "            '<a target=\"_blank\" href=https://colab.research.google.com/notebooks/data_table.ipynb>data table notebook</a>'\n",
              "            + ' to learn more about interactive tables.';\n",
              "          element.innerHTML = '';\n",
              "          dataTable['output_type'] = 'display_data';\n",
              "          await google.colab.output.renderOutput(dataTable, element);\n",
              "          const docLink = document.createElement('div');\n",
              "          docLink.innerHTML = docLinkHtml;\n",
              "          element.appendChild(docLink);\n",
              "        }\n",
              "      </script>\n",
              "    </div>\n",
              "  </div>\n",
              "  "
            ]
          },
          "metadata": {},
          "execution_count": 11
        }
      ]
    },
    {
      "cell_type": "code",
      "source": [
        "#verificando o tipo de dados presente em cada coluna\n",
        "df.info()"
      ],
      "metadata": {
        "colab": {
          "base_uri": "https://localhost:8080/"
        },
        "id": "GHPICzR0S2HU",
        "outputId": "068a5f1d-7306-4a0f-e0b9-08dbb9aef058"
      },
      "execution_count": null,
      "outputs": [
        {
          "output_type": "stream",
          "name": "stdout",
          "text": [
            "<class 'pandas.core.frame.DataFrame'>\n",
            "RangeIndex: 3753 entries, 0 to 3752\n",
            "Data columns (total 3 columns):\n",
            " #   Column        Non-Null Count  Dtype         \n",
            "---  ------        --------------  -----         \n",
            " 0   nome_marca    3753 non-null   object        \n",
            " 1   qtd_veiculos  3752 non-null   float64       \n",
            " 2   mes_ano       3753 non-null   datetime64[ns]\n",
            "dtypes: datetime64[ns](1), float64(1), object(1)\n",
            "memory usage: 88.1+ KB\n"
          ]
        }
      ]
    },
    {
      "cell_type": "code",
      "source": [
        "#shape do dataframe\n",
        "\n",
        "df.shape"
      ],
      "metadata": {
        "colab": {
          "base_uri": "https://localhost:8080/"
        },
        "id": "tWGewGDigBw4",
        "outputId": "64ea4143-443a-4ee3-e392-818f0e880612"
      },
      "execution_count": null,
      "outputs": [
        {
          "output_type": "execute_result",
          "data": {
            "text/plain": [
              "(3753, 3)"
            ]
          },
          "metadata": {},
          "execution_count": 13
        }
      ]
    },
    {
      "cell_type": "code",
      "source": [
        "#verificando valores únicos dentro da coluna nome_marca em formato de lista\n",
        "sorted(pd.unique(df['nome_marca']))"
      ],
      "metadata": {
        "colab": {
          "base_uri": "https://localhost:8080/"
        },
        "id": "kFJWN5jxktAn",
        "outputId": "fcbc3b35-1f55-4f4e-8577-1b86f03df6dc"
      },
      "execution_count": null,
      "outputs": [
        {
          "output_type": "execute_result",
          "data": {
            "text/plain": [
              "['Audi',\n",
              " 'BMW',\n",
              " 'Caoa Chery',\n",
              " 'Chrysler',\n",
              " 'Citroën',\n",
              " 'Dodge',\n",
              " 'Fiat     ',\n",
              " 'Ford',\n",
              " 'General Motors',\n",
              " 'Honda Automóveis',\n",
              " 'Hyundai   ',\n",
              " 'Hyundai Motor',\n",
              " 'Jaguar',\n",
              " 'Jeep',\n",
              " 'Land Rover',\n",
              " 'Lexus',\n",
              " 'Mahindra',\n",
              " 'Mercedes-Benz',\n",
              " 'Mercedes-Benz Cars & Vans',\n",
              " 'Mini',\n",
              " 'Mitsubishi',\n",
              " 'Nissan',\n",
              " 'Outras empresas',\n",
              " 'Peugeot',\n",
              " 'Renault',\n",
              " 'Smart',\n",
              " 'Subaru',\n",
              " 'Suzuki',\n",
              " 'Toyota',\n",
              " 'Volkswagen']"
            ]
          },
          "metadata": {},
          "execution_count": 14
        }
      ]
    },
    {
      "cell_type": "markdown",
      "source": [
        "Aqui é possível identificar que o nome da marca está com inconsistência, com espaços em branco -> 'Fiat     ', 'Hyundai   '.\n",
        "\n",
        "Como solução, será feito um df.loc para localizar todos os valores com essa inconsistência e realizar a substiuição."
      ],
      "metadata": {
        "id": "i9H5F-6a2_T-"
      }
    },
    {
      "cell_type": "code",
      "source": [
        "#verificando valores únicos dentro da coluna nome_marca\n",
        "\n",
        "df.groupby(['nome_marca']).sum(['qtd_veiculos']).sort_values('qtd_veiculos', ascending=False)\n"
      ],
      "metadata": {
        "colab": {
          "base_uri": "https://localhost:8080/",
          "height": 1000
        },
        "id": "j7BX2CLmgGP5",
        "outputId": "17da843b-6a03-40ed-a49d-b90e90e6b92e"
      },
      "execution_count": null,
      "outputs": [
        {
          "output_type": "execute_result",
          "data": {
            "text/plain": [
              "                           qtd_veiculos\n",
              "nome_marca                             \n",
              "General Motors                4227635.0\n",
              "Volkswagen                    3862030.0\n",
              "Fiat                          3558905.0\n",
              "Ford                          2021025.0\n",
              "Renault                       1872852.0\n",
              "Hyundai Motor                 1806792.0\n",
              "Toyota                        1547937.0\n",
              "Honda Automóveis              1316379.0\n",
              "Jeep                           863934.0\n",
              "Nissan                         741299.0\n",
              "Citroën                        372806.0\n",
              "Outras empresas                368210.0\n",
              "Peugeot                        347301.0\n",
              "Hyundai                        291672.0\n",
              "Mitsubishi                     214229.0\n",
              "BMW                            144058.0\n",
              "Caoa Chery                     128005.0\n",
              "Audi                           100659.0\n",
              "Mercedes-Benz                   91082.0\n",
              "Land Rover                      77159.0\n",
              "Suzuki                          47018.0\n",
              "Mini                            18915.0\n",
              "Mercedes-Benz Cars & Vans       18674.0\n",
              "Dodge                           12287.0\n",
              "Subaru                          10159.0\n",
              "Jaguar                           8946.0\n",
              "Lexus                            5719.0\n",
              "Smart                            2244.0\n",
              "Chrysler                         1908.0\n",
              "Mahindra                            3.0"
            ],
            "text/html": [
              "\n",
              "  <div id=\"df-3b4c78b7-e69b-4122-977a-b5974ccb96df\">\n",
              "    <div class=\"colab-df-container\">\n",
              "      <div>\n",
              "<style scoped>\n",
              "    .dataframe tbody tr th:only-of-type {\n",
              "        vertical-align: middle;\n",
              "    }\n",
              "\n",
              "    .dataframe tbody tr th {\n",
              "        vertical-align: top;\n",
              "    }\n",
              "\n",
              "    .dataframe thead th {\n",
              "        text-align: right;\n",
              "    }\n",
              "</style>\n",
              "<table border=\"1\" class=\"dataframe\">\n",
              "  <thead>\n",
              "    <tr style=\"text-align: right;\">\n",
              "      <th></th>\n",
              "      <th>qtd_veiculos</th>\n",
              "    </tr>\n",
              "    <tr>\n",
              "      <th>nome_marca</th>\n",
              "      <th></th>\n",
              "    </tr>\n",
              "  </thead>\n",
              "  <tbody>\n",
              "    <tr>\n",
              "      <th>General Motors</th>\n",
              "      <td>4227635.0</td>\n",
              "    </tr>\n",
              "    <tr>\n",
              "      <th>Volkswagen</th>\n",
              "      <td>3862030.0</td>\n",
              "    </tr>\n",
              "    <tr>\n",
              "      <th>Fiat</th>\n",
              "      <td>3558905.0</td>\n",
              "    </tr>\n",
              "    <tr>\n",
              "      <th>Ford</th>\n",
              "      <td>2021025.0</td>\n",
              "    </tr>\n",
              "    <tr>\n",
              "      <th>Renault</th>\n",
              "      <td>1872852.0</td>\n",
              "    </tr>\n",
              "    <tr>\n",
              "      <th>Hyundai Motor</th>\n",
              "      <td>1806792.0</td>\n",
              "    </tr>\n",
              "    <tr>\n",
              "      <th>Toyota</th>\n",
              "      <td>1547937.0</td>\n",
              "    </tr>\n",
              "    <tr>\n",
              "      <th>Honda Automóveis</th>\n",
              "      <td>1316379.0</td>\n",
              "    </tr>\n",
              "    <tr>\n",
              "      <th>Jeep</th>\n",
              "      <td>863934.0</td>\n",
              "    </tr>\n",
              "    <tr>\n",
              "      <th>Nissan</th>\n",
              "      <td>741299.0</td>\n",
              "    </tr>\n",
              "    <tr>\n",
              "      <th>Citroën</th>\n",
              "      <td>372806.0</td>\n",
              "    </tr>\n",
              "    <tr>\n",
              "      <th>Outras empresas</th>\n",
              "      <td>368210.0</td>\n",
              "    </tr>\n",
              "    <tr>\n",
              "      <th>Peugeot</th>\n",
              "      <td>347301.0</td>\n",
              "    </tr>\n",
              "    <tr>\n",
              "      <th>Hyundai</th>\n",
              "      <td>291672.0</td>\n",
              "    </tr>\n",
              "    <tr>\n",
              "      <th>Mitsubishi</th>\n",
              "      <td>214229.0</td>\n",
              "    </tr>\n",
              "    <tr>\n",
              "      <th>BMW</th>\n",
              "      <td>144058.0</td>\n",
              "    </tr>\n",
              "    <tr>\n",
              "      <th>Caoa Chery</th>\n",
              "      <td>128005.0</td>\n",
              "    </tr>\n",
              "    <tr>\n",
              "      <th>Audi</th>\n",
              "      <td>100659.0</td>\n",
              "    </tr>\n",
              "    <tr>\n",
              "      <th>Mercedes-Benz</th>\n",
              "      <td>91082.0</td>\n",
              "    </tr>\n",
              "    <tr>\n",
              "      <th>Land Rover</th>\n",
              "      <td>77159.0</td>\n",
              "    </tr>\n",
              "    <tr>\n",
              "      <th>Suzuki</th>\n",
              "      <td>47018.0</td>\n",
              "    </tr>\n",
              "    <tr>\n",
              "      <th>Mini</th>\n",
              "      <td>18915.0</td>\n",
              "    </tr>\n",
              "    <tr>\n",
              "      <th>Mercedes-Benz Cars &amp; Vans</th>\n",
              "      <td>18674.0</td>\n",
              "    </tr>\n",
              "    <tr>\n",
              "      <th>Dodge</th>\n",
              "      <td>12287.0</td>\n",
              "    </tr>\n",
              "    <tr>\n",
              "      <th>Subaru</th>\n",
              "      <td>10159.0</td>\n",
              "    </tr>\n",
              "    <tr>\n",
              "      <th>Jaguar</th>\n",
              "      <td>8946.0</td>\n",
              "    </tr>\n",
              "    <tr>\n",
              "      <th>Lexus</th>\n",
              "      <td>5719.0</td>\n",
              "    </tr>\n",
              "    <tr>\n",
              "      <th>Smart</th>\n",
              "      <td>2244.0</td>\n",
              "    </tr>\n",
              "    <tr>\n",
              "      <th>Chrysler</th>\n",
              "      <td>1908.0</td>\n",
              "    </tr>\n",
              "    <tr>\n",
              "      <th>Mahindra</th>\n",
              "      <td>3.0</td>\n",
              "    </tr>\n",
              "  </tbody>\n",
              "</table>\n",
              "</div>\n",
              "      <button class=\"colab-df-convert\" onclick=\"convertToInteractive('df-3b4c78b7-e69b-4122-977a-b5974ccb96df')\"\n",
              "              title=\"Convert this dataframe to an interactive table.\"\n",
              "              style=\"display:none;\">\n",
              "        \n",
              "  <svg xmlns=\"http://www.w3.org/2000/svg\" height=\"24px\"viewBox=\"0 0 24 24\"\n",
              "       width=\"24px\">\n",
              "    <path d=\"M0 0h24v24H0V0z\" fill=\"none\"/>\n",
              "    <path d=\"M18.56 5.44l.94 2.06.94-2.06 2.06-.94-2.06-.94-.94-2.06-.94 2.06-2.06.94zm-11 1L8.5 8.5l.94-2.06 2.06-.94-2.06-.94L8.5 2.5l-.94 2.06-2.06.94zm10 10l.94 2.06.94-2.06 2.06-.94-2.06-.94-.94-2.06-.94 2.06-2.06.94z\"/><path d=\"M17.41 7.96l-1.37-1.37c-.4-.4-.92-.59-1.43-.59-.52 0-1.04.2-1.43.59L10.3 9.45l-7.72 7.72c-.78.78-.78 2.05 0 2.83L4 21.41c.39.39.9.59 1.41.59.51 0 1.02-.2 1.41-.59l7.78-7.78 2.81-2.81c.8-.78.8-2.07 0-2.86zM5.41 20L4 18.59l7.72-7.72 1.47 1.35L5.41 20z\"/>\n",
              "  </svg>\n",
              "      </button>\n",
              "      \n",
              "  <style>\n",
              "    .colab-df-container {\n",
              "      display:flex;\n",
              "      flex-wrap:wrap;\n",
              "      gap: 12px;\n",
              "    }\n",
              "\n",
              "    .colab-df-convert {\n",
              "      background-color: #E8F0FE;\n",
              "      border: none;\n",
              "      border-radius: 50%;\n",
              "      cursor: pointer;\n",
              "      display: none;\n",
              "      fill: #1967D2;\n",
              "      height: 32px;\n",
              "      padding: 0 0 0 0;\n",
              "      width: 32px;\n",
              "    }\n",
              "\n",
              "    .colab-df-convert:hover {\n",
              "      background-color: #E2EBFA;\n",
              "      box-shadow: 0px 1px 2px rgba(60, 64, 67, 0.3), 0px 1px 3px 1px rgba(60, 64, 67, 0.15);\n",
              "      fill: #174EA6;\n",
              "    }\n",
              "\n",
              "    [theme=dark] .colab-df-convert {\n",
              "      background-color: #3B4455;\n",
              "      fill: #D2E3FC;\n",
              "    }\n",
              "\n",
              "    [theme=dark] .colab-df-convert:hover {\n",
              "      background-color: #434B5C;\n",
              "      box-shadow: 0px 1px 3px 1px rgba(0, 0, 0, 0.15);\n",
              "      filter: drop-shadow(0px 1px 2px rgba(0, 0, 0, 0.3));\n",
              "      fill: #FFFFFF;\n",
              "    }\n",
              "  </style>\n",
              "\n",
              "      <script>\n",
              "        const buttonEl =\n",
              "          document.querySelector('#df-3b4c78b7-e69b-4122-977a-b5974ccb96df button.colab-df-convert');\n",
              "        buttonEl.style.display =\n",
              "          google.colab.kernel.accessAllowed ? 'block' : 'none';\n",
              "\n",
              "        async function convertToInteractive(key) {\n",
              "          const element = document.querySelector('#df-3b4c78b7-e69b-4122-977a-b5974ccb96df');\n",
              "          const dataTable =\n",
              "            await google.colab.kernel.invokeFunction('convertToInteractive',\n",
              "                                                     [key], {});\n",
              "          if (!dataTable) return;\n",
              "\n",
              "          const docLinkHtml = 'Like what you see? Visit the ' +\n",
              "            '<a target=\"_blank\" href=https://colab.research.google.com/notebooks/data_table.ipynb>data table notebook</a>'\n",
              "            + ' to learn more about interactive tables.';\n",
              "          element.innerHTML = '';\n",
              "          dataTable['output_type'] = 'display_data';\n",
              "          await google.colab.output.renderOutput(dataTable, element);\n",
              "          const docLink = document.createElement('div');\n",
              "          docLink.innerHTML = docLinkHtml;\n",
              "          element.appendChild(docLink);\n",
              "        }\n",
              "      </script>\n",
              "    </div>\n",
              "  </div>\n",
              "  "
            ]
          },
          "metadata": {},
          "execution_count": 15
        }
      ]
    },
    {
      "cell_type": "code",
      "source": [
        "#verificando se há valores nulos\n",
        "df.isna().sum()"
      ],
      "metadata": {
        "colab": {
          "base_uri": "https://localhost:8080/"
        },
        "id": "zHPs0Y8moY0w",
        "outputId": "58f40283-f9f2-4425-f4b1-3172a721c8bc"
      },
      "execution_count": null,
      "outputs": [
        {
          "output_type": "execute_result",
          "data": {
            "text/plain": [
              "nome_marca      0\n",
              "qtd_veiculos    1\n",
              "mes_ano         0\n",
              "dtype: int64"
            ]
          },
          "metadata": {},
          "execution_count": 16
        }
      ]
    },
    {
      "cell_type": "code",
      "source": [
        "#verificando qual é a linha com valor nulo\n",
        "df.loc[df.qtd_veiculos.isna()]"
      ],
      "metadata": {
        "colab": {
          "base_uri": "https://localhost:8080/",
          "height": 81
        },
        "id": "NBLuVV2KoiEX",
        "outputId": "671573bd-9f0d-4989-eb86-f882c62f9f2a"
      },
      "execution_count": null,
      "outputs": [
        {
          "output_type": "execute_result",
          "data": {
            "text/plain": [
              "     nome_marca  qtd_veiculos    mes_ano\n",
              "2387   Chrysler           NaN 2019-02-01"
            ],
            "text/html": [
              "\n",
              "  <div id=\"df-52ee9fe9-bc53-449f-b709-daee2a84cba1\">\n",
              "    <div class=\"colab-df-container\">\n",
              "      <div>\n",
              "<style scoped>\n",
              "    .dataframe tbody tr th:only-of-type {\n",
              "        vertical-align: middle;\n",
              "    }\n",
              "\n",
              "    .dataframe tbody tr th {\n",
              "        vertical-align: top;\n",
              "    }\n",
              "\n",
              "    .dataframe thead th {\n",
              "        text-align: right;\n",
              "    }\n",
              "</style>\n",
              "<table border=\"1\" class=\"dataframe\">\n",
              "  <thead>\n",
              "    <tr style=\"text-align: right;\">\n",
              "      <th></th>\n",
              "      <th>nome_marca</th>\n",
              "      <th>qtd_veiculos</th>\n",
              "      <th>mes_ano</th>\n",
              "    </tr>\n",
              "  </thead>\n",
              "  <tbody>\n",
              "    <tr>\n",
              "      <th>2387</th>\n",
              "      <td>Chrysler</td>\n",
              "      <td>NaN</td>\n",
              "      <td>2019-02-01</td>\n",
              "    </tr>\n",
              "  </tbody>\n",
              "</table>\n",
              "</div>\n",
              "      <button class=\"colab-df-convert\" onclick=\"convertToInteractive('df-52ee9fe9-bc53-449f-b709-daee2a84cba1')\"\n",
              "              title=\"Convert this dataframe to an interactive table.\"\n",
              "              style=\"display:none;\">\n",
              "        \n",
              "  <svg xmlns=\"http://www.w3.org/2000/svg\" height=\"24px\"viewBox=\"0 0 24 24\"\n",
              "       width=\"24px\">\n",
              "    <path d=\"M0 0h24v24H0V0z\" fill=\"none\"/>\n",
              "    <path d=\"M18.56 5.44l.94 2.06.94-2.06 2.06-.94-2.06-.94-.94-2.06-.94 2.06-2.06.94zm-11 1L8.5 8.5l.94-2.06 2.06-.94-2.06-.94L8.5 2.5l-.94 2.06-2.06.94zm10 10l.94 2.06.94-2.06 2.06-.94-2.06-.94-.94-2.06-.94 2.06-2.06.94z\"/><path d=\"M17.41 7.96l-1.37-1.37c-.4-.4-.92-.59-1.43-.59-.52 0-1.04.2-1.43.59L10.3 9.45l-7.72 7.72c-.78.78-.78 2.05 0 2.83L4 21.41c.39.39.9.59 1.41.59.51 0 1.02-.2 1.41-.59l7.78-7.78 2.81-2.81c.8-.78.8-2.07 0-2.86zM5.41 20L4 18.59l7.72-7.72 1.47 1.35L5.41 20z\"/>\n",
              "  </svg>\n",
              "      </button>\n",
              "      \n",
              "  <style>\n",
              "    .colab-df-container {\n",
              "      display:flex;\n",
              "      flex-wrap:wrap;\n",
              "      gap: 12px;\n",
              "    }\n",
              "\n",
              "    .colab-df-convert {\n",
              "      background-color: #E8F0FE;\n",
              "      border: none;\n",
              "      border-radius: 50%;\n",
              "      cursor: pointer;\n",
              "      display: none;\n",
              "      fill: #1967D2;\n",
              "      height: 32px;\n",
              "      padding: 0 0 0 0;\n",
              "      width: 32px;\n",
              "    }\n",
              "\n",
              "    .colab-df-convert:hover {\n",
              "      background-color: #E2EBFA;\n",
              "      box-shadow: 0px 1px 2px rgba(60, 64, 67, 0.3), 0px 1px 3px 1px rgba(60, 64, 67, 0.15);\n",
              "      fill: #174EA6;\n",
              "    }\n",
              "\n",
              "    [theme=dark] .colab-df-convert {\n",
              "      background-color: #3B4455;\n",
              "      fill: #D2E3FC;\n",
              "    }\n",
              "\n",
              "    [theme=dark] .colab-df-convert:hover {\n",
              "      background-color: #434B5C;\n",
              "      box-shadow: 0px 1px 3px 1px rgba(0, 0, 0, 0.15);\n",
              "      filter: drop-shadow(0px 1px 2px rgba(0, 0, 0, 0.3));\n",
              "      fill: #FFFFFF;\n",
              "    }\n",
              "  </style>\n",
              "\n",
              "      <script>\n",
              "        const buttonEl =\n",
              "          document.querySelector('#df-52ee9fe9-bc53-449f-b709-daee2a84cba1 button.colab-df-convert');\n",
              "        buttonEl.style.display =\n",
              "          google.colab.kernel.accessAllowed ? 'block' : 'none';\n",
              "\n",
              "        async function convertToInteractive(key) {\n",
              "          const element = document.querySelector('#df-52ee9fe9-bc53-449f-b709-daee2a84cba1');\n",
              "          const dataTable =\n",
              "            await google.colab.kernel.invokeFunction('convertToInteractive',\n",
              "                                                     [key], {});\n",
              "          if (!dataTable) return;\n",
              "\n",
              "          const docLinkHtml = 'Like what you see? Visit the ' +\n",
              "            '<a target=\"_blank\" href=https://colab.research.google.com/notebooks/data_table.ipynb>data table notebook</a>'\n",
              "            + ' to learn more about interactive tables.';\n",
              "          element.innerHTML = '';\n",
              "          dataTable['output_type'] = 'display_data';\n",
              "          await google.colab.output.renderOutput(dataTable, element);\n",
              "          const docLink = document.createElement('div');\n",
              "          docLink.innerHTML = docLinkHtml;\n",
              "          element.appendChild(docLink);\n",
              "        }\n",
              "      </script>\n",
              "    </div>\n",
              "  </div>\n",
              "  "
            ]
          },
          "metadata": {},
          "execution_count": 17
        }
      ]
    },
    {
      "cell_type": "markdown",
      "source": [
        "O valor nulo está indicando a quantidade de produção naquele mês, que no caso seria o valor 0 (que não houve produção).\n",
        "\n",
        "Logo o valor nulo deverá ser substituído por 0."
      ],
      "metadata": {
        "id": "1zqPf0gCpAcE"
      }
    },
    {
      "cell_type": "markdown",
      "source": [
        "##6) Transformações"
      ],
      "metadata": {
        "id": "96PzweMhk-Ym"
      }
    },
    {
      "cell_type": "markdown",
      "source": [
        "###Criando backup"
      ],
      "metadata": {
        "id": "XLXzQeIg_kcu"
      }
    },
    {
      "cell_type": "code",
      "source": [
        "#criando um backup do dataframe antes das transformações\n",
        "\n",
        "df_back = df.copy()"
      ],
      "metadata": {
        "id": "Jwtm4L3A9SeG"
      },
      "execution_count": null,
      "outputs": []
    },
    {
      "cell_type": "markdown",
      "source": [
        "###Substituindo valores nulos\n"
      ],
      "metadata": {
        "id": "XnsVtjqTp2Hk"
      }
    },
    {
      "cell_type": "code",
      "source": [
        "#substituindo valor nulo por 0 (indicando que não houve produção naquela data)\n",
        "\n",
        "df.loc[df['qtd_veiculos'].isna(),'qtd_veiculos'] = 0"
      ],
      "metadata": {
        "id": "SjSPcCj_p9gk"
      },
      "execution_count": null,
      "outputs": []
    },
    {
      "cell_type": "code",
      "source": [
        "#verificando se há valores nulos\n",
        "df.isna().sum()"
      ],
      "metadata": {
        "colab": {
          "base_uri": "https://localhost:8080/"
        },
        "id": "jf6KdSh2q720",
        "outputId": "dcaab538-dc59-4d75-ba5f-a395c6c225b4"
      },
      "execution_count": null,
      "outputs": [
        {
          "output_type": "execute_result",
          "data": {
            "text/plain": [
              "nome_marca      0\n",
              "qtd_veiculos    0\n",
              "mes_ano         0\n",
              "dtype: int64"
            ]
          },
          "metadata": {},
          "execution_count": 20
        }
      ]
    },
    {
      "cell_type": "markdown",
      "source": [
        "###Criando nova coluna ano"
      ],
      "metadata": {
        "id": "nqXjVJzKErzV"
      }
    },
    {
      "cell_type": "code",
      "source": [
        "df['mes_ano'].unique"
      ],
      "metadata": {
        "colab": {
          "base_uri": "https://localhost:8080/"
        },
        "id": "2wTRJY3sI0ZS",
        "outputId": "bec71f1f-34df-42cf-f214-9d2f84ed8ea5"
      },
      "execution_count": null,
      "outputs": [
        {
          "output_type": "execute_result",
          "data": {
            "text/plain": [
              "<bound method Series.unique of 0      2012-01-01\n",
              "1      2012-01-01\n",
              "2      2012-01-01\n",
              "3      2012-01-01\n",
              "4      2012-01-01\n",
              "          ...    \n",
              "3748   2023-03-01\n",
              "3749   2023-03-01\n",
              "3750   2023-03-01\n",
              "3751   2023-03-01\n",
              "3752   2023-03-01\n",
              "Name: mes_ano, Length: 3753, dtype: datetime64[ns]>"
            ]
          },
          "metadata": {},
          "execution_count": 21
        }
      ]
    },
    {
      "cell_type": "code",
      "source": [
        "#criação de nova coluna \"ano\" para relacionamento com os demais conjuntos\n",
        "\n",
        "df['ano'] = df['mes_ano'].dt.year"
      ],
      "metadata": {
        "id": "Bf_HLmaxIYHL"
      },
      "execution_count": null,
      "outputs": []
    },
    {
      "cell_type": "code",
      "source": [
        "df['ano'].unique"
      ],
      "metadata": {
        "colab": {
          "base_uri": "https://localhost:8080/"
        },
        "id": "ae40DZwWJCVf",
        "outputId": "1c165f65-638f-4d0a-d674-047d7e2881fe"
      },
      "execution_count": null,
      "outputs": [
        {
          "output_type": "execute_result",
          "data": {
            "text/plain": [
              "<bound method Series.unique of 0       2012\n",
              "1       2012\n",
              "2       2012\n",
              "3       2012\n",
              "4       2012\n",
              "        ... \n",
              "3748    2023\n",
              "3749    2023\n",
              "3750    2023\n",
              "3751    2023\n",
              "3752    2023\n",
              "Name: ano, Length: 3753, dtype: int64>"
            ]
          },
          "metadata": {},
          "execution_count": 24
        }
      ]
    },
    {
      "cell_type": "code",
      "source": [
        "df.info()"
      ],
      "metadata": {
        "colab": {
          "base_uri": "https://localhost:8080/"
        },
        "id": "2mcW2GnjKugT",
        "outputId": "6ae5d39e-cd23-4f07-da97-f5f77edb3487"
      },
      "execution_count": null,
      "outputs": [
        {
          "output_type": "stream",
          "name": "stdout",
          "text": [
            "<class 'pandas.core.frame.DataFrame'>\n",
            "RangeIndex: 3753 entries, 0 to 3752\n",
            "Data columns (total 4 columns):\n",
            " #   Column        Non-Null Count  Dtype         \n",
            "---  ------        --------------  -----         \n",
            " 0   nome_marca    3753 non-null   object        \n",
            " 1   qtd_veiculos  3753 non-null   float64       \n",
            " 2   mes_ano       3753 non-null   datetime64[ns]\n",
            " 3   ano           3753 non-null   int64         \n",
            "dtypes: datetime64[ns](1), float64(1), int64(1), object(1)\n",
            "memory usage: 117.4+ KB\n"
          ]
        }
      ]
    },
    {
      "cell_type": "markdown",
      "source": [
        "###Normalizando o nome das marcas\n"
      ],
      "metadata": {
        "id": "PSOovz4e5siO"
      }
    },
    {
      "cell_type": "code",
      "source": [
        "#substiruindo 'Fiat     ' -> 'Fiat' e 'Hyundai   ' -> 'Hyundai'\n",
        "\n",
        "df.loc[df['nome_marca'] == 'Fiat     ','nome_marca'] = 'Fiat'\n",
        "df.loc[df['nome_marca'] == 'Hyundai   ','nome_marca'] = 'Hyundai'"
      ],
      "metadata": {
        "id": "Uw3oLtaE5vZn"
      },
      "execution_count": null,
      "outputs": []
    },
    {
      "cell_type": "code",
      "source": [
        "#validando a alteração acima\n",
        "sorted(pd.unique(df['nome_marca']))"
      ],
      "metadata": {
        "colab": {
          "base_uri": "https://localhost:8080/"
        },
        "id": "2308IocJ6NEo",
        "outputId": "a3ec2ef3-2012-43ed-f999-e61962c7e06c"
      },
      "execution_count": null,
      "outputs": [
        {
          "output_type": "execute_result",
          "data": {
            "text/plain": [
              "['Audi',\n",
              " 'BMW',\n",
              " 'Caoa Chery',\n",
              " 'Chrysler',\n",
              " 'Citroën',\n",
              " 'Dodge',\n",
              " 'Fiat',\n",
              " 'Ford',\n",
              " 'General Motors',\n",
              " 'Honda Automóveis',\n",
              " 'Hyundai',\n",
              " 'Hyundai Motor',\n",
              " 'Jaguar',\n",
              " 'Jeep',\n",
              " 'Land Rover',\n",
              " 'Lexus',\n",
              " 'Mahindra',\n",
              " 'Mercedes-Benz',\n",
              " 'Mercedes-Benz Cars & Vans',\n",
              " 'Mini',\n",
              " 'Mitsubishi',\n",
              " 'Nissan',\n",
              " 'Outras empresas',\n",
              " 'Peugeot',\n",
              " 'Renault',\n",
              " 'Smart',\n",
              " 'Subaru',\n",
              " 'Suzuki',\n",
              " 'Toyota',\n",
              " 'Volkswagen']"
            ]
          },
          "metadata": {},
          "execution_count": 27
        }
      ]
    },
    {
      "cell_type": "markdown",
      "source": [
        "###filtrando os registros"
      ],
      "metadata": {
        "id": "aCjm6oNkrzSc"
      }
    },
    {
      "cell_type": "markdown",
      "source": [
        "O período de análise será de 2018 a 2023, por isso será feito um df.loc para considerar apenas esse período."
      ],
      "metadata": {
        "id": "vyTv0_BKr2m1"
      }
    },
    {
      "cell_type": "code",
      "source": [
        "#criando o filtro de ano\n",
        "df = df.loc[(df['ano'] >= 2018) & (df['ano'] <= 2023)]\n"
      ],
      "metadata": {
        "id": "dixc6k73sBAn"
      },
      "execution_count": null,
      "outputs": []
    },
    {
      "cell_type": "code",
      "source": [
        "#validando a transformação\n",
        "\n",
        "print(f\"Data mínima: {df['mes_ano'].min()} \\nData máxima: {df['mes_ano'].max()}\")"
      ],
      "metadata": {
        "colab": {
          "base_uri": "https://localhost:8080/"
        },
        "id": "EUVhfEZ4tW-7",
        "outputId": "5509f054-ad87-4b2a-a6d1-b302f326910c"
      },
      "execution_count": null,
      "outputs": [
        {
          "output_type": "stream",
          "name": "stdout",
          "text": [
            "Data mínima: 2018-01-01 00:00:00 \n",
            "Data máxima: 2023-03-01 00:00:00\n"
          ]
        }
      ]
    },
    {
      "cell_type": "markdown",
      "source": [
        "##7) Schema de validação dos dados"
      ],
      "metadata": {
        "id": "AXk7j5YlPVbO"
      }
    },
    {
      "cell_type": "code",
      "source": [
        "#após a transformação, para segurança e qualidade dos dados, será realizado schema de validação\n",
        "\n",
        "df.dtypes"
      ],
      "metadata": {
        "colab": {
          "base_uri": "https://localhost:8080/"
        },
        "id": "eoO8oN22PaVR",
        "outputId": "12e30396-ad4e-456a-cc3e-9cded022b262"
      },
      "execution_count": null,
      "outputs": [
        {
          "output_type": "execute_result",
          "data": {
            "text/plain": [
              "nome_marca              object\n",
              "qtd_veiculos           float64\n",
              "mes_ano         datetime64[ns]\n",
              "ano                      int64\n",
              "dtype: object"
            ]
          },
          "metadata": {},
          "execution_count": 38
        }
      ]
    },
    {
      "cell_type": "code",
      "source": [
        "#criação do Schema (através da biblioteca pandera)\n",
        "\n",
        "schema = pa.DataFrameSchema(\n",
        "    columns = {\n",
        "        'nome_marca':pa.Column(pa.String),\n",
        "        'qtd_veiculos':pa.Column(pa.Float64),\n",
        "        'mes_ano':pa.Column(pa.DateTime),\n",
        "        'ano':pa.Column(pa.Int)\n",
        "    }\n",
        ")"
      ],
      "metadata": {
        "id": "pFsrmuIkPmy2"
      },
      "execution_count": null,
      "outputs": []
    },
    {
      "cell_type": "markdown",
      "source": [
        "Dataframe VALIDADO!"
      ],
      "metadata": {
        "id": "LhZTO4r9VK4M"
      }
    },
    {
      "cell_type": "markdown",
      "source": [
        "##8) Filtros"
      ],
      "metadata": {
        "id": "9-2pzTI4mcFm"
      }
    },
    {
      "cell_type": "code",
      "source": [
        "#filtro para separar as vendas por ano (2018 - 2023) e atribuindo a um novo df\n",
        "dados_2018 = df.loc[df['mes_ano'].dt.year == 2018]\n",
        "dados_2019 = df.loc[df['mes_ano'].dt.year == 2019]\n",
        "dados_2020 = df.loc[df['mes_ano'].dt.year == 2020]\n",
        "dados_2021 = df.loc[df['mes_ano'].dt.year == 2021]\n",
        "dados_2022 = df.loc[df['mes_ano'].dt.year == 2022]\n",
        "dados_2023 = df.loc[df['mes_ano'].dt.year == 2023]"
      ],
      "metadata": {
        "id": "mhND1pzQsNgA"
      },
      "execution_count": null,
      "outputs": []
    },
    {
      "cell_type": "code",
      "source": [
        "#criando um novo df para ter uma visão geral das produções por ano de cada marca\n",
        "df_marca_ano_qtd = df.groupby(['nome_marca', df['ano']])['qtd_veiculos'].sum()\n"
      ],
      "metadata": {
        "id": "sMrkDjoKvAiE"
      },
      "execution_count": null,
      "outputs": []
    },
    {
      "cell_type": "markdown",
      "source": [
        "##9) Plotagem"
      ],
      "metadata": {
        "id": "JRDPWIZK0gpB"
      }
    },
    {
      "cell_type": "code",
      "source": [
        "df.groupby('nome_marca')['qtd_veiculos'].sum()"
      ],
      "metadata": {
        "colab": {
          "base_uri": "https://localhost:8080/"
        },
        "id": "tQd-dUkDvWnU",
        "outputId": "0fee1a1c-433d-4b81-f519-f3934fbacfdb"
      },
      "execution_count": null,
      "outputs": [
        {
          "output_type": "execute_result",
          "data": {
            "text/plain": [
              "nome_marca\n",
              "Audi                           37460.0\n",
              "BMW                            68188.0\n",
              "Caoa Chery                    128005.0\n",
              "Chrysler                         130.0\n",
              "Citroën                       109329.0\n",
              "Dodge                           1067.0\n",
              "Fiat                         1076346.0\n",
              "Ford                          542691.0\n",
              "General Motors               1655643.0\n",
              "Honda Automóveis              497199.0\n",
              "Hyundai                        37478.0\n",
              "Hyundai Motor                 936542.0\n",
              "Jaguar                          5578.0\n",
              "Jeep                          664564.0\n",
              "Land Rover                     26995.0\n",
              "Lexus                           3684.0\n",
              "Mahindra                           3.0\n",
              "Mercedes-Benz                  22231.0\n",
              "Mercedes-Benz Cars & Vans      18674.0\n",
              "Mini                            7470.0\n",
              "Mitsubishi                     46253.0\n",
              "Nissan                        343544.0\n",
              "Outras empresas                98934.0\n",
              "Peugeot                       114822.0\n",
              "Renault                       762535.0\n",
              "Smart                              1.0\n",
              "Subaru                          2718.0\n",
              "Suzuki                         14312.0\n",
              "Toyota                        742748.0\n",
              "Volkswagen                   1496127.0\n",
              "Name: qtd_veiculos, dtype: float64"
            ]
          },
          "metadata": {},
          "execution_count": 68
        }
      ]
    },
    {
      "cell_type": "code",
      "source": [
        "df.groupby('nome_marca').count()"
      ],
      "metadata": {
        "colab": {
          "base_uri": "https://localhost:8080/",
          "height": 1000
        },
        "id": "hEoC5Vz-ufg6",
        "outputId": "9dda1484-e0d3-43e1-ea16-a6f922dd8923"
      },
      "execution_count": null,
      "outputs": [
        {
          "output_type": "execute_result",
          "data": {
            "text/plain": [
              "                           qtd_veiculos  mes_ano  ano\n",
              "nome_marca                                           \n",
              "Audi                                 63       63   63\n",
              "BMW                                  63       63   63\n",
              "Caoa Chery                           63       63   63\n",
              "Chrysler                             63       63   63\n",
              "Citroën                              63       63   63\n",
              "Dodge                                63       63   63\n",
              "Fiat                                 63       63   63\n",
              "Ford                                 63       63   63\n",
              "General Motors                       63       63   63\n",
              "Honda Automóveis                     63       63   63\n",
              "Hyundai                              63       63   63\n",
              "Hyundai Motor                        63       63   63\n",
              "Jaguar                               63       63   63\n",
              "Jeep                                 63       63   63\n",
              "Land Rover                           63       63   63\n",
              "Lexus                                63       63   63\n",
              "Mahindra                             24       24   24\n",
              "Mercedes-Benz                        24       24   24\n",
              "Mercedes-Benz Cars & Vans            39       39   39\n",
              "Mini                                 63       63   63\n",
              "Mitsubishi                           63       63   63\n",
              "Nissan                               63       63   63\n",
              "Outras empresas                      63       63   63\n",
              "Peugeot                              63       63   63\n",
              "Renault                              63       63   63\n",
              "Smart                                24       24   24\n",
              "Subaru                               63       63   63\n",
              "Suzuki                               63       63   63\n",
              "Toyota                               63       63   63\n",
              "Volkswagen                           63       63   63"
            ],
            "text/html": [
              "\n",
              "  <div id=\"df-4ac201a9-7697-47c9-b724-ef4e16a8694a\">\n",
              "    <div class=\"colab-df-container\">\n",
              "      <div>\n",
              "<style scoped>\n",
              "    .dataframe tbody tr th:only-of-type {\n",
              "        vertical-align: middle;\n",
              "    }\n",
              "\n",
              "    .dataframe tbody tr th {\n",
              "        vertical-align: top;\n",
              "    }\n",
              "\n",
              "    .dataframe thead th {\n",
              "        text-align: right;\n",
              "    }\n",
              "</style>\n",
              "<table border=\"1\" class=\"dataframe\">\n",
              "  <thead>\n",
              "    <tr style=\"text-align: right;\">\n",
              "      <th></th>\n",
              "      <th>qtd_veiculos</th>\n",
              "      <th>mes_ano</th>\n",
              "      <th>ano</th>\n",
              "    </tr>\n",
              "    <tr>\n",
              "      <th>nome_marca</th>\n",
              "      <th></th>\n",
              "      <th></th>\n",
              "      <th></th>\n",
              "    </tr>\n",
              "  </thead>\n",
              "  <tbody>\n",
              "    <tr>\n",
              "      <th>Audi</th>\n",
              "      <td>63</td>\n",
              "      <td>63</td>\n",
              "      <td>63</td>\n",
              "    </tr>\n",
              "    <tr>\n",
              "      <th>BMW</th>\n",
              "      <td>63</td>\n",
              "      <td>63</td>\n",
              "      <td>63</td>\n",
              "    </tr>\n",
              "    <tr>\n",
              "      <th>Caoa Chery</th>\n",
              "      <td>63</td>\n",
              "      <td>63</td>\n",
              "      <td>63</td>\n",
              "    </tr>\n",
              "    <tr>\n",
              "      <th>Chrysler</th>\n",
              "      <td>63</td>\n",
              "      <td>63</td>\n",
              "      <td>63</td>\n",
              "    </tr>\n",
              "    <tr>\n",
              "      <th>Citroën</th>\n",
              "      <td>63</td>\n",
              "      <td>63</td>\n",
              "      <td>63</td>\n",
              "    </tr>\n",
              "    <tr>\n",
              "      <th>Dodge</th>\n",
              "      <td>63</td>\n",
              "      <td>63</td>\n",
              "      <td>63</td>\n",
              "    </tr>\n",
              "    <tr>\n",
              "      <th>Fiat</th>\n",
              "      <td>63</td>\n",
              "      <td>63</td>\n",
              "      <td>63</td>\n",
              "    </tr>\n",
              "    <tr>\n",
              "      <th>Ford</th>\n",
              "      <td>63</td>\n",
              "      <td>63</td>\n",
              "      <td>63</td>\n",
              "    </tr>\n",
              "    <tr>\n",
              "      <th>General Motors</th>\n",
              "      <td>63</td>\n",
              "      <td>63</td>\n",
              "      <td>63</td>\n",
              "    </tr>\n",
              "    <tr>\n",
              "      <th>Honda Automóveis</th>\n",
              "      <td>63</td>\n",
              "      <td>63</td>\n",
              "      <td>63</td>\n",
              "    </tr>\n",
              "    <tr>\n",
              "      <th>Hyundai</th>\n",
              "      <td>63</td>\n",
              "      <td>63</td>\n",
              "      <td>63</td>\n",
              "    </tr>\n",
              "    <tr>\n",
              "      <th>Hyundai Motor</th>\n",
              "      <td>63</td>\n",
              "      <td>63</td>\n",
              "      <td>63</td>\n",
              "    </tr>\n",
              "    <tr>\n",
              "      <th>Jaguar</th>\n",
              "      <td>63</td>\n",
              "      <td>63</td>\n",
              "      <td>63</td>\n",
              "    </tr>\n",
              "    <tr>\n",
              "      <th>Jeep</th>\n",
              "      <td>63</td>\n",
              "      <td>63</td>\n",
              "      <td>63</td>\n",
              "    </tr>\n",
              "    <tr>\n",
              "      <th>Land Rover</th>\n",
              "      <td>63</td>\n",
              "      <td>63</td>\n",
              "      <td>63</td>\n",
              "    </tr>\n",
              "    <tr>\n",
              "      <th>Lexus</th>\n",
              "      <td>63</td>\n",
              "      <td>63</td>\n",
              "      <td>63</td>\n",
              "    </tr>\n",
              "    <tr>\n",
              "      <th>Mahindra</th>\n",
              "      <td>24</td>\n",
              "      <td>24</td>\n",
              "      <td>24</td>\n",
              "    </tr>\n",
              "    <tr>\n",
              "      <th>Mercedes-Benz</th>\n",
              "      <td>24</td>\n",
              "      <td>24</td>\n",
              "      <td>24</td>\n",
              "    </tr>\n",
              "    <tr>\n",
              "      <th>Mercedes-Benz Cars &amp; Vans</th>\n",
              "      <td>39</td>\n",
              "      <td>39</td>\n",
              "      <td>39</td>\n",
              "    </tr>\n",
              "    <tr>\n",
              "      <th>Mini</th>\n",
              "      <td>63</td>\n",
              "      <td>63</td>\n",
              "      <td>63</td>\n",
              "    </tr>\n",
              "    <tr>\n",
              "      <th>Mitsubishi</th>\n",
              "      <td>63</td>\n",
              "      <td>63</td>\n",
              "      <td>63</td>\n",
              "    </tr>\n",
              "    <tr>\n",
              "      <th>Nissan</th>\n",
              "      <td>63</td>\n",
              "      <td>63</td>\n",
              "      <td>63</td>\n",
              "    </tr>\n",
              "    <tr>\n",
              "      <th>Outras empresas</th>\n",
              "      <td>63</td>\n",
              "      <td>63</td>\n",
              "      <td>63</td>\n",
              "    </tr>\n",
              "    <tr>\n",
              "      <th>Peugeot</th>\n",
              "      <td>63</td>\n",
              "      <td>63</td>\n",
              "      <td>63</td>\n",
              "    </tr>\n",
              "    <tr>\n",
              "      <th>Renault</th>\n",
              "      <td>63</td>\n",
              "      <td>63</td>\n",
              "      <td>63</td>\n",
              "    </tr>\n",
              "    <tr>\n",
              "      <th>Smart</th>\n",
              "      <td>24</td>\n",
              "      <td>24</td>\n",
              "      <td>24</td>\n",
              "    </tr>\n",
              "    <tr>\n",
              "      <th>Subaru</th>\n",
              "      <td>63</td>\n",
              "      <td>63</td>\n",
              "      <td>63</td>\n",
              "    </tr>\n",
              "    <tr>\n",
              "      <th>Suzuki</th>\n",
              "      <td>63</td>\n",
              "      <td>63</td>\n",
              "      <td>63</td>\n",
              "    </tr>\n",
              "    <tr>\n",
              "      <th>Toyota</th>\n",
              "      <td>63</td>\n",
              "      <td>63</td>\n",
              "      <td>63</td>\n",
              "    </tr>\n",
              "    <tr>\n",
              "      <th>Volkswagen</th>\n",
              "      <td>63</td>\n",
              "      <td>63</td>\n",
              "      <td>63</td>\n",
              "    </tr>\n",
              "  </tbody>\n",
              "</table>\n",
              "</div>\n",
              "      <button class=\"colab-df-convert\" onclick=\"convertToInteractive('df-4ac201a9-7697-47c9-b724-ef4e16a8694a')\"\n",
              "              title=\"Convert this dataframe to an interactive table.\"\n",
              "              style=\"display:none;\">\n",
              "        \n",
              "  <svg xmlns=\"http://www.w3.org/2000/svg\" height=\"24px\"viewBox=\"0 0 24 24\"\n",
              "       width=\"24px\">\n",
              "    <path d=\"M0 0h24v24H0V0z\" fill=\"none\"/>\n",
              "    <path d=\"M18.56 5.44l.94 2.06.94-2.06 2.06-.94-2.06-.94-.94-2.06-.94 2.06-2.06.94zm-11 1L8.5 8.5l.94-2.06 2.06-.94-2.06-.94L8.5 2.5l-.94 2.06-2.06.94zm10 10l.94 2.06.94-2.06 2.06-.94-2.06-.94-.94-2.06-.94 2.06-2.06.94z\"/><path d=\"M17.41 7.96l-1.37-1.37c-.4-.4-.92-.59-1.43-.59-.52 0-1.04.2-1.43.59L10.3 9.45l-7.72 7.72c-.78.78-.78 2.05 0 2.83L4 21.41c.39.39.9.59 1.41.59.51 0 1.02-.2 1.41-.59l7.78-7.78 2.81-2.81c.8-.78.8-2.07 0-2.86zM5.41 20L4 18.59l7.72-7.72 1.47 1.35L5.41 20z\"/>\n",
              "  </svg>\n",
              "      </button>\n",
              "      \n",
              "  <style>\n",
              "    .colab-df-container {\n",
              "      display:flex;\n",
              "      flex-wrap:wrap;\n",
              "      gap: 12px;\n",
              "    }\n",
              "\n",
              "    .colab-df-convert {\n",
              "      background-color: #E8F0FE;\n",
              "      border: none;\n",
              "      border-radius: 50%;\n",
              "      cursor: pointer;\n",
              "      display: none;\n",
              "      fill: #1967D2;\n",
              "      height: 32px;\n",
              "      padding: 0 0 0 0;\n",
              "      width: 32px;\n",
              "    }\n",
              "\n",
              "    .colab-df-convert:hover {\n",
              "      background-color: #E2EBFA;\n",
              "      box-shadow: 0px 1px 2px rgba(60, 64, 67, 0.3), 0px 1px 3px 1px rgba(60, 64, 67, 0.15);\n",
              "      fill: #174EA6;\n",
              "    }\n",
              "\n",
              "    [theme=dark] .colab-df-convert {\n",
              "      background-color: #3B4455;\n",
              "      fill: #D2E3FC;\n",
              "    }\n",
              "\n",
              "    [theme=dark] .colab-df-convert:hover {\n",
              "      background-color: #434B5C;\n",
              "      box-shadow: 0px 1px 3px 1px rgba(0, 0, 0, 0.15);\n",
              "      filter: drop-shadow(0px 1px 2px rgba(0, 0, 0, 0.3));\n",
              "      fill: #FFFFFF;\n",
              "    }\n",
              "  </style>\n",
              "\n",
              "      <script>\n",
              "        const buttonEl =\n",
              "          document.querySelector('#df-4ac201a9-7697-47c9-b724-ef4e16a8694a button.colab-df-convert');\n",
              "        buttonEl.style.display =\n",
              "          google.colab.kernel.accessAllowed ? 'block' : 'none';\n",
              "\n",
              "        async function convertToInteractive(key) {\n",
              "          const element = document.querySelector('#df-4ac201a9-7697-47c9-b724-ef4e16a8694a');\n",
              "          const dataTable =\n",
              "            await google.colab.kernel.invokeFunction('convertToInteractive',\n",
              "                                                     [key], {});\n",
              "          if (!dataTable) return;\n",
              "\n",
              "          const docLinkHtml = 'Like what you see? Visit the ' +\n",
              "            '<a target=\"_blank\" href=https://colab.research.google.com/notebooks/data_table.ipynb>data table notebook</a>'\n",
              "            + ' to learn more about interactive tables.';\n",
              "          element.innerHTML = '';\n",
              "          dataTable['output_type'] = 'display_data';\n",
              "          await google.colab.output.renderOutput(dataTable, element);\n",
              "          const docLink = document.createElement('div');\n",
              "          docLink.innerHTML = docLinkHtml;\n",
              "          element.appendChild(docLink);\n",
              "        }\n",
              "      </script>\n",
              "    </div>\n",
              "  </div>\n",
              "  "
            ]
          },
          "metadata": {},
          "execution_count": 60
        }
      ]
    },
    {
      "cell_type": "code",
      "source": [
        "#plotagem em relação a venda total de 2018 a 2023 em relação as marcas\n",
        "df.groupby('nome_marca')['qtd_veiculos'].sum().plot(figsize=(12,8), kind='bar')\n",
        "\n",
        "plt.xlabel('Marca')\n",
        "plt.ylabel('Quantidade de veículos')\n",
        "plt.title('Vendas de veículos por Marca')\n",
        "\n",
        "plt.show()"
      ],
      "metadata": {
        "colab": {
          "base_uri": "https://localhost:8080/",
          "height": 898
        },
        "id": "KrcV5T2ovu6T",
        "outputId": "180c659e-2a51-447c-8fb8-0ef756172e82"
      },
      "execution_count": null,
      "outputs": [
        {
          "output_type": "display_data",
          "data": {
            "text/plain": [
              "<Figure size 1200x800 with 1 Axes>"
            ],
            "image/png": "[encoded data removed]"
          },
          "metadata": {}
        }
      ]
    },
    {
      "cell_type": "code",
      "source": [
        "#plotagem em relação ao total de vendas por ano\n",
        "grafico = df.groupby(df['ano']).sum(['qtd_veiculos']).plot(kind='bar', stacked=True)\n",
        "\n",
        "grafico.yaxis.set_major_formatter('{:.0f}M'.format)\n",
        "\n",
        "plt.xlabel('Ano')\n",
        "plt.ylabel('Quantidade de veículos')\n",
        "plt.title('Vendas de veículos por Ano')\n",
        "\n",
        "plt.show()"
      ],
      "metadata": {
        "colab": {
          "base_uri": "https://localhost:8080/",
          "height": 493
        },
        "id": "3CjAfiGXxZ2S",
        "outputId": "eec29b51-ecdf-4ac5-c3cd-63662ad07b3c"
      },
      "execution_count": null,
      "outputs": [
        {
          "output_type": "display_data",
          "data": {
            "text/plain": [
              "<Figure size 640x480 with 1 Axes>"
            ],
            "image/png": "[encoded data removed]"
          },
          "metadata": {}
        }
      ]
    },
    {
      "cell_type": "code",
      "source": [
        "#plotagem utilizando os df com o filtro por ano em relação a venda total por marca\n",
        "\n",
        "dados_2018.groupby('nome_marca')['qtd_veiculos'].sum().plot(figsize=(12,8), kind='bar', stacked=True)\n",
        "\n",
        "plt.xlabel('Marca')\n",
        "plt.ylabel('Quantidade de veículos')\n",
        "plt.title('Vendas de veículos por Marca')\n",
        "\n",
        "plt.show()"
      ],
      "metadata": {
        "colab": {
          "base_uri": "https://localhost:8080/",
          "height": 836
        },
        "id": "M9-GaUlG0ruY",
        "outputId": "56be2515-7b29-4464-b9f1-e42d49ccbefc"
      },
      "execution_count": null,
      "outputs": [
        {
          "output_type": "display_data",
          "data": {
            "text/plain": [
              "<Figure size 1200x800 with 1 Axes>"
            ],
            "image/png": "[encoded data removed]"
          },
          "metadata": {}
        }
      ]
    },
    {
      "cell_type": "code",
      "source": [
        "#Analisando a produção da marca que lídera as vendas -> General Motors\n",
        "\n",
        "df[df['nome_marca'] == 'General Motors'].groupby('ano')['qtd_veiculos'].sum().plot(figsize=(12,8), kind='line')\n",
        "\n",
        "plt.title('Total de vendas General Motors por ano')\n",
        "plt.xlabel('Ano')\n",
        "plt.ylabel('Total de vendas')"
      ],
      "metadata": {
        "colab": {
          "base_uri": "https://localhost:8080/",
          "height": 735
        },
        "id": "2kxErZ0hA12c",
        "outputId": "a850fc7b-edb7-4988-af07-e7246ca0d69e"
      },
      "execution_count": null,
      "outputs": [
        {
          "output_type": "execute_result",
          "data": {
            "text/plain": [
              "Text(0, 0.5, 'Total de vendas')"
            ]
          },
          "metadata": {},
          "execution_count": 49
        },
        {
          "output_type": "display_data",
          "data": {
            "text/plain": [
              "<Figure size 1200x800 with 1 Axes>"
            ],
            "image/png": "[encoded data removed]"
          },
          "metadata": {}
        }
      ]
    },
    {
      "cell_type": "markdown",
      "source": [
        "##10) Dataset -> bucket"
      ],
      "metadata": {
        "id": "6Nn5Y067vmp1"
      }
    },
    {
      "cell_type": "code",
      "source": [
        "#carregando o dataframe tratado para o bucket\n",
        "\n",
        "df.to_csv('gs://projetofinal1/tratados/venda_empresa.csv', index=False)"
      ],
      "metadata": {
        "id": "ryPw6tbrvqie"
      },
      "execution_count": null,
      "outputs": []
    },
    {
      "cell_type": "markdown",
      "source": [
        "##11) Dataset -> MongoDB"
      ],
      "metadata": {
        "id": "UuGc_Oij6KNr"
      }
    },
    {
      "cell_type": "code",
      "source": [
        "#df -> dicionário -> MongoDB\n",
        "\n",
        "df_dict = df.to_dict('records')\n",
        "\n",
        "colecao.insert_many(df_dict)"
      ],
      "metadata": {
        "colab": {
          "base_uri": "https://localhost:8080/"
        },
        "id": "P7cg4nhT6hAe",
        "outputId": "44c92d58-7c1b-454f-9f5b-d452d357676a"
      },
      "execution_count": null,
      "outputs": [
        {
          "output_type": "execute_result",
          "data": {
            "text/plain": [
              "<pymongo.results.InsertManyResult at 0x7f5b29eb8130>"
            ]
          },
          "metadata": {},
          "execution_count": 51
        }
      ]
    },
    {
      "cell_type": "code",
      "source": [
        "#confirmando se houve a inserção dos dados\n",
        "doc_count = colecao.count_documents({})\n",
        "print(doc_count)"
      ],
      "metadata": {
        "colab": {
          "base_uri": "https://localhost:8080/"
        },
        "id": "EhV62wgkEfhe",
        "outputId": "e8588f03-6571-4504-93ee-29d1791d22df"
      },
      "execution_count": null,
      "outputs": [
        {
          "output_type": "stream",
          "name": "stdout",
          "text": [
            "1749\n"
          ]
        }
      ]
    }
  ]
}