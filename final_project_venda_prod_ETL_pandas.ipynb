{
  "nbformat": 4,
  "nbformat_minor": 0,
  "metadata": {
    "colab": {
      "provenance": [],
      "collapsed_sections": [
        "8PZikd49xHyX",
        "ZLFV4uef7Oy1",
        "ZFNdOrTI_e8P",
        "cnD7n-ee8MQu",
        "1Z7nsIzEFniQ",
        "GbnX0TtHywU9",
        "2M-r2PiLz4HI",
        "vD39zCrr1A1r",
        "57bqV0ITGBP9",
        "dtp4afs0AA32"
      ],
      "include_colab_link": true
    },
    "kernelspec": {
      "name": "python3",
      "display_name": "Python 3"
    },
    "language_info": {
      "name": "python"
    }
  },
  "cells": [
    {
      "cell_type": "markdown",
      "metadata": {
        "id": "view-in-github",
        "colab_type": "text"
      },
      "source": [
        "<a href=\"https://colab.research.google.com/github/angelafrocha/ProjetoSoulcode/blob/main/final_project_venda_prod_ETL_pandas.ipynb\" target=\"_parent\"><img src=\"https://colab.research.google.com/assets/colab-badge.svg\" alt=\"Open In Colab\"/></a>"
      ]
    },
    {
      "cell_type": "markdown",
      "source": [
        "##Instalação de bibliotecas"
      ],
      "metadata": {
        "id": "8PZikd49xHyX"
      }
    },
    {
      "cell_type": "code",
      "source": [
        "pip install gcsfs"
      ],
      "metadata": {
        "id": "I50GuCAPdP9f",
        "colab": {
          "base_uri": "https://localhost:8080/"
        },
        "outputId": "0c2d113e-44b3-49d0-8bcc-afd2375a8c30"
      },
      "execution_count": null,
      "outputs": [
        {
          "output_type": "stream",
          "name": "stdout",
          "text": [
            "Looking in indexes: https://pypi.org/simple, https://us-python.pkg.dev/colab-wheels/public/simple/\n",
            "Collecting gcsfs\n",
            "  Downloading gcsfs-2023.4.0-py2.py3-none-any.whl (26 kB)\n",
            "Requirement already satisfied: google-auth-oauthlib in /usr/local/lib/python3.10/dist-packages (from gcsfs) (1.0.0)\n",
            "Requirement already satisfied: requests in /usr/local/lib/python3.10/dist-packages (from gcsfs) (2.27.1)\n",
            "Requirement already satisfied: google-auth>=1.2 in /usr/local/lib/python3.10/dist-packages (from gcsfs) (2.17.3)\n",
            "Requirement already satisfied: decorator>4.1.2 in /usr/local/lib/python3.10/dist-packages (from gcsfs) (4.4.2)\n",
            "Collecting aiohttp!=4.0.0a0,!=4.0.0a1\n",
            "  Downloading aiohttp-3.8.4-cp310-cp310-manylinux_2_17_x86_64.manylinux2014_x86_64.whl (1.0 MB)\n",
            "\u001b[2K     \u001b[90m━━━━━━━━━━━━━━━━━━━━━━━━━━━━━━━━━━━━━━━━\u001b[0m \u001b[32m1.0/1.0 MB\u001b[0m \u001b[31m26.1 MB/s\u001b[0m eta \u001b[36m0:00:00\u001b[0m\n",
            "\u001b[?25hRequirement already satisfied: fsspec==2023.4.0 in /usr/local/lib/python3.10/dist-packages (from gcsfs) (2023.4.0)\n",
            "Requirement already satisfied: google-cloud-storage in /usr/local/lib/python3.10/dist-packages (from gcsfs) (2.8.0)\n",
            "Requirement already satisfied: charset-normalizer<4.0,>=2.0 in /usr/local/lib/python3.10/dist-packages (from aiohttp!=4.0.0a0,!=4.0.0a1->gcsfs) (2.0.12)\n",
            "Collecting multidict<7.0,>=4.5\n",
            "  Downloading multidict-6.0.4-cp310-cp310-manylinux_2_17_x86_64.manylinux2014_x86_64.whl (114 kB)\n",
            "\u001b[2K     \u001b[90m━━━━━━━━━━━━━━━━━━━━━━━━━━━━━━━━━━━━━━\u001b[0m \u001b[32m114.5/114.5 kB\u001b[0m \u001b[31m14.7 MB/s\u001b[0m eta \u001b[36m0:00:00\u001b[0m\n",
            "\u001b[?25hRequirement already satisfied: attrs>=17.3.0 in /usr/local/lib/python3.10/dist-packages (from aiohttp!=4.0.0a0,!=4.0.0a1->gcsfs) (23.1.0)\n",
            "Collecting yarl<2.0,>=1.0\n",
            "  Downloading yarl-1.9.2-cp310-cp310-manylinux_2_17_x86_64.manylinux2014_x86_64.whl (268 kB)\n",
            "\u001b[2K     \u001b[90m━━━━━━━━━━━━━━━━━━━━━━━━━━━━━━━━━━━━━━\u001b[0m \u001b[32m268.8/268.8 kB\u001b[0m \u001b[31m25.6 MB/s\u001b[0m eta \u001b[36m0:00:00\u001b[0m\n",
            "\u001b[?25hCollecting aiosignal>=1.1.2\n",
            "  Downloading aiosignal-1.3.1-py3-none-any.whl (7.6 kB)\n",
            "Collecting async-timeout<5.0,>=4.0.0a3\n",
            "  Downloading async_timeout-4.0.2-py3-none-any.whl (5.8 kB)\n",
            "Collecting frozenlist>=1.1.1\n",
            "  Downloading frozenlist-1.3.3-cp310-cp310-manylinux_2_5_x86_64.manylinux1_x86_64.manylinux_2_17_x86_64.manylinux2014_x86_64.whl (149 kB)\n",
            "\u001b[2K     \u001b[90m━━━━━━━━━━━━━━━━━━━━━━━━━━━━━━━━━━━━━━\u001b[0m \u001b[32m149.6/149.6 kB\u001b[0m \u001b[31m17.5 MB/s\u001b[0m eta \u001b[36m0:00:00\u001b[0m\n",
            "\u001b[?25hRequirement already satisfied: six>=1.9.0 in /usr/local/lib/python3.10/dist-packages (from google-auth>=1.2->gcsfs) (1.16.0)\n",
            "Requirement already satisfied: rsa<5,>=3.1.4 in /usr/local/lib/python3.10/dist-packages (from google-auth>=1.2->gcsfs) (4.9)\n",
            "Requirement already satisfied: pyasn1-modules>=0.2.1 in /usr/local/lib/python3.10/dist-packages (from google-auth>=1.2->gcsfs) (0.3.0)\n",
            "Requirement already satisfied: cachetools<6.0,>=2.0.0 in /usr/local/lib/python3.10/dist-packages (from google-auth>=1.2->gcsfs) (5.3.0)\n",
            "Requirement already satisfied: requests-oauthlib>=0.7.0 in /usr/local/lib/python3.10/dist-packages (from google-auth-oauthlib->gcsfs) (1.3.1)\n",
            "Requirement already satisfied: google-api-core!=2.0.*,!=2.1.*,!=2.2.*,!=2.3.0,<3.0.0dev,>=1.31.5 in /usr/local/lib/python3.10/dist-packages (from google-cloud-storage->gcsfs) (2.11.0)\n",
            "Requirement already satisfied: google-cloud-core<3.0dev,>=2.3.0 in /usr/local/lib/python3.10/dist-packages (from google-cloud-storage->gcsfs) (2.3.2)\n",
            "Requirement already satisfied: google-resumable-media>=2.3.2 in /usr/local/lib/python3.10/dist-packages (from google-cloud-storage->gcsfs) (2.5.0)\n",
            "Requirement already satisfied: urllib3<1.27,>=1.21.1 in /usr/local/lib/python3.10/dist-packages (from requests->gcsfs) (1.26.15)\n",
            "Requirement already satisfied: idna<4,>=2.5 in /usr/local/lib/python3.10/dist-packages (from requests->gcsfs) (3.4)\n",
            "Requirement already satisfied: certifi>=2017.4.17 in /usr/local/lib/python3.10/dist-packages (from requests->gcsfs) (2022.12.7)\n",
            "Requirement already satisfied: googleapis-common-protos<2.0dev,>=1.56.2 in /usr/local/lib/python3.10/dist-packages (from google-api-core!=2.0.*,!=2.1.*,!=2.2.*,!=2.3.0,<3.0.0dev,>=1.31.5->google-cloud-storage->gcsfs) (1.59.0)\n",
            "Requirement already satisfied: protobuf!=3.20.0,!=3.20.1,!=4.21.0,!=4.21.1,!=4.21.2,!=4.21.3,!=4.21.4,!=4.21.5,<5.0.0dev,>=3.19.5 in /usr/local/lib/python3.10/dist-packages (from google-api-core!=2.0.*,!=2.1.*,!=2.2.*,!=2.3.0,<3.0.0dev,>=1.31.5->google-cloud-storage->gcsfs) (3.20.3)\n",
            "Requirement already satisfied: google-crc32c<2.0dev,>=1.0 in /usr/local/lib/python3.10/dist-packages (from google-resumable-media>=2.3.2->google-cloud-storage->gcsfs) (1.5.0)\n",
            "Requirement already satisfied: pyasn1<0.6.0,>=0.4.6 in /usr/local/lib/python3.10/dist-packages (from pyasn1-modules>=0.2.1->google-auth>=1.2->gcsfs) (0.5.0)\n",
            "Requirement already satisfied: oauthlib>=3.0.0 in /usr/local/lib/python3.10/dist-packages (from requests-oauthlib>=0.7.0->google-auth-oauthlib->gcsfs) (3.2.2)\n",
            "Installing collected packages: multidict, frozenlist, async-timeout, yarl, aiosignal, aiohttp, gcsfs\n",
            "Successfully installed aiohttp-3.8.4 aiosignal-1.3.1 async-timeout-4.0.2 frozenlist-1.3.3 gcsfs-2023.4.0 multidict-6.0.4 yarl-1.9.2\n"
          ]
        }
      ]
    },
    {
      "cell_type": "code",
      "source": [
        "pip install pandera"
      ],
      "metadata": {
        "id": "Je7hMa4FJBh8",
        "colab": {
          "base_uri": "https://localhost:8080/"
        },
        "outputId": "1576be7e-961e-4462-cd14-4cbe284b1ac1"
      },
      "execution_count": null,
      "outputs": [
        {
          "output_type": "stream",
          "name": "stdout",
          "text": [
            "Looking in indexes: https://pypi.org/simple, https://us-python.pkg.dev/colab-wheels/public/simple/\n",
            "Collecting pandera\n",
            "  Downloading pandera-0.14.5-py3-none-any.whl (149 kB)\n",
            "\u001b[2K     \u001b[90m━━━━━━━━━━━━━━━━━━━━━━━━━━━━━━━━━━━━━━━\u001b[0m \u001b[32m149.3/149.3 kB\u001b[0m \u001b[31m7.3 MB/s\u001b[0m eta \u001b[36m0:00:00\u001b[0m\n",
            "\u001b[?25hRequirement already satisfied: pandas>=1.2.0 in /usr/local/lib/python3.10/dist-packages (from pandera) (1.5.3)\n",
            "Requirement already satisfied: packaging>=20.0 in /usr/local/lib/python3.10/dist-packages (from pandera) (23.1)\n",
            "Collecting typing-inspect>=0.6.0\n",
            "  Downloading typing_inspect-0.8.0-py3-none-any.whl (8.7 kB)\n",
            "Requirement already satisfied: pydantic in /usr/local/lib/python3.10/dist-packages (from pandera) (1.10.7)\n",
            "Requirement already satisfied: wrapt in /usr/local/lib/python3.10/dist-packages (from pandera) (1.14.1)\n",
            "Collecting multimethod\n",
            "  Downloading multimethod-1.9.1-py3-none-any.whl (10 kB)\n",
            "Requirement already satisfied: numpy>=1.19.0 in /usr/local/lib/python3.10/dist-packages (from pandera) (1.22.4)\n",
            "Requirement already satisfied: pytz>=2020.1 in /usr/local/lib/python3.10/dist-packages (from pandas>=1.2.0->pandera) (2022.7.1)\n",
            "Requirement already satisfied: python-dateutil>=2.8.1 in /usr/local/lib/python3.10/dist-packages (from pandas>=1.2.0->pandera) (2.8.2)\n",
            "Collecting mypy-extensions>=0.3.0\n",
            "  Downloading mypy_extensions-1.0.0-py3-none-any.whl (4.7 kB)\n",
            "Requirement already satisfied: typing-extensions>=3.7.4 in /usr/local/lib/python3.10/dist-packages (from typing-inspect>=0.6.0->pandera) (4.5.0)\n",
            "Requirement already satisfied: six>=1.5 in /usr/local/lib/python3.10/dist-packages (from python-dateutil>=2.8.1->pandas>=1.2.0->pandera) (1.16.0)\n",
            "Installing collected packages: mypy-extensions, multimethod, typing-inspect, pandera\n",
            "Successfully installed multimethod-1.9.1 mypy-extensions-1.0.0 pandera-0.14.5 typing-inspect-0.8.0\n"
          ]
        }
      ]
    },
    {
      "cell_type": "code",
      "source": [
        "!pip install pymongo"
      ],
      "metadata": {
        "colab": {
          "base_uri": "https://localhost:8080/"
        },
        "id": "T_ZrNzDKFDZl",
        "outputId": "f1449a49-5883-4c4c-c896-741355b6fdc9"
      },
      "execution_count": null,
      "outputs": [
        {
          "output_type": "stream",
          "name": "stdout",
          "text": [
            "Looking in indexes: https://pypi.org/simple, https://us-python.pkg.dev/colab-wheels/public/simple/\n",
            "Collecting pymongo\n",
            "  Downloading pymongo-4.3.3-cp310-cp310-manylinux_2_17_x86_64.manylinux2014_x86_64.whl (492 kB)\n",
            "\u001b[2K     \u001b[90m━━━━━━━━━━━━━━━━━━━━━━━━━━━━━━━━━━━━━━\u001b[0m \u001b[32m492.9/492.9 kB\u001b[0m \u001b[31m12.8 MB/s\u001b[0m eta \u001b[36m0:00:00\u001b[0m\n",
            "\u001b[?25hCollecting dnspython<3.0.0,>=1.16.0\n",
            "  Downloading dnspython-2.3.0-py3-none-any.whl (283 kB)\n",
            "\u001b[2K     \u001b[90m━━━━━━━━━━━━━━━━━━━━━━━━━━━━━━━━━━━━━━\u001b[0m \u001b[32m283.7/283.7 kB\u001b[0m \u001b[31m21.5 MB/s\u001b[0m eta \u001b[36m0:00:00\u001b[0m\n",
            "\u001b[?25hInstalling collected packages: dnspython, pymongo\n",
            "Successfully installed dnspython-2.3.0 pymongo-4.3.3\n"
          ]
        }
      ]
    },
    {
      "cell_type": "markdown",
      "source": [
        "##Declaração das LIBS"
      ],
      "metadata": {
        "id": "ZLFV4uef7Oy1"
      }
    },
    {
      "cell_type": "code",
      "source": [
        "import pandas as pd\n",
        "import os\n",
        "import numpy as np\n",
        "import pandera as pa\n",
        "import matplotlib.pyplot as plt\n",
        "from google.cloud import storage\n",
        "import pymongo\n",
        "from pymongo import MongoClient"
      ],
      "metadata": {
        "id": "owr3eZcb7C8l"
      },
      "execution_count": null,
      "outputs": []
    },
    {
      "cell_type": "markdown",
      "source": [
        "##Config . do pandas"
      ],
      "metadata": {
        "id": "ZFNdOrTI_e8P"
      }
    },
    {
      "cell_type": "code",
      "source": [
        "pd.set_option('display.max_columns',100)"
      ],
      "metadata": {
        "id": "MGW_m5T-_d7K"
      },
      "execution_count": null,
      "outputs": []
    },
    {
      "cell_type": "markdown",
      "source": [
        "##Conector para Cloud Storage(bucket)"
      ],
      "metadata": {
        "id": "cnD7n-ee8MQu"
      }
    },
    {
      "cell_type": "code",
      "source": [
        "from google.colab import drive\n",
        "drive.mount('/content/drive')"
      ],
      "metadata": {
        "colab": {
          "base_uri": "https://localhost:8080/"
        },
        "id": "qCqoeaAdDhUG",
        "outputId": "26082d53-1397-4942-ccae-061c5502863d"
      },
      "execution_count": null,
      "outputs": [
        {
          "output_type": "stream",
          "name": "stdout",
          "text": [
            "Mounted at /content/drive\n"
          ]
        }
      ]
    },
    {
      "cell_type": "code",
      "execution_count": null,
      "metadata": {
        "id": "LC472qZZby-4"
      },
      "outputs": [],
      "source": [
        "#CONFIGURANDO DA CHAVE DE SEGURANCA (Enviada com o projeto)\n",
        "\n",
        "serviceAccount = '/content/drive/MyDrive/key_pf/spry-ether-382812-774986df1787.json'\n",
        "os.environ['GOOGLE_APPLICATION_CREDENTIALS'] = serviceAccount"
      ]
    },
    {
      "cell_type": "code",
      "source": [
        "#Configurações Google Cloud Storage\n",
        "client = storage.Client()\n",
        "\n",
        "bucket = client.get_bucket('projetofinal1')\n",
        "\n",
        "bucket.blob('vendas_prod_veiculos.csv/part-00000-5e3b5a6a-4761-4f6b-9e6a-b310430ac324-c000.csv')\n",
        "path = 'gs://projetofinal1/temp/vendas_prod_veiculos.csv/part-00000-5e3b5a6a-4761-4f6b-9e6a-b310430ac324-c000.csv'"
      ],
      "metadata": {
        "id": "17ymt9YhcEoB"
      },
      "execution_count": null,
      "outputs": []
    },
    {
      "cell_type": "markdown",
      "source": [
        "#Conectando ao mongo DB#"
      ],
      "metadata": {
        "id": "1Z7nsIzEFniQ"
      }
    },
    {
      "cell_type": "code",
      "source": [
        "uri = \"mongodb+srv://clustere5.wjshwzt.mongodb.net/?authSource=%24external&authMechanism=MONGODB-X509&retryWrites=true&w=majority\"\n",
        "client = MongoClient(uri,\n",
        "                     tls=True,\n",
        "                     tlsCertificateKeyFile='/content/drive/MyDrive/key_pf/acessoPatricia.pem',\n",
        "                     )\n",
        "db = client['producao_venda']\n",
        "colecao_tratado = db['tratado']"
      ],
      "metadata": {
        "id": "d7JC6CtDFxTw"
      },
      "execution_count": null,
      "outputs": []
    },
    {
      "cell_type": "code",
      "source": [
        "colecao_tratado.count_documents({})"
      ],
      "metadata": {
        "id": "8NHm6hm0e1-0",
        "colab": {
          "base_uri": "https://localhost:8080/"
        },
        "outputId": "e4508646-79cf-420d-a69a-b90fe5b07934"
      },
      "execution_count": null,
      "outputs": [
        {
          "output_type": "execute_result",
          "data": {
            "text/plain": [
              "63"
            ]
          },
          "metadata": {},
          "execution_count": 11
        }
      ]
    },
    {
      "cell_type": "markdown",
      "source": [
        "#Extração dos dados(Extract)#"
      ],
      "metadata": {
        "id": "GbnX0TtHywU9"
      }
    },
    {
      "cell_type": "code",
      "source": [
        "df = pd.read_csv(path,sep=',',encoding='ISO-8859-1')"
      ],
      "metadata": {
        "id": "WI93bN41zMPt"
      },
      "execution_count": null,
      "outputs": []
    },
    {
      "cell_type": "markdown",
      "source": [
        "#Pré-análise#"
      ],
      "metadata": {
        "id": "2M-r2PiLz4HI"
      }
    },
    {
      "cell_type": "code",
      "source": [
        "df_bkp = df.copy()"
      ],
      "metadata": {
        "id": "SpyddDIq0DnN"
      },
      "execution_count": null,
      "outputs": []
    },
    {
      "cell_type": "code",
      "source": [
        "df.dtypes"
      ],
      "metadata": {
        "id": "9cNdiAwtqpx8",
        "colab": {
          "base_uri": "https://localhost:8080/"
        },
        "outputId": "b6d534f1-aced-419e-dea1-aada7e240290"
      },
      "execution_count": null,
      "outputs": [
        {
          "output_type": "execute_result",
          "data": {
            "text/plain": [
              "data                              object\n",
              "valorVendas_mercadoInterno         int64\n",
              "Producao_Autoveiculos_total      float64\n",
              "valorVendas_autoveiculosTotal      int64\n",
              "valorVendas_concesTotal          float64\n",
              "valorVendas_ConcesComerciais     float64\n",
              "Producao_Automoveis              float64\n",
              "dtype: object"
            ]
          },
          "metadata": {},
          "execution_count": 95
        }
      ]
    },
    {
      "cell_type": "code",
      "source": [
        "df.shape"
      ],
      "metadata": {
        "id": "4g3JBvXNtHFZ",
        "colab": {
          "base_uri": "https://localhost:8080/"
        },
        "outputId": "2b28f6db-bb2d-41c4-d22f-fc900b7e5880"
      },
      "execution_count": null,
      "outputs": [
        {
          "output_type": "execute_result",
          "data": {
            "text/plain": [
              "(507, 7)"
            ]
          },
          "metadata": {},
          "execution_count": 96
        }
      ]
    },
    {
      "cell_type": "code",
      "source": [
        "df['data'].unique()"
      ],
      "metadata": {
        "id": "3VxQbkZe8z5W",
        "colab": {
          "base_uri": "https://localhost:8080/"
        },
        "outputId": "95fe2e42-71e1-4718-d2a1-042725848570"
      },
      "execution_count": null,
      "outputs": [
        {
          "output_type": "execute_result",
          "data": {
            "text/plain": [
              "array(['1981-01-01', '1981-02-01', '1981-03-01', '1981-04-01',\n",
              "       '1981-05-01', '1981-06-01', '1981-07-01', '1981-08-01',\n",
              "       '1981-09-01', '1981-10-01', '1981-11-01', '1981-12-01',\n",
              "       '1982-01-01', '1982-02-01', '1982-03-01', '1982-04-01',\n",
              "       '1982-05-01', '1982-06-01', '1982-07-01', '1982-08-01',\n",
              "       '1982-09-01', '1982-10-01', '1982-11-01', '1982-12-01',\n",
              "       '1983-01-01', '1983-02-01', '1983-03-01', '1983-04-01',\n",
              "       '1983-05-01', '1983-06-01', '1983-07-01', '1983-08-01',\n",
              "       '1983-09-01', '1983-10-01', '1983-11-01', '1983-12-01',\n",
              "       '1984-01-01', '1984-02-01', '1984-03-01', '1984-04-01',\n",
              "       '1984-05-01', '1984-06-01', '1984-07-01', '1984-08-01',\n",
              "       '1984-09-01', '1984-10-01', '1984-11-01', '1984-12-01',\n",
              "       '1985-01-01', '1985-02-01', '1985-03-01', '1985-04-01',\n",
              "       '1985-05-01', '1985-06-01', '1985-07-01', '1985-08-01',\n",
              "       '1985-09-01', '1985-10-01', '1985-11-01', '1985-12-01',\n",
              "       '1986-01-01', '1986-02-01', '1986-03-01', '1986-04-01',\n",
              "       '1986-05-01', '1986-06-01', '1986-07-01', '1986-08-01',\n",
              "       '1986-09-01', '1986-10-01', '1986-11-01', '1986-12-01',\n",
              "       '1987-01-01', '1987-02-01', '1987-03-01', '1987-04-01',\n",
              "       '1987-05-01', '1987-06-01', '1987-07-01', '1987-08-01',\n",
              "       '1987-09-01', '1987-10-01', '1987-11-01', '1987-12-01',\n",
              "       '1988-01-01', '1988-02-01', '1988-03-01', '1988-04-01',\n",
              "       '1988-05-01', '1988-06-01', '1988-07-01', '1988-08-01',\n",
              "       '1988-09-01', '1988-10-01', '1988-11-01', '1988-12-01',\n",
              "       '1989-01-01', '1989-02-01', '1989-03-01', '1989-04-01',\n",
              "       '1989-05-01', '1989-06-01', '1989-07-01', '1989-08-01',\n",
              "       '1989-09-01', '1989-10-01', '1989-11-01', '1989-12-01',\n",
              "       '1990-01-01', '1990-02-01', '1990-03-01', '1990-04-01',\n",
              "       '1990-05-01', '1990-06-01', '1990-07-01', '1990-08-01',\n",
              "       '1990-09-01', '1990-10-01', '1990-11-01', '1990-12-01',\n",
              "       '1991-01-01', '1991-02-01', '1991-03-01', '1991-04-01',\n",
              "       '1991-05-01', '1991-06-01', '1991-07-01', '1991-08-01',\n",
              "       '1991-09-01', '1991-10-01', '1991-11-01', '1991-12-01',\n",
              "       '1992-01-01', '1992-02-01', '1992-03-01', '1992-04-01',\n",
              "       '1992-05-01', '1992-06-01', '1992-07-01', '1992-08-01',\n",
              "       '1992-09-01', '1992-10-01', '1992-11-01', '1992-12-01',\n",
              "       '1993-01-01', '1993-02-01', '1993-03-01', '1993-04-01',\n",
              "       '1993-05-01', '1993-06-01', '1993-07-01', '1993-08-01',\n",
              "       '1993-09-01', '1993-10-01', '1993-11-01', '1993-12-01',\n",
              "       '1994-01-01', '1994-02-01', '1994-03-01', '1994-04-01',\n",
              "       '1994-05-01', '1994-06-01', '1994-07-01', '1994-08-01',\n",
              "       '1994-09-01', '1994-10-01', '1994-11-01', '1994-12-01',\n",
              "       '1995-01-01', '1995-02-01', '1995-03-01', '1995-04-01',\n",
              "       '1995-05-01', '1995-06-01', '1995-07-01', '1995-08-01',\n",
              "       '1995-09-01', '1995-10-01', '1995-11-01', '1995-12-01',\n",
              "       '1996-01-01', '1996-02-01', '1996-03-01', '1996-04-01',\n",
              "       '1996-05-01', '1996-06-01', '1996-07-01', '1996-08-01',\n",
              "       '1996-09-01', '1996-10-01', '1996-11-01', '1996-12-01',\n",
              "       '1997-01-01', '1997-02-01', '1997-03-01', '1997-04-01',\n",
              "       '1997-05-01', '1997-06-01', '1997-07-01', '1997-08-01',\n",
              "       '1997-09-01', '1997-10-01', '1997-11-01', '1997-12-01',\n",
              "       '1998-01-01', '1998-02-01', '1998-03-01', '1998-04-01',\n",
              "       '1998-05-01', '1998-06-01', '1998-07-01', '1998-08-01',\n",
              "       '1998-09-01', '1998-10-01', '1998-11-01', '1998-12-01',\n",
              "       '1999-01-01', '1999-02-01', '1999-03-01', '1999-04-01',\n",
              "       '1999-05-01', '1999-06-01', '1999-07-01', '1999-08-01',\n",
              "       '1999-09-01', '1999-10-01', '1999-11-01', '1999-12-01',\n",
              "       '2000-01-01', '2000-02-01', '2000-03-01', '2000-04-01',\n",
              "       '2000-05-01', '2000-06-01', '2000-07-01', '2000-08-01',\n",
              "       '2000-09-01', '2000-10-01', '2000-11-01', '2000-12-01',\n",
              "       '2001-01-01', '2001-02-01', '2001-03-01', '2001-04-01',\n",
              "       '2001-05-01', '2001-06-01', '2001-07-01', '2001-08-01',\n",
              "       '2001-09-01', '2001-10-01', '2001-11-01', '2001-12-01',\n",
              "       '2002-01-01', '2002-02-01', '2002-03-01', '2002-04-01',\n",
              "       '2002-05-01', '2002-06-01', '2002-07-01', '2002-08-01',\n",
              "       '2002-09-01', '2002-10-01', '2002-11-01', '2002-12-01',\n",
              "       '2003-01-01', '2003-02-01', '2003-03-01', '2003-04-01',\n",
              "       '2003-05-01', '2003-06-01', '2003-07-01', '2003-08-01',\n",
              "       '2003-09-01', '2003-10-01', '2003-11-01', '2003-12-01',\n",
              "       '2004-01-01', '2004-02-01', '2004-03-01', '2004-04-01',\n",
              "       '2004-05-01', '2004-06-01', '2004-07-01', '2004-08-01',\n",
              "       '2004-09-01', '2004-10-01', '2004-11-01', '2004-12-01',\n",
              "       '2005-01-01', '2005-02-01', '2005-03-01', '2005-04-01',\n",
              "       '2005-05-01', '2005-06-01', '2005-07-01', '2005-08-01',\n",
              "       '2005-09-01', '2005-10-01', '2005-11-01', '2005-12-01',\n",
              "       '2006-01-01', '2006-02-01', '2006-03-01', '2006-04-01',\n",
              "       '2006-05-01', '2006-06-01', '2006-07-01', '2006-08-01',\n",
              "       '2006-09-01', '2006-10-01', '2006-11-01', '2006-12-01',\n",
              "       '2007-01-01', '2007-02-01', '2007-03-01', '2007-04-01',\n",
              "       '2007-05-01', '2007-06-01', '2007-07-01', '2007-08-01',\n",
              "       '2007-09-01', '2007-10-01', '2007-11-01', '2007-12-01',\n",
              "       '2008-01-01', '2008-02-01', '2008-03-01', '2008-04-01',\n",
              "       '2008-05-01', '2008-06-01', '2008-07-01', '2008-08-01',\n",
              "       '2008-09-01', '2008-10-01', '2008-11-01', '2008-12-01',\n",
              "       '2009-01-01', '2009-02-01', '2009-03-01', '2009-04-01',\n",
              "       '2009-05-01', '2009-06-01', '2009-07-01', '2009-08-01',\n",
              "       '2009-09-01', '2009-10-01', '2009-11-01', '2009-12-01',\n",
              "       '2010-01-01', '2010-02-01', '2010-03-01', '2010-04-01',\n",
              "       '2010-05-01', '2010-06-01', '2010-07-01', '2010-08-01',\n",
              "       '2010-09-01', '2010-10-01', '2010-11-01', '2010-12-01',\n",
              "       '2011-01-01', '2011-02-01', '2011-03-01', '2011-04-01',\n",
              "       '2011-05-01', '2011-06-01', '2011-07-01', '2011-08-01',\n",
              "       '2011-09-01', '2011-10-01', '2011-11-01', '2011-12-01',\n",
              "       '2012-01-01', '2012-02-01', '2012-03-01', '2012-04-01',\n",
              "       '2012-05-01', '2012-06-01', '2012-07-01', '2012-08-01',\n",
              "       '2012-09-01', '2012-10-01', '2012-11-01', '2012-12-01',\n",
              "       '2013-01-01', '2013-02-01', '2013-03-01', '2013-04-01',\n",
              "       '2013-05-01', '2013-06-01', '2013-07-01', '2013-08-01',\n",
              "       '2013-09-01', '2013-10-01', '2013-11-01', '2013-12-01',\n",
              "       '2014-01-01', '2014-02-01', '2014-03-01', '2014-04-01',\n",
              "       '2014-05-01', '2014-06-01', '2014-07-01', '2014-08-01',\n",
              "       '2014-09-01', '2014-10-01', '2014-11-01', '2014-12-01',\n",
              "       '2015-01-01', '2015-02-01', '2015-03-01', '2015-04-01',\n",
              "       '2015-05-01', '2015-06-01', '2015-07-01', '2015-08-01',\n",
              "       '2015-09-01', '2015-10-01', '2015-11-01', '2015-12-01',\n",
              "       '2016-01-01', '2016-02-01', '2016-03-01', '2016-04-01',\n",
              "       '2016-05-01', '2016-06-01', '2016-07-01', '2016-08-01',\n",
              "       '2016-09-01', '2016-10-01', '2016-11-01', '2016-12-01',\n",
              "       '2017-01-01', '2017-02-01', '2017-03-01', '2017-04-01',\n",
              "       '2017-05-01', '2017-06-01', '2017-07-01', '2017-08-01',\n",
              "       '2017-09-01', '2017-10-01', '2017-11-01', '2017-12-01',\n",
              "       '2018-01-01', '2018-02-01', '2018-03-01', '2018-04-01',\n",
              "       '2018-05-01', '2018-06-01', '2018-07-01', '2018-08-01',\n",
              "       '2018-09-01', '2018-10-01', '2018-11-01', '2018-12-01',\n",
              "       '2019-01-01', '2019-02-01', '2019-03-01', '2019-04-01',\n",
              "       '2019-05-01', '2019-06-01', '2019-07-01', '2019-08-01',\n",
              "       '2019-09-01', '2019-10-01', '2019-11-01', '2019-12-01',\n",
              "       '2020-01-01', '2020-02-01', '2020-03-01', '2020-04-01',\n",
              "       '2020-05-01', '2020-06-01', '2020-07-01', '2020-08-01',\n",
              "       '2020-09-01', '2020-10-01', '2020-11-01', '2020-12-01',\n",
              "       '2021-01-01', '2021-02-01', '2021-03-01', '2021-04-01',\n",
              "       '2021-05-01', '2021-06-01', '2021-07-01', '2021-08-01',\n",
              "       '2021-09-01', '2021-10-01', '2021-11-01', '2021-12-01',\n",
              "       '2022-01-01', '2022-02-01', '2022-03-01', '2022-04-01',\n",
              "       '2022-05-01', '2022-06-01', '2022-07-01', '2022-08-01',\n",
              "       '2022-09-01', '2022-10-01', '2022-11-01', '2022-12-01',\n",
              "       '2023-01-01', '2023-02-01', '2023-03-01'], dtype=object)"
            ]
          },
          "metadata": {},
          "execution_count": 97
        }
      ]
    },
    {
      "cell_type": "code",
      "source": [
        "df['data'] = pd.to_datetime(df['data'], format='%Y-%m-%d')"
      ],
      "metadata": {
        "id": "E1YKL6NArdP3"
      },
      "execution_count": null,
      "outputs": []
    },
    {
      "cell_type": "code",
      "source": [
        "df.info()"
      ],
      "metadata": {
        "id": "13jFwYLp0pR8",
        "colab": {
          "base_uri": "https://localhost:8080/"
        },
        "outputId": "3dafd90d-48bb-4498-c8a2-8552744a7a2d"
      },
      "execution_count": null,
      "outputs": [
        {
          "output_type": "stream",
          "name": "stdout",
          "text": [
            "<class 'pandas.core.frame.DataFrame'>\n",
            "RangeIndex: 507 entries, 0 to 506\n",
            "Data columns (total 7 columns):\n",
            " #   Column                         Non-Null Count  Dtype         \n",
            "---  ------                         --------------  -----         \n",
            " 0   data                           507 non-null    datetime64[ns]\n",
            " 1   valorVendas_mercadoInterno     507 non-null    int64         \n",
            " 2   Producao_Autoveiculos_total    363 non-null    float64       \n",
            " 3   valorVendas_autoveiculosTotal  507 non-null    int64         \n",
            " 4   valorVendas_concesTotal        399 non-null    float64       \n",
            " 5   valorVendas_ConcesComerciais   399 non-null    float64       \n",
            " 6   Producao_Automoveis            363 non-null    float64       \n",
            "dtypes: datetime64[ns](1), float64(4), int64(2)\n",
            "memory usage: 27.9 KB\n"
          ]
        }
      ]
    },
    {
      "cell_type": "code",
      "source": [
        "df.isnull().sum()"
      ],
      "metadata": {
        "id": "YkTL0ooi03wv",
        "colab": {
          "base_uri": "https://localhost:8080/"
        },
        "outputId": "5f7a2cbd-28e7-446e-c26d-58756c6ece7c"
      },
      "execution_count": null,
      "outputs": [
        {
          "output_type": "execute_result",
          "data": {
            "text/plain": [
              "data                               0\n",
              "valorVendas_mercadoInterno         0\n",
              "Producao_Autoveiculos_total      144\n",
              "valorVendas_autoveiculosTotal      0\n",
              "valorVendas_concesTotal          108\n",
              "valorVendas_ConcesComerciais     108\n",
              "Producao_Automoveis              144\n",
              "dtype: int64"
            ]
          },
          "metadata": {},
          "execution_count": 100
        }
      ]
    },
    {
      "cell_type": "code",
      "source": [
        "# 144 de 70000436 = 0,0002%\n",
        "df['Producao_Autoveiculos_total'].sum()"
      ],
      "metadata": {
        "id": "15GTJARs1Ia_",
        "colab": {
          "base_uri": "https://localhost:8080/"
        },
        "outputId": "c199d820-2bcc-4afa-b90e-42d7692eb0f5"
      },
      "execution_count": null,
      "outputs": [
        {
          "output_type": "execute_result",
          "data": {
            "text/plain": [
              "70000436.0"
            ]
          },
          "metadata": {},
          "execution_count": 101
        }
      ]
    },
    {
      "cell_type": "code",
      "source": [
        "df['Producao_Autoveiculos_total'].unique()"
      ],
      "metadata": {
        "id": "-X_958Fn4zpb",
        "colab": {
          "base_uri": "https://localhost:8080/"
        },
        "outputId": "09c51326-c343-4403-ff3f-fa0ee4abbd26"
      },
      "execution_count": null,
      "outputs": [
        {
          "output_type": "execute_result",
          "data": {
            "text/plain": [
              "array([    nan,  66168.,  73042.,  98691.,  88839., 101055., 102512.,\n",
              "       104493., 115800., 106990., 109989., 111043.,  94678.,  93357.,\n",
              "        95060., 122600.,  94820., 119441., 109101., 114188., 127038.,\n",
              "       103372., 108978., 124173., 109563.,  78192., 110168., 131859.,\n",
              "       117064., 136548., 153241., 106135., 140683., 119247., 134566.,\n",
              "       129650., 102323., 100946., 121248., 136019., 130698., 142309.,\n",
              "       121143., 153931., 161906., 146060., 148219., 141674., 118982.,\n",
              "       124889., 136323., 153164., 172391., 162310., 170685., 160400.,\n",
              "       173863., 182952., 192829., 130140., 101255., 110243., 105964.,\n",
              "       141749., 137785., 160231., 146151., 126825., 134224., 134540.,\n",
              "        92855.,  79643.,  59650.,  81902.,  78103., 114873., 109148.,\n",
              "       114047., 116990., 115312., 129287., 130444., 109990., 108670.,\n",
              "        81211.,  92704., 126595., 130730., 129116., 144738., 145172.,\n",
              "       141751., 161503., 141474., 140295., 128920., 122850., 116359.,\n",
              "       135125., 172563., 159963., 181201., 153120., 142411., 139972.,\n",
              "       127346., 117198., 124740., 104524., 116830., 116000., 143887.,\n",
              "       152334., 144526., 130458., 133240., 127173., 140896., 157227.,\n",
              "       148960., 122259., 132208., 141129., 127486., 130783., 141857.,\n",
              "       124511., 130930., 130353., 155901., 161223., 161528., 146806.,\n",
              "       150001., 148766., 185509., 163375., 172380., 179685., 179895.,\n",
              "       192904., 194735., 182581., 193820., 180526., 155533., 176760.,\n",
              "       211944., 197607., 207369., 213767., 199959., 210961., 198855.,\n",
              "       182962., 206894., 194561., 183640., 190099., 212794., 184761.,\n",
              "       219343., 205415., 202943., 221843., 188600., 207656., 208897.,\n",
              "       177689., 190778., 190518., 234951., 212376., 241844., 232836.,\n",
              "       253138., 263924., 241700., 283405., 262729., 217025., 242456.,\n",
              "       239214., 268285., 283294., 274542., 292422., 305384., 299556.,\n",
              "       286610., 280178., 187374.,  91314., 180242., 196546., 266162.,\n",
              "       244700., 262452., 276445., 271385., 284904., 263767., 306291.,\n",
              "       282512., 240594., 233395., 236614., 318011., 274873., 297374.,\n",
              "       283997., 290756., 308387., 278441., 293567., 301940., 264780.,\n",
              "       239301., 295946., 296322., 283219., 305251., 296050., 308798.,\n",
              "       326213., 261130., 270949., 273358., 261245., 210604., 219068.,\n",
              "       313178., 266275., 286215., 277722., 301142., 333316., 289693.,\n",
              "       323940., 314727., 268504., 291884., 242072., 329103., 352328.,\n",
              "       344556., 323853., 316740., 343562., 322776., 322677., 293155.,\n",
              "       231107., 237390., 281627., 272754., 277091., 281355., 215943.,\n",
              "       254348., 264637., 300931., 293328., 264830., 207597., 204716.,\n",
              "       205953., 256480., 219623., 213047., 187608., 223145., 216991.,\n",
              "       176757., 208097., 173874., 141798., 152778., 144333., 200352.,\n",
              "       171298., 178895., 186250., 191779., 181197., 172105., 177570.,\n",
              "       219084., 201143., 179376., 201763., 236568., 191554., 253398.,\n",
              "       214838., 225831., 266489., 239763., 253906., 254073., 219697.,\n",
              "       219217., 213498., 267539., 266549., 212329., 256311., 245935.,\n",
              "       291099., 223081., 263186., 244771., 177503., 199145., 257939.,\n",
              "       240763., 267561., 275747., 233150., 266992., 269758., 247455.,\n",
              "       288519., 227455., 170504., 191731., 204206., 189958.,   1847.,\n",
              "        43080.,  98447., 170651., 210009., 220162., 236468., 238200.,\n",
              "       209296., 200398., 197035., 200340., 190907., 192843., 167547.,\n",
              "       164156., 165330., 174087., 178965., 205720., 210925., 145417.,\n",
              "       165935., 184786., 186037., 205916., 203598., 218950., 237961.,\n",
              "       207762., 206044., 215796., 191567., 152666., 161181., 221835.])"
            ]
          },
          "metadata": {},
          "execution_count": 102
        }
      ]
    },
    {
      "cell_type": "code",
      "source": [
        "# 108 de 69589534 = 0,00015%\n",
        "df['valorVendas_concesTotal'].sum()"
      ],
      "metadata": {
        "id": "kKjJoH453-kH",
        "colab": {
          "base_uri": "https://localhost:8080/"
        },
        "outputId": "b2a19875-fa73-4278-8b35-6079f1f3db37"
      },
      "execution_count": null,
      "outputs": [
        {
          "output_type": "execute_result",
          "data": {
            "text/plain": [
              "69589534.0"
            ]
          },
          "metadata": {},
          "execution_count": 103
        }
      ]
    },
    {
      "cell_type": "code",
      "source": [
        "df['valorVendas_concesTotal'].unique()"
      ],
      "metadata": {
        "id": "8Oy04xzw47hi",
        "colab": {
          "base_uri": "https://localhost:8080/"
        },
        "outputId": "34abb8c4-6944-4734-adbf-bb9ad3752a8e"
      },
      "execution_count": null,
      "outputs": [
        {
          "output_type": "execute_result",
          "data": {
            "text/plain": [
              "array([    nan,  69792.,  57258.,  32740.,  32812.,  58464.,  37632.,\n",
              "        43697.,  84707.,  75195.,  80938.,  73082.,  66391.,  60486.,\n",
              "        58540.,  66155.,  39851.,  55941.,  68826.,  85112.,  78648.,\n",
              "        73080.,  80372.,  69039.,  55458.,  55747.,  45472.,  39612.,\n",
              "        76270.,  62091.,  67800.,  71403.,  67980.,  69585.,  72163.,\n",
              "        75357.,  67997.,  61071.,  66606.,  90636.,  82832.,  90675.,\n",
              "        92286.,  94397., 109283., 101182.,  97551., 105926., 105746.,\n",
              "        93915.,  91542., 114805.,  96698., 118772., 120281., 109044.,\n",
              "       159083., 114803., 127987., 139273., 140448., 110921., 132244.,\n",
              "       178474., 135202., 135837., 137598., 133326., 155183., 137920.,\n",
              "       146628., 146066., 135447., 113611., 129557., 135244., 128993.,\n",
              "       147166., 129070., 153716., 151652., 165120., 163423., 158599.,\n",
              "       152407., 150152., 137523., 159027., 176706., 167344., 167959.,\n",
              "       175383., 173822., 180865., 185697., 140970., 115568., 125788.,\n",
              "       115902., 128629., 138591., 154580., 129611., 135337., 146373.,\n",
              "       124538., 108528., 111375., 127366.,  93861.,  57175., 105723.,\n",
              "       129560., 101648., 103799., 115943., 121715., 107371.,  81339.,\n",
              "        80401.,  78346.,  83998.,  98936.,  92716., 113309., 123089.,\n",
              "       115922., 121700., 134259., 120680., 130493., 125055., 151595.,\n",
              "       123877., 118303., 155105., 139920., 152816., 133510., 138828.,\n",
              "       139347., 108303., 125664., 126197., 125058., 114671.,  97388.,\n",
              "       123553., 138638., 122965., 107277., 123485., 126754., 129428.,\n",
              "       137811., 118278., 126239., 117222., 117920., 102578., 108860.,\n",
              "       106581.,  99897., 113171.,  99252., 125557., 140872., 130398.,\n",
              "       169073., 107522., 104931., 141465., 115479., 123311., 130753.,\n",
              "       133848., 130234., 137402., 137196., 138814., 177881., 106660.,\n",
              "       114816., 149478., 137605., 143000., 148526., 138779., 151723.,\n",
              "       144472., 137644., 158334., 183687., 132900., 127821., 156775.,\n",
              "       131139., 164066., 146954., 165746., 178513., 159288., 175186.,\n",
              "       182709., 204801., 152953., 146473., 193464., 179334., 211155.,\n",
              "       198767., 217374., 235270., 204034., 244463., 237060., 242258.,\n",
              "       215041., 200841., 232177., 261292., 242047., 256070., 288177.,\n",
              "       244799., 268734., 239329., 177906., 194550., 197433., 199356.,\n",
              "       271417., 234359., 246944., 300129., 285370., 258104., 308690.,\n",
              "       294465., 251723., 293019., 213313., 220957., 353741., 277835.,\n",
              "       251094., 262773., 302349., 312774., 307034., 303159., 328468.,\n",
              "       381542., 244863., 274128., 306135., 289172., 318510., 304319.,\n",
              "       306221., 327360., 311648., 280582., 321622., 348414., 268237.,\n",
              "       249473., 300512., 257849., 287481., 353169., 364174., 420048.,\n",
              "       288079., 341633., 311742., 359306., 311458., 235087., 283889.,\n",
              "       333716., 316191., 318602., 342291., 329175., 309837., 330187.,\n",
              "       302919., 353813., 312593., 259325., 240793., 293229., 293344.,\n",
              "       263557., 294757., 272448., 296286., 306849., 294636., 370001.,\n",
              "       253788., 185938., 234658., 219371., 212693., 212522., 227606.,\n",
              "       207261., 200075., 192151., 195193., 227724., 155277., 146816.,\n",
              "       179279., 162946., 167487., 171802., 181399., 183887., 159953.,\n",
              "       159032., 178138., 204346., 147200., 135649., 189105., 156907.,\n",
              "       195551., 194796., 184800., 216520., 199217., 202844., 204196.,\n",
              "       212620., 181245., 156880., 207353., 217322., 201870., 201963.,\n",
              "       217476., 248598., 213323., 254565., 230909., 234505., 199775.,\n",
              "       198634., 209148., 231922., 245440., 223191., 243599., 242981.,\n",
              "       234774., 253340., 242277., 262537., 193451., 200967., 163591.,\n",
              "        55706.,  62173., 132794., 174454., 183365., 207688., 215024.,\n",
              "       225000., 243933., 171114., 167341., 189372., 175074., 188612.,\n",
              "       182408., 175426., 172763., 155036., 162314., 172904., 207062.,\n",
              "       126467., 132321., 146774., 147236., 187062., 178047., 181975.,\n",
              "       208596., 193950., 180882., 203998., 216909., 142826., 129900.,\n",
              "       198909.])"
            ]
          },
          "metadata": {},
          "execution_count": 104
        }
      ]
    },
    {
      "cell_type": "code",
      "source": [
        "# 108 de 69589534 = 0,00015%\n",
        "df['valorVendas_ConcesComerciais'].sum()"
      ],
      "metadata": {
        "id": "fceN_5MI5KOG",
        "colab": {
          "base_uri": "https://localhost:8080/"
        },
        "outputId": "b5e39863-40cd-4c2f-84d8-143780c0d2b1"
      },
      "execution_count": null,
      "outputs": [
        {
          "output_type": "execute_result",
          "data": {
            "text/plain": [
              "69589534.0"
            ]
          },
          "metadata": {},
          "execution_count": 105
        }
      ]
    },
    {
      "cell_type": "code",
      "source": [
        "df['valorVendas_ConcesComerciais'].unique()"
      ],
      "metadata": {
        "id": "HBv548xR5VwW",
        "colab": {
          "base_uri": "https://localhost:8080/"
        },
        "outputId": "a702fa04-69fc-4df5-b68e-c8841eebcd17"
      },
      "execution_count": null,
      "outputs": [
        {
          "output_type": "execute_result",
          "data": {
            "text/plain": [
              "array([    nan,  69792.,  57258.,  32740.,  32812.,  58464.,  37632.,\n",
              "        43697.,  84707.,  75195.,  80938.,  73082.,  66391.,  60486.,\n",
              "        58540.,  66155.,  39851.,  55941.,  68826.,  85112.,  78648.,\n",
              "        73080.,  80372.,  69039.,  55458.,  55747.,  45472.,  39612.,\n",
              "        76270.,  62091.,  67800.,  71403.,  67980.,  69585.,  72163.,\n",
              "        75357.,  67997.,  61071.,  66606.,  90636.,  82832.,  90675.,\n",
              "        92286.,  94397., 109283., 101182.,  97551., 105926., 105746.,\n",
              "        93915.,  91542., 114805.,  96698., 118772., 120281., 109044.,\n",
              "       159083., 114803., 127987., 139273., 140448., 110921., 132244.,\n",
              "       178474., 135202., 135837., 137598., 133326., 155183., 137920.,\n",
              "       146628., 146066., 135447., 113611., 129557., 135244., 128993.,\n",
              "       147166., 129070., 153716., 151652., 165120., 163423., 158599.,\n",
              "       152407., 150152., 137523., 159027., 176706., 167344., 167959.,\n",
              "       175383., 173822., 180865., 185697., 140970., 115568., 125788.,\n",
              "       115902., 128629., 138591., 154580., 129611., 135337., 146373.,\n",
              "       124538., 108528., 111375., 127366.,  93861.,  57175., 105723.,\n",
              "       129560., 101648., 103799., 115943., 121715., 107371.,  81339.,\n",
              "        80401.,  78346.,  83998.,  98936.,  92716., 113309., 123089.,\n",
              "       115922., 121700., 134259., 120680., 130493., 125055., 151595.,\n",
              "       123877., 118303., 155105., 139920., 152816., 133510., 138828.,\n",
              "       139347., 108303., 125664., 126197., 125058., 114671.,  97388.,\n",
              "       123553., 138638., 122965., 107277., 123485., 126754., 129428.,\n",
              "       137811., 118278., 126239., 117222., 117920., 102578., 108860.,\n",
              "       106581.,  99897., 113171.,  99252., 125557., 140872., 130398.,\n",
              "       169073., 107522., 104931., 141465., 115479., 123311., 130753.,\n",
              "       133848., 130234., 137402., 137196., 138814., 177881., 106660.,\n",
              "       114816., 149478., 137605., 143000., 148526., 138779., 151723.,\n",
              "       144472., 137644., 158334., 183687., 132900., 127821., 156775.,\n",
              "       131139., 164066., 146954., 165746., 178513., 159288., 175186.,\n",
              "       182709., 204801., 152953., 146473., 193464., 179334., 211155.,\n",
              "       198767., 217374., 235270., 204034., 244463., 237060., 242258.,\n",
              "       215041., 200841., 232177., 261292., 242047., 256070., 288177.,\n",
              "       244799., 268734., 239329., 177906., 194550., 197433., 199356.,\n",
              "       271417., 234359., 246944., 300129., 285370., 258104., 308690.,\n",
              "       294465., 251723., 293019., 213313., 220957., 353741., 277835.,\n",
              "       251094., 262773., 302349., 312774., 307034., 303159., 328468.,\n",
              "       381542., 244863., 274128., 306135., 289172., 318510., 304319.,\n",
              "       306221., 327360., 311648., 280582., 321622., 348414., 268237.,\n",
              "       249473., 300512., 257849., 287481., 353169., 364174., 420048.,\n",
              "       288079., 341633., 311742., 359306., 311458., 235087., 283889.,\n",
              "       333716., 316191., 318602., 342291., 329175., 309837., 330187.,\n",
              "       302919., 353813., 312593., 259325., 240793., 293229., 293344.,\n",
              "       263557., 294757., 272448., 296286., 306849., 294636., 370001.,\n",
              "       253788., 185938., 234658., 219371., 212693., 212522., 227606.,\n",
              "       207261., 200075., 192151., 195193., 227724., 155277., 146816.,\n",
              "       179279., 162946., 167487., 171802., 181399., 183887., 159953.,\n",
              "       159032., 178138., 204346., 147200., 135649., 189105., 156907.,\n",
              "       195551., 194796., 184800., 216520., 199217., 202844., 204196.,\n",
              "       212620., 181245., 156880., 207353., 217322., 201870., 201963.,\n",
              "       217476., 248598., 213323., 254565., 230909., 234505., 199775.,\n",
              "       198634., 209148., 231922., 245440., 223191., 243599., 242981.,\n",
              "       234774., 253340., 242277., 262537., 193451., 200967., 163591.,\n",
              "        55706.,  62173., 132794., 174454., 183365., 207688., 215024.,\n",
              "       225000., 243933., 171114., 167341., 189372., 175074., 188612.,\n",
              "       182408., 175426., 172763., 155036., 162314., 172904., 207062.,\n",
              "       126467., 132321., 146774., 147236., 187062., 178047., 181975.,\n",
              "       208596., 193950., 180882., 203998., 216909., 142826., 129900.,\n",
              "       198909.])"
            ]
          },
          "metadata": {},
          "execution_count": 106
        }
      ]
    },
    {
      "cell_type": "code",
      "source": [
        "# 144 de 66024475 = 0,00021%\n",
        "df['Producao_Automoveis'].sum()"
      ],
      "metadata": {
        "id": "3wqNx-ay54lP",
        "colab": {
          "base_uri": "https://localhost:8080/"
        },
        "outputId": "68a6c02b-43bc-4166-c167-25d8f176e87e"
      },
      "execution_count": null,
      "outputs": [
        {
          "output_type": "execute_result",
          "data": {
            "text/plain": [
              "66024475.0"
            ]
          },
          "metadata": {},
          "execution_count": 107
        }
      ]
    },
    {
      "cell_type": "code",
      "source": [
        "df['Producao_Automoveis'].unique()"
      ],
      "metadata": {
        "id": "lviuvlxg6I3o",
        "colab": {
          "base_uri": "https://localhost:8080/"
        },
        "outputId": "d59dda4d-7992-42b8-c6f6-8c2eb5b4a2c4"
      },
      "execution_count": null,
      "outputs": [
        {
          "output_type": "execute_result",
          "data": {
            "text/plain": [
              "array([    nan,  62913.,  70663.,  93322.,  83861.,  95587.,  96818.,\n",
              "        98985., 109389., 100182., 103272., 104836.,  90390.,  88749.,\n",
              "        90725., 116167.,  90052., 112323., 102368., 107274., 119641.,\n",
              "        97492., 101700., 116339., 103115.,  71726., 102750., 123153.,\n",
              "       109106., 128367., 143531.,  97018., 131052., 113669., 126807.,\n",
              "       122873.,  99891.,  96271., 115677., 130533., 124332., 136930.,\n",
              "       116101., 148804., 156130., 141503., 141467., 136525., 115122.,\n",
              "       119922., 131345., 147478., 166059., 156073., 163533., 151990.,\n",
              "       165805., 173614., 182927., 122201.,  96752., 104159., 100123.,\n",
              "       134201., 129541., 151137., 137382., 118016., 126461., 127071.,\n",
              "        86228.,  74360.,  57627.,  76130.,  72574., 108144., 103885.,\n",
              "       108230., 110777., 109826., 123126., 124331., 104168., 102213.,\n",
              "        77064.,  88435., 120251., 123461., 121388., 135402., 136157.,\n",
              "       132860., 151584., 132418., 131719., 122081., 117675., 109553.,\n",
              "       127632., 162669., 151111., 170805., 143908., 133595., 130675.,\n",
              "       119591., 108636., 117170.,  99980., 110194., 108600., 135421.,\n",
              "       143109., 135906., 122977., 125704., 119726., 133757., 149769.,\n",
              "       141276., 117547., 124160., 132463., 118866., 122653., 133391.,\n",
              "       116584., 122716., 121775., 147144., 151575., 150970., 140154.,\n",
              "       142380., 139839., 174149., 152649., 160889., 168318., 167969.,\n",
              "       181074., 182926., 171229., 181789., 171166., 145653., 166673.,\n",
              "       199221., 185274., 194727., 199943., 188723., 198199., 185514.,\n",
              "       170877., 194516., 185565., 175693., 180053., 199771., 174301.,\n",
              "       206258., 193887., 190778., 209103., 177730., 196520., 198064.,\n",
              "       168813., 182009., 179405., 220277., 199294., 226514., 217876.,\n",
              "       237842., 247318., 226915., 266031., 246762., 206234., 228636.,\n",
              "       223890., 251347., 266123., 258010., 273983., 286009., 279761.,\n",
              "       266894., 259151., 170264.,  84602., 170766., 187116., 254365.,\n",
              "       233160., 250568., 264036., 259228., 272807., 249629., 290481.,\n",
              "       266213., 226615., 218952., 220416., 297384., 255727., 277885.,\n",
              "       264028., 269833., 286241., 258473., 273487., 282002., 247243.,\n",
              "       222634., 274486., 275588., 263292., 280536., 272103., 284585.,\n",
              "       299156., 238312., 246745., 249369., 238005., 205995., 204486.,\n",
              "       294811., 252594., 270885., 265547., 285527., 316854., 275484.,\n",
              "       306760., 298438., 256965., 276130., 225396., 308783., 330462.,\n",
              "       324290., 303642., 296415., 321036., 302381., 300707., 275122.,\n",
              "       221893., 221183., 262703., 255210., 261382., 265272., 205213.,\n",
              "       239075., 249789., 286366., 278239., 251208., 203289., 194123.,\n",
              "       195707., 246320., 210698., 204559., 180525., 214651., 210515.,\n",
              "       169211., 200066., 167479., 138675., 147444., 137507., 193037.,\n",
              "       164516., 172072., 178856., 185053., 174522., 165115., 171281.,\n",
              "       212126., 196068., 173825., 195091., 228930., 184162., 243690.,\n",
              "       205805., 216462., 255809., 230477., 244137., 244242., 210939.,\n",
              "       210565., 203610., 254759., 254154., 203081., 244732., 234222.,\n",
              "       278414., 211716., 250018., 232659., 169018., 190415., 245782.,\n",
              "       230773., 255351., 261742., 220782., 253434., 256360., 234636.,\n",
              "       274583., 216645., 163338., 183136., 192519., 179560.,   1048.,\n",
              "        37807.,  91487., 162230., 201572., 208773., 223759., 225021.,\n",
              "       197802., 190156., 183641., 185718., 175942., 177281., 151286.,\n",
              "       147822., 148857., 159073., 163928., 189757., 197101., 134629.,\n",
              "       152590., 168834., 174340., 188956., 187237., 203096., 217174.,\n",
              "       189007., 187336., 197706., 175095., 147835., 151783., 207552.])"
            ]
          },
          "metadata": {},
          "execution_count": 108
        }
      ]
    },
    {
      "cell_type": "code",
      "source": [
        "df.info()"
      ],
      "metadata": {
        "id": "ioxA5UU26S1O",
        "colab": {
          "base_uri": "https://localhost:8080/"
        },
        "outputId": "06d47d56-5c21-40aa-bf5c-e7511127c9a3"
      },
      "execution_count": null,
      "outputs": [
        {
          "output_type": "stream",
          "name": "stdout",
          "text": [
            "<class 'pandas.core.frame.DataFrame'>\n",
            "RangeIndex: 507 entries, 0 to 506\n",
            "Data columns (total 7 columns):\n",
            " #   Column                         Non-Null Count  Dtype         \n",
            "---  ------                         --------------  -----         \n",
            " 0   data                           507 non-null    datetime64[ns]\n",
            " 1   valorVendas_mercadoInterno     507 non-null    int64         \n",
            " 2   Producao_Autoveiculos_total    363 non-null    float64       \n",
            " 3   valorVendas_autoveiculosTotal  507 non-null    int64         \n",
            " 4   valorVendas_concesTotal        399 non-null    float64       \n",
            " 5   valorVendas_ConcesComerciais   399 non-null    float64       \n",
            " 6   Producao_Automoveis            363 non-null    float64       \n",
            "dtypes: datetime64[ns](1), float64(4), int64(2)\n",
            "memory usage: 27.9 KB\n"
          ]
        }
      ]
    },
    {
      "cell_type": "markdown",
      "source": [
        "#Tratamento#"
      ],
      "metadata": {
        "id": "vD39zCrr1A1r"
      }
    },
    {
      "cell_type": "code",
      "source": [
        "#convertendo campo data para date\n",
        "df['data'] = pd.to_datetime(df['data'])"
      ],
      "metadata": {
        "id": "L5Z_yzeDUUuR"
      },
      "execution_count": null,
      "outputs": []
    },
    {
      "cell_type": "code",
      "source": [
        "#Criando uma nova coluna ano para facilitar a nossa análise\n",
        "df['ano'] = df.data.dt.year"
      ],
      "metadata": {
        "id": "d-2HILZxrymf"
      },
      "execution_count": null,
      "outputs": []
    },
    {
      "cell_type": "code",
      "source": [
        "df['ano'].unique()"
      ],
      "metadata": {
        "id": "uSFhtvHh7OhS",
        "colab": {
          "base_uri": "https://localhost:8080/"
        },
        "outputId": "f0d4671f-db96-4672-efd1-023564a6822b"
      },
      "execution_count": null,
      "outputs": [
        {
          "output_type": "execute_result",
          "data": {
            "text/plain": [
              "array([1981, 1982, 1983, 1984, 1985, 1986, 1987, 1988, 1989, 1990, 1991,\n",
              "       1992, 1993, 1994, 1995, 1996, 1997, 1998, 1999, 2000, 2001, 2002,\n",
              "       2003, 2004, 2005, 2006, 2007, 2008, 2009, 2010, 2011, 2012, 2013,\n",
              "       2014, 2015, 2016, 2017, 2018, 2019, 2020, 2021, 2022, 2023])"
            ]
          },
          "metadata": {},
          "execution_count": 15
        }
      ]
    },
    {
      "cell_type": "code",
      "source": [
        "df.info()"
      ],
      "metadata": {
        "id": "K6xaX8qS7nj9",
        "colab": {
          "base_uri": "https://localhost:8080/"
        },
        "outputId": "65d872bf-4c80-42e6-c327-be2423b07f0c"
      },
      "execution_count": null,
      "outputs": [
        {
          "output_type": "stream",
          "name": "stdout",
          "text": [
            "<class 'pandas.core.frame.DataFrame'>\n",
            "RangeIndex: 507 entries, 0 to 506\n",
            "Data columns (total 8 columns):\n",
            " #   Column                         Non-Null Count  Dtype         \n",
            "---  ------                         --------------  -----         \n",
            " 0   data                           507 non-null    datetime64[ns]\n",
            " 1   valorVendas_mercadoInterno     507 non-null    int64         \n",
            " 2   Producao_Autoveiculos_total    363 non-null    float64       \n",
            " 3   valorVendas_autoveiculosTotal  507 non-null    int64         \n",
            " 4   valorVendas_concesTotal        399 non-null    float64       \n",
            " 5   valorVendas_ConcesComerciais   399 non-null    float64       \n",
            " 6   Producao_Automoveis            363 non-null    float64       \n",
            " 7   ano                            507 non-null    int64         \n",
            "dtypes: datetime64[ns](1), float64(4), int64(3)\n",
            "memory usage: 31.8 KB\n"
          ]
        }
      ]
    },
    {
      "cell_type": "code",
      "source": [
        "ft2018 = df.ano >= 2018"
      ],
      "metadata": {
        "id": "bWivPfUYsZiY"
      },
      "execution_count": null,
      "outputs": []
    },
    {
      "cell_type": "code",
      "source": [
        "\"\"\"\n",
        "Recebendo o filtro para pegar os dados somente a partir de 2018, pois todas as análises\n",
        "serão realizadas a partir deste ano\n",
        "\"\"\"\n",
        "df = df.loc[ft2018].copy()"
      ],
      "metadata": {
        "id": "BwTKr0XjtFD7"
      },
      "execution_count": null,
      "outputs": []
    },
    {
      "cell_type": "code",
      "source": [
        "df"
      ],
      "metadata": {
        "id": "XG50GG3tU7Ve",
        "colab": {
          "base_uri": "https://localhost:8080/",
          "height": 661
        },
        "outputId": "0a4fc545-45d2-4eb4-b113-998f8a958053"
      },
      "execution_count": null,
      "outputs": [
        {
          "output_type": "execute_result",
          "data": {
            "text/plain": [
              "          data  valorVendas_mercadoInterno  Producao_Autoveiculos_total  \\\n",
              "444 2018-01-01                      160277                     219217.0   \n",
              "445 2018-02-01                      138510                     213498.0   \n",
              "446 2018-03-01                      182935                     267539.0   \n",
              "447 2018-04-01                      190515                     266549.0   \n",
              "448 2018-05-01                      175634                     212329.0   \n",
              "..         ...                         ...                          ...   \n",
              "502 2022-11-01                      174009                     215796.0   \n",
              "503 2022-12-01                      187179                     191567.0   \n",
              "504 2023-01-01                      122410                     152666.0   \n",
              "505 2023-02-01                      112446                     161181.0   \n",
              "506 2023-03-01                      171427                     221835.0   \n",
              "\n",
              "     valorVendas_autoveiculosTotal  valorVendas_concesTotal  \\\n",
              "444                         206675                 181245.0   \n",
              "445                         204831                 156880.0   \n",
              "446                         250423                 207353.0   \n",
              "447                         263490                 217322.0   \n",
              "448                         236388                 201870.0   \n",
              "..                             ...                      ...   \n",
              "502                         217446                 203998.0   \n",
              "503                         218387                 216909.0   \n",
              "504                         155458                 142826.0   \n",
              "505                         146759                 129900.0   \n",
              "506                         216090                 198909.0   \n",
              "\n",
              "     valorVendas_ConcesComerciais  Producao_Automoveis   ano  \n",
              "444                      181245.0             210565.0  2018  \n",
              "445                      156880.0             203610.0  2018  \n",
              "446                      207353.0             254759.0  2018  \n",
              "447                      217322.0             254154.0  2018  \n",
              "448                      201870.0             203081.0  2018  \n",
              "..                            ...                  ...   ...  \n",
              "502                      203998.0             197706.0  2022  \n",
              "503                      216909.0             175095.0  2022  \n",
              "504                      142826.0             147835.0  2023  \n",
              "505                      129900.0             151783.0  2023  \n",
              "506                      198909.0             207552.0  2023  \n",
              "\n",
              "[63 rows x 8 columns]"
            ],
            "text/html": [
              "\n",
              "  <div id=\"df-1336529d-4e51-4668-b43f-8f22c094fb40\">\n",
              "    <div class=\"colab-df-container\">\n",
              "      <div>\n",
              "<style scoped>\n",
              "    .dataframe tbody tr th:only-of-type {\n",
              "        vertical-align: middle;\n",
              "    }\n",
              "\n",
              "    .dataframe tbody tr th {\n",
              "        vertical-align: top;\n",
              "    }\n",
              "\n",
              "    .dataframe thead th {\n",
              "        text-align: right;\n",
              "    }\n",
              "</style>\n",
              "<table border=\"1\" class=\"dataframe\">\n",
              "  <thead>\n",
              "    <tr style=\"text-align: right;\">\n",
              "      <th></th>\n",
              "      <th>data</th>\n",
              "      <th>valorVendas_mercadoInterno</th>\n",
              "      <th>Producao_Autoveiculos_total</th>\n",
              "      <th>valorVendas_autoveiculosTotal</th>\n",
              "      <th>valorVendas_concesTotal</th>\n",
              "      <th>valorVendas_ConcesComerciais</th>\n",
              "      <th>Producao_Automoveis</th>\n",
              "      <th>ano</th>\n",
              "    </tr>\n",
              "  </thead>\n",
              "  <tbody>\n",
              "    <tr>\n",
              "      <th>444</th>\n",
              "      <td>2018-01-01</td>\n",
              "      <td>160277</td>\n",
              "      <td>219217.0</td>\n",
              "      <td>206675</td>\n",
              "      <td>181245.0</td>\n",
              "      <td>181245.0</td>\n",
              "      <td>210565.0</td>\n",
              "      <td>2018</td>\n",
              "    </tr>\n",
              "    <tr>\n",
              "      <th>445</th>\n",
              "      <td>2018-02-01</td>\n",
              "      <td>138510</td>\n",
              "      <td>213498.0</td>\n",
              "      <td>204831</td>\n",
              "      <td>156880.0</td>\n",
              "      <td>156880.0</td>\n",
              "      <td>203610.0</td>\n",
              "      <td>2018</td>\n",
              "    </tr>\n",
              "    <tr>\n",
              "      <th>446</th>\n",
              "      <td>2018-03-01</td>\n",
              "      <td>182935</td>\n",
              "      <td>267539.0</td>\n",
              "      <td>250423</td>\n",
              "      <td>207353.0</td>\n",
              "      <td>207353.0</td>\n",
              "      <td>254759.0</td>\n",
              "      <td>2018</td>\n",
              "    </tr>\n",
              "    <tr>\n",
              "      <th>447</th>\n",
              "      <td>2018-04-01</td>\n",
              "      <td>190515</td>\n",
              "      <td>266549.0</td>\n",
              "      <td>263490</td>\n",
              "      <td>217322.0</td>\n",
              "      <td>217322.0</td>\n",
              "      <td>254154.0</td>\n",
              "      <td>2018</td>\n",
              "    </tr>\n",
              "    <tr>\n",
              "      <th>448</th>\n",
              "      <td>2018-05-01</td>\n",
              "      <td>175634</td>\n",
              "      <td>212329.0</td>\n",
              "      <td>236388</td>\n",
              "      <td>201870.0</td>\n",
              "      <td>201870.0</td>\n",
              "      <td>203081.0</td>\n",
              "      <td>2018</td>\n",
              "    </tr>\n",
              "    <tr>\n",
              "      <th>...</th>\n",
              "      <td>...</td>\n",
              "      <td>...</td>\n",
              "      <td>...</td>\n",
              "      <td>...</td>\n",
              "      <td>...</td>\n",
              "      <td>...</td>\n",
              "      <td>...</td>\n",
              "      <td>...</td>\n",
              "    </tr>\n",
              "    <tr>\n",
              "      <th>502</th>\n",
              "      <td>2022-11-01</td>\n",
              "      <td>174009</td>\n",
              "      <td>215796.0</td>\n",
              "      <td>217446</td>\n",
              "      <td>203998.0</td>\n",
              "      <td>203998.0</td>\n",
              "      <td>197706.0</td>\n",
              "      <td>2022</td>\n",
              "    </tr>\n",
              "    <tr>\n",
              "      <th>503</th>\n",
              "      <td>2022-12-01</td>\n",
              "      <td>187179</td>\n",
              "      <td>191567.0</td>\n",
              "      <td>218387</td>\n",
              "      <td>216909.0</td>\n",
              "      <td>216909.0</td>\n",
              "      <td>175095.0</td>\n",
              "      <td>2022</td>\n",
              "    </tr>\n",
              "    <tr>\n",
              "      <th>504</th>\n",
              "      <td>2023-01-01</td>\n",
              "      <td>122410</td>\n",
              "      <td>152666.0</td>\n",
              "      <td>155458</td>\n",
              "      <td>142826.0</td>\n",
              "      <td>142826.0</td>\n",
              "      <td>147835.0</td>\n",
              "      <td>2023</td>\n",
              "    </tr>\n",
              "    <tr>\n",
              "      <th>505</th>\n",
              "      <td>2023-02-01</td>\n",
              "      <td>112446</td>\n",
              "      <td>161181.0</td>\n",
              "      <td>146759</td>\n",
              "      <td>129900.0</td>\n",
              "      <td>129900.0</td>\n",
              "      <td>151783.0</td>\n",
              "      <td>2023</td>\n",
              "    </tr>\n",
              "    <tr>\n",
              "      <th>506</th>\n",
              "      <td>2023-03-01</td>\n",
              "      <td>171427</td>\n",
              "      <td>221835.0</td>\n",
              "      <td>216090</td>\n",
              "      <td>198909.0</td>\n",
              "      <td>198909.0</td>\n",
              "      <td>207552.0</td>\n",
              "      <td>2023</td>\n",
              "    </tr>\n",
              "  </tbody>\n",
              "</table>\n",
              "<p>63 rows × 8 columns</p>\n",
              "</div>\n",
              "      <button class=\"colab-df-convert\" onclick=\"convertToInteractive('df-1336529d-4e51-4668-b43f-8f22c094fb40')\"\n",
              "              title=\"Convert this dataframe to an interactive table.\"\n",
              "              style=\"display:none;\">\n",
              "        \n",
              "  <svg xmlns=\"http://www.w3.org/2000/svg\" height=\"24px\"viewBox=\"0 0 24 24\"\n",
              "       width=\"24px\">\n",
              "    <path d=\"M0 0h24v24H0V0z\" fill=\"none\"/>\n",
              "    <path d=\"M18.56 5.44l.94 2.06.94-2.06 2.06-.94-2.06-.94-.94-2.06-.94 2.06-2.06.94zm-11 1L8.5 8.5l.94-2.06 2.06-.94-2.06-.94L8.5 2.5l-.94 2.06-2.06.94zm10 10l.94 2.06.94-2.06 2.06-.94-2.06-.94-.94-2.06-.94 2.06-2.06.94z\"/><path d=\"M17.41 7.96l-1.37-1.37c-.4-.4-.92-.59-1.43-.59-.52 0-1.04.2-1.43.59L10.3 9.45l-7.72 7.72c-.78.78-.78 2.05 0 2.83L4 21.41c.39.39.9.59 1.41.59.51 0 1.02-.2 1.41-.59l7.78-7.78 2.81-2.81c.8-.78.8-2.07 0-2.86zM5.41 20L4 18.59l7.72-7.72 1.47 1.35L5.41 20z\"/>\n",
              "  </svg>\n",
              "      </button>\n",
              "      \n",
              "  <style>\n",
              "    .colab-df-container {\n",
              "      display:flex;\n",
              "      flex-wrap:wrap;\n",
              "      gap: 12px;\n",
              "    }\n",
              "\n",
              "    .colab-df-convert {\n",
              "      background-color: #E8F0FE;\n",
              "      border: none;\n",
              "      border-radius: 50%;\n",
              "      cursor: pointer;\n",
              "      display: none;\n",
              "      fill: #1967D2;\n",
              "      height: 32px;\n",
              "      padding: 0 0 0 0;\n",
              "      width: 32px;\n",
              "    }\n",
              "\n",
              "    .colab-df-convert:hover {\n",
              "      background-color: #E2EBFA;\n",
              "      box-shadow: 0px 1px 2px rgba(60, 64, 67, 0.3), 0px 1px 3px 1px rgba(60, 64, 67, 0.15);\n",
              "      fill: #174EA6;\n",
              "    }\n",
              "\n",
              "    [theme=dark] .colab-df-convert {\n",
              "      background-color: #3B4455;\n",
              "      fill: #D2E3FC;\n",
              "    }\n",
              "\n",
              "    [theme=dark] .colab-df-convert:hover {\n",
              "      background-color: #434B5C;\n",
              "      box-shadow: 0px 1px 3px 1px rgba(0, 0, 0, 0.15);\n",
              "      filter: drop-shadow(0px 1px 2px rgba(0, 0, 0, 0.3));\n",
              "      fill: #FFFFFF;\n",
              "    }\n",
              "  </style>\n",
              "\n",
              "      <script>\n",
              "        const buttonEl =\n",
              "          document.querySelector('#df-1336529d-4e51-4668-b43f-8f22c094fb40 button.colab-df-convert');\n",
              "        buttonEl.style.display =\n",
              "          google.colab.kernel.accessAllowed ? 'block' : 'none';\n",
              "\n",
              "        async function convertToInteractive(key) {\n",
              "          const element = document.querySelector('#df-1336529d-4e51-4668-b43f-8f22c094fb40');\n",
              "          const dataTable =\n",
              "            await google.colab.kernel.invokeFunction('convertToInteractive',\n",
              "                                                     [key], {});\n",
              "          if (!dataTable) return;\n",
              "\n",
              "          const docLinkHtml = 'Like what you see? Visit the ' +\n",
              "            '<a target=\"_blank\" href=https://colab.research.google.com/notebooks/data_table.ipynb>data table notebook</a>'\n",
              "            + ' to learn more about interactive tables.';\n",
              "          element.innerHTML = '';\n",
              "          dataTable['output_type'] = 'display_data';\n",
              "          await google.colab.output.renderOutput(dataTable, element);\n",
              "          const docLink = document.createElement('div');\n",
              "          docLink.innerHTML = docLinkHtml;\n",
              "          element.appendChild(docLink);\n",
              "        }\n",
              "      </script>\n",
              "    </div>\n",
              "  </div>\n",
              "  "
            ]
          },
          "metadata": {},
          "execution_count": 19
        }
      ]
    },
    {
      "cell_type": "code",
      "source": [
        "df[\"ano\"].unique()"
      ],
      "metadata": {
        "id": "QcP-5Ubo8Srv",
        "colab": {
          "base_uri": "https://localhost:8080/"
        },
        "outputId": "8f88154d-ff85-4002-ccef-6019c229f4f8"
      },
      "execution_count": null,
      "outputs": [
        {
          "output_type": "execute_result",
          "data": {
            "text/plain": [
              "array([2018, 2019, 2020, 2021, 2022, 2023])"
            ]
          },
          "metadata": {},
          "execution_count": 20
        }
      ]
    },
    {
      "cell_type": "code",
      "source": [
        "df.isnull().sum()"
      ],
      "metadata": {
        "colab": {
          "base_uri": "https://localhost:8080/"
        },
        "id": "HE6Qcac7ZB6-",
        "outputId": "9e7cd78b-7637-41c0-f198-62e3c7d5e233"
      },
      "execution_count": null,
      "outputs": [
        {
          "output_type": "execute_result",
          "data": {
            "text/plain": [
              "data                             0\n",
              "valorVendas_mercadoInterno       0\n",
              "Producao_Autoveiculos_total      0\n",
              "valorVendas_autoveiculosTotal    0\n",
              "valorVendas_concesTotal          0\n",
              "valorVendas_ConcesComerciais     0\n",
              "Producao_Automoveis              0\n",
              "ano                              0\n",
              "dtype: int64"
            ]
          },
          "metadata": {},
          "execution_count": 21
        }
      ]
    },
    {
      "cell_type": "code",
      "source": [
        "# DROP DOS DADOS NULOS, VISTO QUE POSSUEM UMA QUANTIDADE PEQUENA EM RELAÇÃO AO TODO\n",
        "df = df.dropna()"
      ],
      "metadata": {
        "id": "h-pqpHfxGnFS"
      },
      "execution_count": null,
      "outputs": []
    },
    {
      "cell_type": "code",
      "source": [
        "df.isnull().sum()"
      ],
      "metadata": {
        "id": "nuBne2WaHE0Y",
        "colab": {
          "base_uri": "https://localhost:8080/"
        },
        "outputId": "08fa556c-0b03-43bb-88cd-1520e71ec122"
      },
      "execution_count": null,
      "outputs": [
        {
          "output_type": "execute_result",
          "data": {
            "text/plain": [
              "data                             0\n",
              "valorVendas_mercadoInterno       0\n",
              "Producao_Autoveiculos_total      0\n",
              "valorVendas_autoveiculosTotal    0\n",
              "valorVendas_concesTotal          0\n",
              "valorVendas_ConcesComerciais     0\n",
              "Producao_Automoveis              0\n",
              "ano                              0\n",
              "dtype: int64"
            ]
          },
          "metadata": {},
          "execution_count": 23
        }
      ]
    },
    {
      "cell_type": "code",
      "source": [
        "df.info()"
      ],
      "metadata": {
        "id": "-ryMH6b9IuNZ",
        "colab": {
          "base_uri": "https://localhost:8080/"
        },
        "outputId": "966cf3b0-385a-421d-f2b6-48bef45bd80a"
      },
      "execution_count": null,
      "outputs": [
        {
          "output_type": "stream",
          "name": "stdout",
          "text": [
            "<class 'pandas.core.frame.DataFrame'>\n",
            "Int64Index: 63 entries, 444 to 506\n",
            "Data columns (total 8 columns):\n",
            " #   Column                         Non-Null Count  Dtype         \n",
            "---  ------                         --------------  -----         \n",
            " 0   data                           63 non-null     datetime64[ns]\n",
            " 1   valorVendas_mercadoInterno     63 non-null     int64         \n",
            " 2   Producao_Autoveiculos_total    63 non-null     float64       \n",
            " 3   valorVendas_autoveiculosTotal  63 non-null     int64         \n",
            " 4   valorVendas_concesTotal        63 non-null     float64       \n",
            " 5   valorVendas_ConcesComerciais   63 non-null     float64       \n",
            " 6   Producao_Automoveis            63 non-null     float64       \n",
            " 7   ano                            63 non-null     int64         \n",
            "dtypes: datetime64[ns](1), float64(4), int64(3)\n",
            "memory usage: 4.4 KB\n"
          ]
        }
      ]
    },
    {
      "cell_type": "code",
      "source": [
        "df['mes'] = df.data.dt.month"
      ],
      "metadata": {
        "id": "6k23-gMhVjja"
      },
      "execution_count": null,
      "outputs": []
    },
    {
      "cell_type": "code",
      "source": [
        "df"
      ],
      "metadata": {
        "colab": {
          "base_uri": "https://localhost:8080/",
          "height": 661
        },
        "id": "j-3kFJFBV--W",
        "outputId": "18b9868b-3379-4be4-ec7e-6ee53fd08ef4"
      },
      "execution_count": null,
      "outputs": [
        {
          "output_type": "execute_result",
          "data": {
            "text/plain": [
              "          data  valorVendas_mercadoInterno  Producao_Autoveiculos_total  \\\n",
              "444 2018-01-01                      160277                     219217.0   \n",
              "445 2018-02-01                      138510                     213498.0   \n",
              "446 2018-03-01                      182935                     267539.0   \n",
              "447 2018-04-01                      190515                     266549.0   \n",
              "448 2018-05-01                      175634                     212329.0   \n",
              "..         ...                         ...                          ...   \n",
              "502 2022-11-01                      174009                     215796.0   \n",
              "503 2022-12-01                      187179                     191567.0   \n",
              "504 2023-01-01                      122410                     152666.0   \n",
              "505 2023-02-01                      112446                     161181.0   \n",
              "506 2023-03-01                      171427                     221835.0   \n",
              "\n",
              "     valorVendas_autoveiculosTotal  valorVendas_concesTotal  \\\n",
              "444                         206675                 181245.0   \n",
              "445                         204831                 156880.0   \n",
              "446                         250423                 207353.0   \n",
              "447                         263490                 217322.0   \n",
              "448                         236388                 201870.0   \n",
              "..                             ...                      ...   \n",
              "502                         217446                 203998.0   \n",
              "503                         218387                 216909.0   \n",
              "504                         155458                 142826.0   \n",
              "505                         146759                 129900.0   \n",
              "506                         216090                 198909.0   \n",
              "\n",
              "     valorVendas_ConcesComerciais  Producao_Automoveis   ano  mes  \n",
              "444                      181245.0             210565.0  2018    1  \n",
              "445                      156880.0             203610.0  2018    2  \n",
              "446                      207353.0             254759.0  2018    3  \n",
              "447                      217322.0             254154.0  2018    4  \n",
              "448                      201870.0             203081.0  2018    5  \n",
              "..                            ...                  ...   ...  ...  \n",
              "502                      203998.0             197706.0  2022   11  \n",
              "503                      216909.0             175095.0  2022   12  \n",
              "504                      142826.0             147835.0  2023    1  \n",
              "505                      129900.0             151783.0  2023    2  \n",
              "506                      198909.0             207552.0  2023    3  \n",
              "\n",
              "[63 rows x 9 columns]"
            ],
            "text/html": [
              "\n",
              "  <div id=\"df-66439293-6e43-49fe-8e07-27ef1f507bca\">\n",
              "    <div class=\"colab-df-container\">\n",
              "      <div>\n",
              "<style scoped>\n",
              "    .dataframe tbody tr th:only-of-type {\n",
              "        vertical-align: middle;\n",
              "    }\n",
              "\n",
              "    .dataframe tbody tr th {\n",
              "        vertical-align: top;\n",
              "    }\n",
              "\n",
              "    .dataframe thead th {\n",
              "        text-align: right;\n",
              "    }\n",
              "</style>\n",
              "<table border=\"1\" class=\"dataframe\">\n",
              "  <thead>\n",
              "    <tr style=\"text-align: right;\">\n",
              "      <th></th>\n",
              "      <th>data</th>\n",
              "      <th>valorVendas_mercadoInterno</th>\n",
              "      <th>Producao_Autoveiculos_total</th>\n",
              "      <th>valorVendas_autoveiculosTotal</th>\n",
              "      <th>valorVendas_concesTotal</th>\n",
              "      <th>valorVendas_ConcesComerciais</th>\n",
              "      <th>Producao_Automoveis</th>\n",
              "      <th>ano</th>\n",
              "      <th>mes</th>\n",
              "    </tr>\n",
              "  </thead>\n",
              "  <tbody>\n",
              "    <tr>\n",
              "      <th>444</th>\n",
              "      <td>2018-01-01</td>\n",
              "      <td>160277</td>\n",
              "      <td>219217.0</td>\n",
              "      <td>206675</td>\n",
              "      <td>181245.0</td>\n",
              "      <td>181245.0</td>\n",
              "      <td>210565.0</td>\n",
              "      <td>2018</td>\n",
              "      <td>1</td>\n",
              "    </tr>\n",
              "    <tr>\n",
              "      <th>445</th>\n",
              "      <td>2018-02-01</td>\n",
              "      <td>138510</td>\n",
              "      <td>213498.0</td>\n",
              "      <td>204831</td>\n",
              "      <td>156880.0</td>\n",
              "      <td>156880.0</td>\n",
              "      <td>203610.0</td>\n",
              "      <td>2018</td>\n",
              "      <td>2</td>\n",
              "    </tr>\n",
              "    <tr>\n",
              "      <th>446</th>\n",
              "      <td>2018-03-01</td>\n",
              "      <td>182935</td>\n",
              "      <td>267539.0</td>\n",
              "      <td>250423</td>\n",
              "      <td>207353.0</td>\n",
              "      <td>207353.0</td>\n",
              "      <td>254759.0</td>\n",
              "      <td>2018</td>\n",
              "      <td>3</td>\n",
              "    </tr>\n",
              "    <tr>\n",
              "      <th>447</th>\n",
              "      <td>2018-04-01</td>\n",
              "      <td>190515</td>\n",
              "      <td>266549.0</td>\n",
              "      <td>263490</td>\n",
              "      <td>217322.0</td>\n",
              "      <td>217322.0</td>\n",
              "      <td>254154.0</td>\n",
              "      <td>2018</td>\n",
              "      <td>4</td>\n",
              "    </tr>\n",
              "    <tr>\n",
              "      <th>448</th>\n",
              "      <td>2018-05-01</td>\n",
              "      <td>175634</td>\n",
              "      <td>212329.0</td>\n",
              "      <td>236388</td>\n",
              "      <td>201870.0</td>\n",
              "      <td>201870.0</td>\n",
              "      <td>203081.0</td>\n",
              "      <td>2018</td>\n",
              "      <td>5</td>\n",
              "    </tr>\n",
              "    <tr>\n",
              "      <th>...</th>\n",
              "      <td>...</td>\n",
              "      <td>...</td>\n",
              "      <td>...</td>\n",
              "      <td>...</td>\n",
              "      <td>...</td>\n",
              "      <td>...</td>\n",
              "      <td>...</td>\n",
              "      <td>...</td>\n",
              "      <td>...</td>\n",
              "    </tr>\n",
              "    <tr>\n",
              "      <th>502</th>\n",
              "      <td>2022-11-01</td>\n",
              "      <td>174009</td>\n",
              "      <td>215796.0</td>\n",
              "      <td>217446</td>\n",
              "      <td>203998.0</td>\n",
              "      <td>203998.0</td>\n",
              "      <td>197706.0</td>\n",
              "      <td>2022</td>\n",
              "      <td>11</td>\n",
              "    </tr>\n",
              "    <tr>\n",
              "      <th>503</th>\n",
              "      <td>2022-12-01</td>\n",
              "      <td>187179</td>\n",
              "      <td>191567.0</td>\n",
              "      <td>218387</td>\n",
              "      <td>216909.0</td>\n",
              "      <td>216909.0</td>\n",
              "      <td>175095.0</td>\n",
              "      <td>2022</td>\n",
              "      <td>12</td>\n",
              "    </tr>\n",
              "    <tr>\n",
              "      <th>504</th>\n",
              "      <td>2023-01-01</td>\n",
              "      <td>122410</td>\n",
              "      <td>152666.0</td>\n",
              "      <td>155458</td>\n",
              "      <td>142826.0</td>\n",
              "      <td>142826.0</td>\n",
              "      <td>147835.0</td>\n",
              "      <td>2023</td>\n",
              "      <td>1</td>\n",
              "    </tr>\n",
              "    <tr>\n",
              "      <th>505</th>\n",
              "      <td>2023-02-01</td>\n",
              "      <td>112446</td>\n",
              "      <td>161181.0</td>\n",
              "      <td>146759</td>\n",
              "      <td>129900.0</td>\n",
              "      <td>129900.0</td>\n",
              "      <td>151783.0</td>\n",
              "      <td>2023</td>\n",
              "      <td>2</td>\n",
              "    </tr>\n",
              "    <tr>\n",
              "      <th>506</th>\n",
              "      <td>2023-03-01</td>\n",
              "      <td>171427</td>\n",
              "      <td>221835.0</td>\n",
              "      <td>216090</td>\n",
              "      <td>198909.0</td>\n",
              "      <td>198909.0</td>\n",
              "      <td>207552.0</td>\n",
              "      <td>2023</td>\n",
              "      <td>3</td>\n",
              "    </tr>\n",
              "  </tbody>\n",
              "</table>\n",
              "<p>63 rows × 9 columns</p>\n",
              "</div>\n",
              "      <button class=\"colab-df-convert\" onclick=\"convertToInteractive('df-66439293-6e43-49fe-8e07-27ef1f507bca')\"\n",
              "              title=\"Convert this dataframe to an interactive table.\"\n",
              "              style=\"display:none;\">\n",
              "        \n",
              "  <svg xmlns=\"http://www.w3.org/2000/svg\" height=\"24px\"viewBox=\"0 0 24 24\"\n",
              "       width=\"24px\">\n",
              "    <path d=\"M0 0h24v24H0V0z\" fill=\"none\"/>\n",
              "    <path d=\"M18.56 5.44l.94 2.06.94-2.06 2.06-.94-2.06-.94-.94-2.06-.94 2.06-2.06.94zm-11 1L8.5 8.5l.94-2.06 2.06-.94-2.06-.94L8.5 2.5l-.94 2.06-2.06.94zm10 10l.94 2.06.94-2.06 2.06-.94-2.06-.94-.94-2.06-.94 2.06-2.06.94z\"/><path d=\"M17.41 7.96l-1.37-1.37c-.4-.4-.92-.59-1.43-.59-.52 0-1.04.2-1.43.59L10.3 9.45l-7.72 7.72c-.78.78-.78 2.05 0 2.83L4 21.41c.39.39.9.59 1.41.59.51 0 1.02-.2 1.41-.59l7.78-7.78 2.81-2.81c.8-.78.8-2.07 0-2.86zM5.41 20L4 18.59l7.72-7.72 1.47 1.35L5.41 20z\"/>\n",
              "  </svg>\n",
              "      </button>\n",
              "      \n",
              "  <style>\n",
              "    .colab-df-container {\n",
              "      display:flex;\n",
              "      flex-wrap:wrap;\n",
              "      gap: 12px;\n",
              "    }\n",
              "\n",
              "    .colab-df-convert {\n",
              "      background-color: #E8F0FE;\n",
              "      border: none;\n",
              "      border-radius: 50%;\n",
              "      cursor: pointer;\n",
              "      display: none;\n",
              "      fill: #1967D2;\n",
              "      height: 32px;\n",
              "      padding: 0 0 0 0;\n",
              "      width: 32px;\n",
              "    }\n",
              "\n",
              "    .colab-df-convert:hover {\n",
              "      background-color: #E2EBFA;\n",
              "      box-shadow: 0px 1px 2px rgba(60, 64, 67, 0.3), 0px 1px 3px 1px rgba(60, 64, 67, 0.15);\n",
              "      fill: #174EA6;\n",
              "    }\n",
              "\n",
              "    [theme=dark] .colab-df-convert {\n",
              "      background-color: #3B4455;\n",
              "      fill: #D2E3FC;\n",
              "    }\n",
              "\n",
              "    [theme=dark] .colab-df-convert:hover {\n",
              "      background-color: #434B5C;\n",
              "      box-shadow: 0px 1px 3px 1px rgba(0, 0, 0, 0.15);\n",
              "      filter: drop-shadow(0px 1px 2px rgba(0, 0, 0, 0.3));\n",
              "      fill: #FFFFFF;\n",
              "    }\n",
              "  </style>\n",
              "\n",
              "      <script>\n",
              "        const buttonEl =\n",
              "          document.querySelector('#df-66439293-6e43-49fe-8e07-27ef1f507bca button.colab-df-convert');\n",
              "        buttonEl.style.display =\n",
              "          google.colab.kernel.accessAllowed ? 'block' : 'none';\n",
              "\n",
              "        async function convertToInteractive(key) {\n",
              "          const element = document.querySelector('#df-66439293-6e43-49fe-8e07-27ef1f507bca');\n",
              "          const dataTable =\n",
              "            await google.colab.kernel.invokeFunction('convertToInteractive',\n",
              "                                                     [key], {});\n",
              "          if (!dataTable) return;\n",
              "\n",
              "          const docLinkHtml = 'Like what you see? Visit the ' +\n",
              "            '<a target=\"_blank\" href=https://colab.research.google.com/notebooks/data_table.ipynb>data table notebook</a>'\n",
              "            + ' to learn more about interactive tables.';\n",
              "          element.innerHTML = '';\n",
              "          dataTable['output_type'] = 'display_data';\n",
              "          await google.colab.output.renderOutput(dataTable, element);\n",
              "          const docLink = document.createElement('div');\n",
              "          docLink.innerHTML = docLinkHtml;\n",
              "          element.appendChild(docLink);\n",
              "        }\n",
              "      </script>\n",
              "    </div>\n",
              "  </div>\n",
              "  "
            ]
          },
          "metadata": {},
          "execution_count": 26
        }
      ]
    },
    {
      "cell_type": "code",
      "source": [
        "#Drop da coluna data, pois já não é mais util, visto que todos os dias se repetem\n",
        "#e as informações de ano e mês já foram extraídas\n",
        "df.drop(['data'], axis=1,inplace=True)"
      ],
      "metadata": {
        "id": "pJkQhmOYWrC7"
      },
      "execution_count": null,
      "outputs": []
    },
    {
      "cell_type": "code",
      "source": [
        "'''\n",
        "Após a analise dos dados, percebemos que a coluna referente as vendas de\n",
        "mercado interno não será útil a nível de comparação aos outros dados\n",
        "de outros dataset, por isso optamos por apagar a coluna\n",
        "'''\n",
        "df.drop(['valorVendas_mercadoInterno'], axis=1,inplace=True)"
      ],
      "metadata": {
        "id": "mwTIzISAFU_H"
      },
      "execution_count": null,
      "outputs": []
    },
    {
      "cell_type": "code",
      "source": [
        "'''\n",
        "colunas valorVendas_concesTotal e valorVendas_ConcesComerciais possuem valores\n",
        "duplicados, por isso optamos por apagar a coluna valorVendas_ConcesComerciais\n",
        "'''\n",
        "df.drop(['valorVendas_ConcesComerciais'], axis=1,inplace=True)"
      ],
      "metadata": {
        "id": "hjv-gbR5GAsE"
      },
      "execution_count": null,
      "outputs": []
    },
    {
      "cell_type": "code",
      "source": [
        "'''\n",
        "A coluna Producao_Automoveis se refere a quantidade de veículos comerciais\n",
        "leves produzidos, após realizar as analises correlacionando aos outros datasets\n",
        "percebemos que este valor não será útil a nível de comparação aos outros dados\n",
        "de outros dataset, por isso optamos por apagar a coluna\n",
        "'''\n",
        "df.drop(['Producao_Automoveis'], axis=1,inplace=True)"
      ],
      "metadata": {
        "id": "7FHJWkOnGlTe"
      },
      "execution_count": null,
      "outputs": []
    },
    {
      "cell_type": "code",
      "source": [
        "df.columns"
      ],
      "metadata": {
        "colab": {
          "base_uri": "https://localhost:8080/"
        },
        "id": "T44T9I9wYA2A",
        "outputId": "67afea4b-b059-4de6-b18d-9efa20bd580b"
      },
      "execution_count": null,
      "outputs": [
        {
          "output_type": "execute_result",
          "data": {
            "text/plain": [
              "Index(['Producao_Autoveiculos_total', 'valorVendas_autoveiculosTotal',\n",
              "       'valorVendas_concesTotal', 'ano', 'mes'],\n",
              "      dtype='object')"
            ]
          },
          "metadata": {},
          "execution_count": 31
        }
      ]
    },
    {
      "cell_type": "code",
      "source": [
        "#renomeando para facilitar a compreensão das colunas\n",
        "df.rename(columns={'Producao_Autoveiculos_total' : 'Producao_veiculos_total',\n",
        "                   'valorVendas_autoveiculosTotal' : 'qtdVendas_veiculosTotal',\n",
        "                   'valorVendas_concesTotal' : 'qtdVendas_concesTotal'},inplace=True)"
      ],
      "metadata": {
        "id": "iOBDXOWoE5Ht"
      },
      "execution_count": null,
      "outputs": []
    },
    {
      "cell_type": "code",
      "source": [
        "df.columns"
      ],
      "metadata": {
        "colab": {
          "base_uri": "https://localhost:8080/"
        },
        "id": "BTpYvmQaJBGW",
        "outputId": "acc24b9c-5eee-4990-f206-4aca643d8227"
      },
      "execution_count": null,
      "outputs": [
        {
          "output_type": "execute_result",
          "data": {
            "text/plain": [
              "Index(['Producao_veiculos_total', 'qtdVendas_veiculosTotal',\n",
              "       'qtdVendas_concesTotal', 'ano', 'mes'],\n",
              "      dtype='object')"
            ]
          },
          "metadata": {},
          "execution_count": 33
        }
      ]
    },
    {
      "cell_type": "markdown",
      "source": [
        "#Criação do Schema#"
      ],
      "metadata": {
        "id": "57bqV0ITGBP9"
      }
    },
    {
      "cell_type": "code",
      "source": [
        "df.columns"
      ],
      "metadata": {
        "colab": {
          "base_uri": "https://localhost:8080/"
        },
        "id": "--G-MWkJRJMJ",
        "outputId": "b4ce5383-287b-4da5-9854-203aeecf53ee"
      },
      "execution_count": null,
      "outputs": [
        {
          "output_type": "execute_result",
          "data": {
            "text/plain": [
              "Index(['Producao_veiculos_total', 'qtdVendas_veiculosTotal',\n",
              "       'qtdVendas_concesTotal', 'ano', 'mes'],\n",
              "      dtype='object')"
            ]
          },
          "metadata": {},
          "execution_count": 35
        }
      ]
    },
    {
      "cell_type": "code",
      "source": [
        "df.dtypes"
      ],
      "metadata": {
        "colab": {
          "base_uri": "https://localhost:8080/"
        },
        "id": "6IFmzoHLGOo3",
        "outputId": "2d56c1b5-dbe0-4984-9f23-21a629b1c7ce"
      },
      "execution_count": null,
      "outputs": [
        {
          "output_type": "execute_result",
          "data": {
            "text/plain": [
              "Producao_veiculos_total    float64\n",
              "qtdVendas_veiculosTotal      int64\n",
              "qtdVendas_concesTotal      float64\n",
              "ano                          int64\n",
              "mes                          int64\n",
              "dtype: object"
            ]
          },
          "metadata": {},
          "execution_count": 36
        }
      ]
    },
    {
      "cell_type": "code",
      "source": [
        "schema = pa.DataFrameSchema(\n",
        "    columns = {\n",
        "        'Producao_veiculos_total':pa.Column(pa.Float64),\n",
        "        'qtdVendas_veiculosTotal':pa.Column(pa.Int64),\n",
        "        'qtdVendas_concesTotal':pa.Column(pa.Float64),\n",
        "        'ano':pa.Column(pa.Int64),\n",
        "        'mes':pa.Column(pa.Int64)\n",
        "    }\n",
        ")"
      ],
      "metadata": {
        "id": "bMJK7FULF_Zm"
      },
      "execution_count": null,
      "outputs": []
    },
    {
      "cell_type": "code",
      "source": [
        "schema.validate(df)"
      ],
      "metadata": {
        "colab": {
          "base_uri": "https://localhost:8080/",
          "height": 467
        },
        "id": "T1C2PJsNO-cj",
        "outputId": "4c2d1c63-a3e1-492d-d016-983c5a25261d"
      },
      "execution_count": null,
      "outputs": [
        {
          "output_type": "execute_result",
          "data": {
            "text/plain": [
              "     Producao_veiculos_total  qtdVendas_veiculosTotal  qtdVendas_concesTotal  \\\n",
              "444                 219217.0                   206675               181245.0   \n",
              "445                 213498.0                   204831               156880.0   \n",
              "446                 267539.0                   250423               207353.0   \n",
              "447                 266549.0                   263490               217322.0   \n",
              "448                 212329.0                   236388               201870.0   \n",
              "..                       ...                      ...                    ...   \n",
              "502                 215796.0                   217446               203998.0   \n",
              "503                 191567.0                   218387               216909.0   \n",
              "504                 152666.0                   155458               142826.0   \n",
              "505                 161181.0                   146759               129900.0   \n",
              "506                 221835.0                   216090               198909.0   \n",
              "\n",
              "      ano  mes  \n",
              "444  2018    1  \n",
              "445  2018    2  \n",
              "446  2018    3  \n",
              "447  2018    4  \n",
              "448  2018    5  \n",
              "..    ...  ...  \n",
              "502  2022   11  \n",
              "503  2022   12  \n",
              "504  2023    1  \n",
              "505  2023    2  \n",
              "506  2023    3  \n",
              "\n",
              "[63 rows x 5 columns]"
            ],
            "text/html": [
              "\n",
              "  <div id=\"df-101464ce-400d-4bc7-9460-f0fd7614f3d2\">\n",
              "    <div class=\"colab-df-container\">\n",
              "      <div>\n",
              "<style scoped>\n",
              "    .dataframe tbody tr th:only-of-type {\n",
              "        vertical-align: middle;\n",
              "    }\n",
              "\n",
              "    .dataframe tbody tr th {\n",
              "        vertical-align: top;\n",
              "    }\n",
              "\n",
              "    .dataframe thead th {\n",
              "        text-align: right;\n",
              "    }\n",
              "</style>\n",
              "<table border=\"1\" class=\"dataframe\">\n",
              "  <thead>\n",
              "    <tr style=\"text-align: right;\">\n",
              "      <th></th>\n",
              "      <th>Producao_veiculos_total</th>\n",
              "      <th>qtdVendas_veiculosTotal</th>\n",
              "      <th>qtdVendas_concesTotal</th>\n",
              "      <th>ano</th>\n",
              "      <th>mes</th>\n",
              "    </tr>\n",
              "  </thead>\n",
              "  <tbody>\n",
              "    <tr>\n",
              "      <th>444</th>\n",
              "      <td>219217.0</td>\n",
              "      <td>206675</td>\n",
              "      <td>181245.0</td>\n",
              "      <td>2018</td>\n",
              "      <td>1</td>\n",
              "    </tr>\n",
              "    <tr>\n",
              "      <th>445</th>\n",
              "      <td>213498.0</td>\n",
              "      <td>204831</td>\n",
              "      <td>156880.0</td>\n",
              "      <td>2018</td>\n",
              "      <td>2</td>\n",
              "    </tr>\n",
              "    <tr>\n",
              "      <th>446</th>\n",
              "      <td>267539.0</td>\n",
              "      <td>250423</td>\n",
              "      <td>207353.0</td>\n",
              "      <td>2018</td>\n",
              "      <td>3</td>\n",
              "    </tr>\n",
              "    <tr>\n",
              "      <th>447</th>\n",
              "      <td>266549.0</td>\n",
              "      <td>263490</td>\n",
              "      <td>217322.0</td>\n",
              "      <td>2018</td>\n",
              "      <td>4</td>\n",
              "    </tr>\n",
              "    <tr>\n",
              "      <th>448</th>\n",
              "      <td>212329.0</td>\n",
              "      <td>236388</td>\n",
              "      <td>201870.0</td>\n",
              "      <td>2018</td>\n",
              "      <td>5</td>\n",
              "    </tr>\n",
              "    <tr>\n",
              "      <th>...</th>\n",
              "      <td>...</td>\n",
              "      <td>...</td>\n",
              "      <td>...</td>\n",
              "      <td>...</td>\n",
              "      <td>...</td>\n",
              "    </tr>\n",
              "    <tr>\n",
              "      <th>502</th>\n",
              "      <td>215796.0</td>\n",
              "      <td>217446</td>\n",
              "      <td>203998.0</td>\n",
              "      <td>2022</td>\n",
              "      <td>11</td>\n",
              "    </tr>\n",
              "    <tr>\n",
              "      <th>503</th>\n",
              "      <td>191567.0</td>\n",
              "      <td>218387</td>\n",
              "      <td>216909.0</td>\n",
              "      <td>2022</td>\n",
              "      <td>12</td>\n",
              "    </tr>\n",
              "    <tr>\n",
              "      <th>504</th>\n",
              "      <td>152666.0</td>\n",
              "      <td>155458</td>\n",
              "      <td>142826.0</td>\n",
              "      <td>2023</td>\n",
              "      <td>1</td>\n",
              "    </tr>\n",
              "    <tr>\n",
              "      <th>505</th>\n",
              "      <td>161181.0</td>\n",
              "      <td>146759</td>\n",
              "      <td>129900.0</td>\n",
              "      <td>2023</td>\n",
              "      <td>2</td>\n",
              "    </tr>\n",
              "    <tr>\n",
              "      <th>506</th>\n",
              "      <td>221835.0</td>\n",
              "      <td>216090</td>\n",
              "      <td>198909.0</td>\n",
              "      <td>2023</td>\n",
              "      <td>3</td>\n",
              "    </tr>\n",
              "  </tbody>\n",
              "</table>\n",
              "<p>63 rows × 5 columns</p>\n",
              "</div>\n",
              "      <button class=\"colab-df-convert\" onclick=\"convertToInteractive('df-101464ce-400d-4bc7-9460-f0fd7614f3d2')\"\n",
              "              title=\"Convert this dataframe to an interactive table.\"\n",
              "              style=\"display:none;\">\n",
              "        \n",
              "  <svg xmlns=\"http://www.w3.org/2000/svg\" height=\"24px\"viewBox=\"0 0 24 24\"\n",
              "       width=\"24px\">\n",
              "    <path d=\"M0 0h24v24H0V0z\" fill=\"none\"/>\n",
              "    <path d=\"M18.56 5.44l.94 2.06.94-2.06 2.06-.94-2.06-.94-.94-2.06-.94 2.06-2.06.94zm-11 1L8.5 8.5l.94-2.06 2.06-.94-2.06-.94L8.5 2.5l-.94 2.06-2.06.94zm10 10l.94 2.06.94-2.06 2.06-.94-2.06-.94-.94-2.06-.94 2.06-2.06.94z\"/><path d=\"M17.41 7.96l-1.37-1.37c-.4-.4-.92-.59-1.43-.59-.52 0-1.04.2-1.43.59L10.3 9.45l-7.72 7.72c-.78.78-.78 2.05 0 2.83L4 21.41c.39.39.9.59 1.41.59.51 0 1.02-.2 1.41-.59l7.78-7.78 2.81-2.81c.8-.78.8-2.07 0-2.86zM5.41 20L4 18.59l7.72-7.72 1.47 1.35L5.41 20z\"/>\n",
              "  </svg>\n",
              "      </button>\n",
              "      \n",
              "  <style>\n",
              "    .colab-df-container {\n",
              "      display:flex;\n",
              "      flex-wrap:wrap;\n",
              "      gap: 12px;\n",
              "    }\n",
              "\n",
              "    .colab-df-convert {\n",
              "      background-color: #E8F0FE;\n",
              "      border: none;\n",
              "      border-radius: 50%;\n",
              "      cursor: pointer;\n",
              "      display: none;\n",
              "      fill: #1967D2;\n",
              "      height: 32px;\n",
              "      padding: 0 0 0 0;\n",
              "      width: 32px;\n",
              "    }\n",
              "\n",
              "    .colab-df-convert:hover {\n",
              "      background-color: #E2EBFA;\n",
              "      box-shadow: 0px 1px 2px rgba(60, 64, 67, 0.3), 0px 1px 3px 1px rgba(60, 64, 67, 0.15);\n",
              "      fill: #174EA6;\n",
              "    }\n",
              "\n",
              "    [theme=dark] .colab-df-convert {\n",
              "      background-color: #3B4455;\n",
              "      fill: #D2E3FC;\n",
              "    }\n",
              "\n",
              "    [theme=dark] .colab-df-convert:hover {\n",
              "      background-color: #434B5C;\n",
              "      box-shadow: 0px 1px 3px 1px rgba(0, 0, 0, 0.15);\n",
              "      filter: drop-shadow(0px 1px 2px rgba(0, 0, 0, 0.3));\n",
              "      fill: #FFFFFF;\n",
              "    }\n",
              "  </style>\n",
              "\n",
              "      <script>\n",
              "        const buttonEl =\n",
              "          document.querySelector('#df-101464ce-400d-4bc7-9460-f0fd7614f3d2 button.colab-df-convert');\n",
              "        buttonEl.style.display =\n",
              "          google.colab.kernel.accessAllowed ? 'block' : 'none';\n",
              "\n",
              "        async function convertToInteractive(key) {\n",
              "          const element = document.querySelector('#df-101464ce-400d-4bc7-9460-f0fd7614f3d2');\n",
              "          const dataTable =\n",
              "            await google.colab.kernel.invokeFunction('convertToInteractive',\n",
              "                                                     [key], {});\n",
              "          if (!dataTable) return;\n",
              "\n",
              "          const docLinkHtml = 'Like what you see? Visit the ' +\n",
              "            '<a target=\"_blank\" href=https://colab.research.google.com/notebooks/data_table.ipynb>data table notebook</a>'\n",
              "            + ' to learn more about interactive tables.';\n",
              "          element.innerHTML = '';\n",
              "          dataTable['output_type'] = 'display_data';\n",
              "          await google.colab.output.renderOutput(dataTable, element);\n",
              "          const docLink = document.createElement('div');\n",
              "          docLink.innerHTML = docLinkHtml;\n",
              "          element.appendChild(docLink);\n",
              "        }\n",
              "      </script>\n",
              "    </div>\n",
              "  </div>\n",
              "  "
            ]
          },
          "metadata": {},
          "execution_count": 38
        }
      ]
    },
    {
      "cell_type": "markdown",
      "source": [
        "##Plotagens"
      ],
      "metadata": {
        "id": "GrWUfRwFGzsW"
      }
    },
    {
      "cell_type": "code",
      "source": [],
      "metadata": {
        "id": "F8Qul5_AJh6D"
      },
      "execution_count": null,
      "outputs": []
    },
    {
      "cell_type": "code",
      "source": [
        "# TOTAL DE VENDAS POR ANO\n",
        "df.groupby(['ano'])['valorVendas_autoveiculosTotal'].sum().sort_values(ascending=True).plot.barh(figsize=(12,8),xlabel='VENDAS TOTAL',ylabel='ANO')"
      ],
      "metadata": {
        "id": "R-ngXH1IHaeq",
        "colab": {
          "base_uri": "https://localhost:8080/",
          "height": 539
        },
        "outputId": "14aa3cd0-3177-4cc2-d892-82aabff27fac"
      },
      "execution_count": null,
      "outputs": [
        {
          "output_type": "execute_result",
          "data": {
            "text/plain": [
              "<Axes: xlabel='VENDAS TOTAL', ylabel='ANO'>"
            ]
          },
          "metadata": {},
          "execution_count": 131
        },
        {
          "output_type": "display_data",
          "data": {
            "text/plain": [
              "<Figure size 1200x800 with 1 Axes>"
            ],
            "image/png": "[encoded data removed]"
          },
          "metadata": {}
        }
      ]
    },
    {
      "cell_type": "code",
      "source": [
        "# TOTAL PRODUZIDO POR ANO\n",
        "df.groupby(['ano'])['Producao_Autoveiculos_total'].sum().sort_values(ascending=False).plot.bar(figsize=(12,8),xlabel='ANO',ylabel='PRODUÇÃO TOTAL')"
      ],
      "metadata": {
        "id": "q6AZZnEgHwqS",
        "colab": {
          "base_uri": "https://localhost:8080/",
          "height": 572
        },
        "outputId": "93545083-3296-42cf-b1ec-0afec433c6b4"
      },
      "execution_count": null,
      "outputs": [
        {
          "output_type": "execute_result",
          "data": {
            "text/plain": [
              "<Axes: xlabel='ANO', ylabel='PRODUÇÃO TOTAL'>"
            ]
          },
          "metadata": {},
          "execution_count": 132
        },
        {
          "output_type": "display_data",
          "data": {
            "text/plain": [
              "<Figure size 1200x800 with 1 Axes>"
            ],
            "image/png": "[encoded data removed]"
          },
          "metadata": {}
        }
      ]
    },
    {
      "cell_type": "code",
      "source": [
        "#DISTRIBUIÇÃO DA PRODUÇÃO POR ANO\n",
        "\n",
        "boxplot = df.groupby(['Producao_Autoveiculos_total'])['ano'].sum().plot(kind='box',\n",
        "                                                        figsize=(12, 8),\n",
        "                                                        xlabel='',\n",
        "                                                        ylabel='ANO')"
      ],
      "metadata": {
        "id": "agNd6QfIKpQk",
        "colab": {
          "base_uri": "https://localhost:8080/",
          "height": 506
        },
        "outputId": "7afc19a3-b657-4f0e-b113-645623b123ab"
      },
      "execution_count": null,
      "outputs": [
        {
          "output_type": "display_data",
          "data": {
            "text/plain": [
              "<Figure size 1200x800 with 1 Axes>"
            ],
            "image/png": "[encoded data removed]"
          },
          "metadata": {}
        }
      ]
    },
    {
      "cell_type": "code",
      "source": [
        "plt.plot(df.index, df['valorVendas_autoveiculosTotal'], label='Produção',color = 'orange')\n",
        "plt.title('Vendas Anuais')\n",
        "plt.xlabel('Ano')\n",
        "plt.ylabel('Vendas')"
      ],
      "metadata": {
        "id": "auxkDECgSUQ9",
        "colab": {
          "base_uri": "https://localhost:8080/",
          "height": 490
        },
        "outputId": "a04ba26a-0c5e-4913-8581-b1857aae2aa2"
      },
      "execution_count": null,
      "outputs": [
        {
          "output_type": "execute_result",
          "data": {
            "text/plain": [
              "Text(0, 0.5, 'Vendas')"
            ]
          },
          "metadata": {},
          "execution_count": 134
        },
        {
          "output_type": "display_data",
          "data": {
            "text/plain": [
              "<Figure size 640x480 with 1 Axes>"
            ],
            "image/png": "[encoded data removed]"
          },
          "metadata": {}
        }
      ]
    },
    {
      "cell_type": "code",
      "source": [
        "plt.plot(df.index, df['Producao_Autoveiculos_total'], label='Produção')\n",
        "plt.title('Produção Anual')\n",
        "plt.xlabel('Ano')\n",
        "plt.ylabel('Produção')"
      ],
      "metadata": {
        "id": "fidK3QJdR_SY",
        "colab": {
          "base_uri": "https://localhost:8080/",
          "height": 490
        },
        "outputId": "0c9246e3-efe2-482a-90bb-54fcfe41ba78"
      },
      "execution_count": null,
      "outputs": [
        {
          "output_type": "execute_result",
          "data": {
            "text/plain": [
              "Text(0, 0.5, 'Produção')"
            ]
          },
          "metadata": {},
          "execution_count": 135
        },
        {
          "output_type": "display_data",
          "data": {
            "text/plain": [
              "<Figure size 640x480 with 1 Axes>"
            ],
            "image/png": "[encoded data removed]"
          },
          "metadata": {}
        }
      ]
    },
    {
      "cell_type": "code",
      "source": [
        "# Criando o gráfico de série temporal\n",
        "plt.plot(df.index, df['Producao_Autoveiculos_total'], label='Produção')\n",
        "plt.plot(df.index, df['valorVendas_autoveiculosTotal'], label='Vendas')\n",
        "\n",
        "# Configurando o estilo do gráfico\n",
        "plt.xlabel('Data')\n",
        "plt.ylabel('Valores')\n",
        "plt.title('Produção X Vendas')\n",
        "plt.legend()"
      ],
      "metadata": {
        "id": "ISHWVSlPRIjs",
        "colab": {
          "base_uri": "https://localhost:8080/",
          "height": 490
        },
        "outputId": "e37e6cff-19d1-49fe-f0a5-4c1bc84359bf"
      },
      "execution_count": null,
      "outputs": [
        {
          "output_type": "execute_result",
          "data": {
            "text/plain": [
              "<matplotlib.legend.Legend at 0x7f7594959db0>"
            ]
          },
          "metadata": {},
          "execution_count": 136
        },
        {
          "output_type": "display_data",
          "data": {
            "text/plain": [
              "<Figure size 640x480 with 1 Axes>"
            ],
            "image/png": "[encoded data removed]"
          },
          "metadata": {}
        }
      ]
    },
    {
      "cell_type": "markdown",
      "source": [
        "#Carregamento#"
      ],
      "metadata": {
        "id": "dtp4afs0AA32"
      }
    },
    {
      "cell_type": "code",
      "source": [
        "df.columns"
      ],
      "metadata": {
        "colab": {
          "base_uri": "https://localhost:8080/"
        },
        "id": "5V-kSpK7gpN0",
        "outputId": "435c28ba-1426-4da9-ca85-1ddf93faf5cf"
      },
      "execution_count": null,
      "outputs": [
        {
          "output_type": "execute_result",
          "data": {
            "text/plain": [
              "Index(['Producao_veiculos_total', 'qtdVendas_veiculosTotal',\n",
              "       'qtdVendas_concesTotal', 'ano', 'mes'],\n",
              "      dtype='object')"
            ]
          },
          "metadata": {},
          "execution_count": 34
        }
      ]
    },
    {
      "cell_type": "code",
      "source": [
        "df"
      ],
      "metadata": {
        "id": "uY37xpUXxWZL",
        "outputId": "191875ae-d42f-41e6-c16b-416b3ab71b6b",
        "colab": {
          "base_uri": "https://localhost:8080/",
          "height": 467
        }
      },
      "execution_count": null,
      "outputs": [
        {
          "output_type": "execute_result",
          "data": {
            "text/plain": [
              "     Producao_veiculos_total  qtdVendas_veiculosTotal  qtdVendas_concesTotal  \\\n",
              "444                 219217.0                   206675               181245.0   \n",
              "445                 213498.0                   204831               156880.0   \n",
              "446                 267539.0                   250423               207353.0   \n",
              "447                 266549.0                   263490               217322.0   \n",
              "448                 212329.0                   236388               201870.0   \n",
              "..                       ...                      ...                    ...   \n",
              "502                 215796.0                   217446               203998.0   \n",
              "503                 191567.0                   218387               216909.0   \n",
              "504                 152666.0                   155458               142826.0   \n",
              "505                 161181.0                   146759               129900.0   \n",
              "506                 221835.0                   216090               198909.0   \n",
              "\n",
              "      ano  mes  \n",
              "444  2018    1  \n",
              "445  2018    2  \n",
              "446  2018    3  \n",
              "447  2018    4  \n",
              "448  2018    5  \n",
              "..    ...  ...  \n",
              "502  2022   11  \n",
              "503  2022   12  \n",
              "504  2023    1  \n",
              "505  2023    2  \n",
              "506  2023    3  \n",
              "\n",
              "[63 rows x 5 columns]"
            ],
            "text/html": [
              "\n",
              "  <div id=\"df-e0abcc8f-4fb2-40dd-9c2e-891902e04b72\">\n",
              "    <div class=\"colab-df-container\">\n",
              "      <div>\n",
              "<style scoped>\n",
              "    .dataframe tbody tr th:only-of-type {\n",
              "        vertical-align: middle;\n",
              "    }\n",
              "\n",
              "    .dataframe tbody tr th {\n",
              "        vertical-align: top;\n",
              "    }\n",
              "\n",
              "    .dataframe thead th {\n",
              "        text-align: right;\n",
              "    }\n",
              "</style>\n",
              "<table border=\"1\" class=\"dataframe\">\n",
              "  <thead>\n",
              "    <tr style=\"text-align: right;\">\n",
              "      <th></th>\n",
              "      <th>Producao_veiculos_total</th>\n",
              "      <th>qtdVendas_veiculosTotal</th>\n",
              "      <th>qtdVendas_concesTotal</th>\n",
              "      <th>ano</th>\n",
              "      <th>mes</th>\n",
              "    </tr>\n",
              "  </thead>\n",
              "  <tbody>\n",
              "    <tr>\n",
              "      <th>444</th>\n",
              "      <td>219217.0</td>\n",
              "      <td>206675</td>\n",
              "      <td>181245.0</td>\n",
              "      <td>2018</td>\n",
              "      <td>1</td>\n",
              "    </tr>\n",
              "    <tr>\n",
              "      <th>445</th>\n",
              "      <td>213498.0</td>\n",
              "      <td>204831</td>\n",
              "      <td>156880.0</td>\n",
              "      <td>2018</td>\n",
              "      <td>2</td>\n",
              "    </tr>\n",
              "    <tr>\n",
              "      <th>446</th>\n",
              "      <td>267539.0</td>\n",
              "      <td>250423</td>\n",
              "      <td>207353.0</td>\n",
              "      <td>2018</td>\n",
              "      <td>3</td>\n",
              "    </tr>\n",
              "    <tr>\n",
              "      <th>447</th>\n",
              "      <td>266549.0</td>\n",
              "      <td>263490</td>\n",
              "      <td>217322.0</td>\n",
              "      <td>2018</td>\n",
              "      <td>4</td>\n",
              "    </tr>\n",
              "    <tr>\n",
              "      <th>448</th>\n",
              "      <td>212329.0</td>\n",
              "      <td>236388</td>\n",
              "      <td>201870.0</td>\n",
              "      <td>2018</td>\n",
              "      <td>5</td>\n",
              "    </tr>\n",
              "    <tr>\n",
              "      <th>...</th>\n",
              "      <td>...</td>\n",
              "      <td>...</td>\n",
              "      <td>...</td>\n",
              "      <td>...</td>\n",
              "      <td>...</td>\n",
              "    </tr>\n",
              "    <tr>\n",
              "      <th>502</th>\n",
              "      <td>215796.0</td>\n",
              "      <td>217446</td>\n",
              "      <td>203998.0</td>\n",
              "      <td>2022</td>\n",
              "      <td>11</td>\n",
              "    </tr>\n",
              "    <tr>\n",
              "      <th>503</th>\n",
              "      <td>191567.0</td>\n",
              "      <td>218387</td>\n",
              "      <td>216909.0</td>\n",
              "      <td>2022</td>\n",
              "      <td>12</td>\n",
              "    </tr>\n",
              "    <tr>\n",
              "      <th>504</th>\n",
              "      <td>152666.0</td>\n",
              "      <td>155458</td>\n",
              "      <td>142826.0</td>\n",
              "      <td>2023</td>\n",
              "      <td>1</td>\n",
              "    </tr>\n",
              "    <tr>\n",
              "      <th>505</th>\n",
              "      <td>161181.0</td>\n",
              "      <td>146759</td>\n",
              "      <td>129900.0</td>\n",
              "      <td>2023</td>\n",
              "      <td>2</td>\n",
              "    </tr>\n",
              "    <tr>\n",
              "      <th>506</th>\n",
              "      <td>221835.0</td>\n",
              "      <td>216090</td>\n",
              "      <td>198909.0</td>\n",
              "      <td>2023</td>\n",
              "      <td>3</td>\n",
              "    </tr>\n",
              "  </tbody>\n",
              "</table>\n",
              "<p>63 rows × 5 columns</p>\n",
              "</div>\n",
              "      <button class=\"colab-df-convert\" onclick=\"convertToInteractive('df-e0abcc8f-4fb2-40dd-9c2e-891902e04b72')\"\n",
              "              title=\"Convert this dataframe to an interactive table.\"\n",
              "              style=\"display:none;\">\n",
              "        \n",
              "  <svg xmlns=\"http://www.w3.org/2000/svg\" height=\"24px\"viewBox=\"0 0 24 24\"\n",
              "       width=\"24px\">\n",
              "    <path d=\"M0 0h24v24H0V0z\" fill=\"none\"/>\n",
              "    <path d=\"M18.56 5.44l.94 2.06.94-2.06 2.06-.94-2.06-.94-.94-2.06-.94 2.06-2.06.94zm-11 1L8.5 8.5l.94-2.06 2.06-.94-2.06-.94L8.5 2.5l-.94 2.06-2.06.94zm10 10l.94 2.06.94-2.06 2.06-.94-2.06-.94-.94-2.06-.94 2.06-2.06.94z\"/><path d=\"M17.41 7.96l-1.37-1.37c-.4-.4-.92-.59-1.43-.59-.52 0-1.04.2-1.43.59L10.3 9.45l-7.72 7.72c-.78.78-.78 2.05 0 2.83L4 21.41c.39.39.9.59 1.41.59.51 0 1.02-.2 1.41-.59l7.78-7.78 2.81-2.81c.8-.78.8-2.07 0-2.86zM5.41 20L4 18.59l7.72-7.72 1.47 1.35L5.41 20z\"/>\n",
              "  </svg>\n",
              "      </button>\n",
              "      \n",
              "  <style>\n",
              "    .colab-df-container {\n",
              "      display:flex;\n",
              "      flex-wrap:wrap;\n",
              "      gap: 12px;\n",
              "    }\n",
              "\n",
              "    .colab-df-convert {\n",
              "      background-color: #E8F0FE;\n",
              "      border: none;\n",
              "      border-radius: 50%;\n",
              "      cursor: pointer;\n",
              "      display: none;\n",
              "      fill: #1967D2;\n",
              "      height: 32px;\n",
              "      padding: 0 0 0 0;\n",
              "      width: 32px;\n",
              "    }\n",
              "\n",
              "    .colab-df-convert:hover {\n",
              "      background-color: #E2EBFA;\n",
              "      box-shadow: 0px 1px 2px rgba(60, 64, 67, 0.3), 0px 1px 3px 1px rgba(60, 64, 67, 0.15);\n",
              "      fill: #174EA6;\n",
              "    }\n",
              "\n",
              "    [theme=dark] .colab-df-convert {\n",
              "      background-color: #3B4455;\n",
              "      fill: #D2E3FC;\n",
              "    }\n",
              "\n",
              "    [theme=dark] .colab-df-convert:hover {\n",
              "      background-color: #434B5C;\n",
              "      box-shadow: 0px 1px 3px 1px rgba(0, 0, 0, 0.15);\n",
              "      filter: drop-shadow(0px 1px 2px rgba(0, 0, 0, 0.3));\n",
              "      fill: #FFFFFF;\n",
              "    }\n",
              "  </style>\n",
              "\n",
              "      <script>\n",
              "        const buttonEl =\n",
              "          document.querySelector('#df-e0abcc8f-4fb2-40dd-9c2e-891902e04b72 button.colab-df-convert');\n",
              "        buttonEl.style.display =\n",
              "          google.colab.kernel.accessAllowed ? 'block' : 'none';\n",
              "\n",
              "        async function convertToInteractive(key) {\n",
              "          const element = document.querySelector('#df-e0abcc8f-4fb2-40dd-9c2e-891902e04b72');\n",
              "          const dataTable =\n",
              "            await google.colab.kernel.invokeFunction('convertToInteractive',\n",
              "                                                     [key], {});\n",
              "          if (!dataTable) return;\n",
              "\n",
              "          const docLinkHtml = 'Like what you see? Visit the ' +\n",
              "            '<a target=\"_blank\" href=https://colab.research.google.com/notebooks/data_table.ipynb>data table notebook</a>'\n",
              "            + ' to learn more about interactive tables.';\n",
              "          element.innerHTML = '';\n",
              "          dataTable['output_type'] = 'display_data';\n",
              "          await google.colab.output.renderOutput(dataTable, element);\n",
              "          const docLink = document.createElement('div');\n",
              "          docLink.innerHTML = docLinkHtml;\n",
              "          element.appendChild(docLink);\n",
              "        }\n",
              "      </script>\n",
              "    </div>\n",
              "  </div>\n",
              "  "
            ]
          },
          "metadata": {},
          "execution_count": 36
        }
      ]
    },
    {
      "cell_type": "code",
      "source": [
        "#carregando o dado tratado a pasta de tratados no bucket\n",
        "df.to_csv('gs://projetofinal1/tratados/producao_vendas.csv',index=False)"
      ],
      "metadata": {
        "id": "uMXsACXxADQB"
      },
      "execution_count": null,
      "outputs": []
    },
    {
      "cell_type": "code",
      "source": [
        "#inserindo os dados tratados no mongo\n",
        "colecao_tratado.insert_many(df.to_dict('records'))"
      ],
      "metadata": {
        "id": "i30lypLrY3WE",
        "colab": {
          "base_uri": "https://localhost:8080/"
        },
        "outputId": "979ad78a-6a6d-4865-8ec0-511b21810ff3"
      },
      "execution_count": null,
      "outputs": [
        {
          "output_type": "execute_result",
          "data": {
            "text/plain": [
              "<pymongo.results.InsertManyResult at 0x7f7594857160>"
            ]
          },
          "metadata": {},
          "execution_count": 139
        }
      ]
    },
    {
      "cell_type": "code",
      "source": [
        "colecao_tratado.count_documents({})"
      ],
      "metadata": {
        "id": "flGzB2kpfDTF",
        "colab": {
          "base_uri": "https://localhost:8080/"
        },
        "outputId": "ccd5e739-1bcb-4c1d-8f02-aaf954703759"
      },
      "execution_count": null,
      "outputs": [
        {
          "output_type": "execute_result",
          "data": {
            "text/plain": [
              "63"
            ]
          },
          "metadata": {},
          "execution_count": 140
        }
      ]
    },
    {
      "cell_type": "code",
      "source": [
        ""
      ],
      "metadata": {
        "id": "YfFe5h3g_5uc"
      },
      "execution_count": null,
      "outputs": []
    }
  ]
}